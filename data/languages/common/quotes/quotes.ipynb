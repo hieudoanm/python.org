{
 "cells": [
  {
   "cell_type": "code",
   "execution_count": 58,
   "metadata": {},
   "outputs": [],
   "source": [
    "import pandas\n",
    "import requests"
   ]
  },
  {
   "cell_type": "code",
   "execution_count": 59,
   "metadata": {},
   "outputs": [
    {
     "name": "stdout",
     "output_type": "stream",
     "text": [
      "page 1 https://api.quotable.io/quotes?page=1&limit=150\n",
      "page 2 https://api.quotable.io/quotes?page=2&limit=150\n",
      "page 3 https://api.quotable.io/quotes?page=3&limit=150\n",
      "page 4 https://api.quotable.io/quotes?page=4&limit=150\n",
      "page 5 https://api.quotable.io/quotes?page=5&limit=150\n",
      "page 6 https://api.quotable.io/quotes?page=6&limit=150\n",
      "page 7 https://api.quotable.io/quotes?page=7&limit=150\n",
      "page 8 https://api.quotable.io/quotes?page=8&limit=150\n",
      "page 9 https://api.quotable.io/quotes?page=9&limit=150\n",
      "page 10 https://api.quotable.io/quotes?page=10&limit=150\n",
      "page 11 https://api.quotable.io/quotes?page=11&limit=150\n",
      "page 12 https://api.quotable.io/quotes?page=12&limit=150\n",
      "page 13 https://api.quotable.io/quotes?page=13&limit=150\n",
      "page 14 https://api.quotable.io/quotes?page=14&limit=150\n",
      "page 15 https://api.quotable.io/quotes?page=15&limit=150\n"
     ]
    }
   ],
   "source": [
    "url = \"https://api.quotable.io/quotes?page=1&limit=150\"\n",
    "response = requests.get(url)\n",
    "data: dict = response.json()\n",
    "totalPages = data.get(\"totalPages\", 0)\n",
    "quotes = []\n",
    "for page in range(1, totalPages + 1):\n",
    "    page_url = f\"https://api.quotable.io/quotes?page={str(page)}&limit=150\"\n",
    "    print(\"page\", page, page_url)\n",
    "    response = requests.get(page_url)\n",
    "    data: dict = response.json()\n",
    "    results = data.get(\"results\", [])\n",
    "    quotes = quotes + results"
   ]
  },
  {
   "cell_type": "code",
   "execution_count": 60,
   "metadata": {},
   "outputs": [
    {
     "data": {
      "text/plain": [
       "2127"
      ]
     },
     "execution_count": 60,
     "metadata": {},
     "output_type": "execute_result"
    }
   ],
   "source": [
    "len(quotes)"
   ]
  },
  {
   "cell_type": "code",
   "execution_count": 61,
   "metadata": {},
   "outputs": [
    {
     "data": {
      "text/html": [
       "<div>\n",
       "<style scoped>\n",
       "    .dataframe tbody tr th:only-of-type {\n",
       "        vertical-align: middle;\n",
       "    }\n",
       "\n",
       "    .dataframe tbody tr th {\n",
       "        vertical-align: top;\n",
       "    }\n",
       "\n",
       "    .dataframe thead th {\n",
       "        text-align: right;\n",
       "    }\n",
       "</style>\n",
       "<table border=\"1\" class=\"dataframe\">\n",
       "  <thead>\n",
       "    <tr style=\"text-align: right;\">\n",
       "      <th></th>\n",
       "      <th>author</th>\n",
       "      <th>content</th>\n",
       "    </tr>\n",
       "  </thead>\n",
       "  <tbody>\n",
       "    <tr>\n",
       "      <th>1823</th>\n",
       "      <td>A. A. Milne</td>\n",
       "      <td>If you live to be a hundred, I want to live to...</td>\n",
       "    </tr>\n",
       "    <tr>\n",
       "      <th>470</th>\n",
       "      <td>A. A. Milne</td>\n",
       "      <td>One of the advantages of being disorderly is t...</td>\n",
       "    </tr>\n",
       "    <tr>\n",
       "      <th>811</th>\n",
       "      <td>A. P. J. Abdul Kalam</td>\n",
       "      <td>Let us sacrifice our today so that our childre...</td>\n",
       "    </tr>\n",
       "    <tr>\n",
       "      <th>601</th>\n",
       "      <td>A. P. J. Abdul Kalam</td>\n",
       "      <td>We should not give up and we should not allow ...</td>\n",
       "    </tr>\n",
       "    <tr>\n",
       "      <th>1488</th>\n",
       "      <td>A. Powell Davies</td>\n",
       "      <td>Life is just a chance to grow a soul.</td>\n",
       "    </tr>\n",
       "    <tr>\n",
       "      <th>...</th>\n",
       "      <td>...</td>\n",
       "      <td>...</td>\n",
       "    </tr>\n",
       "    <tr>\n",
       "      <th>1608</th>\n",
       "      <td>Zig Ziglar</td>\n",
       "      <td>Positive thinking will let you do everything b...</td>\n",
       "    </tr>\n",
       "    <tr>\n",
       "      <th>1599</th>\n",
       "      <td>Zig Ziglar</td>\n",
       "      <td>Remember that failure is an event, not a person.</td>\n",
       "    </tr>\n",
       "    <tr>\n",
       "      <th>1991</th>\n",
       "      <td>Zig Ziglar</td>\n",
       "      <td>What you get by achieving your goals is not as...</td>\n",
       "    </tr>\n",
       "    <tr>\n",
       "      <th>1070</th>\n",
       "      <td>Zig Ziglar</td>\n",
       "      <td>You are the only person on earth who can use y...</td>\n",
       "    </tr>\n",
       "    <tr>\n",
       "      <th>905</th>\n",
       "      <td>Zig Ziglar</td>\n",
       "      <td>Your attitude, not your aptitude, will determi...</td>\n",
       "    </tr>\n",
       "  </tbody>\n",
       "</table>\n",
       "<p>2086 rows × 2 columns</p>\n",
       "</div>"
      ],
      "text/plain": [
       "                    author                                            content\n",
       "1823           A. A. Milne  If you live to be a hundred, I want to live to...\n",
       "470            A. A. Milne  One of the advantages of being disorderly is t...\n",
       "811   A. P. J. Abdul Kalam  Let us sacrifice our today so that our childre...\n",
       "601   A. P. J. Abdul Kalam  We should not give up and we should not allow ...\n",
       "1488      A. Powell Davies              Life is just a chance to grow a soul.\n",
       "...                    ...                                                ...\n",
       "1608            Zig Ziglar  Positive thinking will let you do everything b...\n",
       "1599            Zig Ziglar   Remember that failure is an event, not a person.\n",
       "1991            Zig Ziglar  What you get by achieving your goals is not as...\n",
       "1070            Zig Ziglar  You are the only person on earth who can use y...\n",
       "905             Zig Ziglar  Your attitude, not your aptitude, will determi...\n",
       "\n",
       "[2086 rows x 2 columns]"
      ]
     },
     "execution_count": 61,
     "metadata": {},
     "output_type": "execute_result"
    }
   ],
   "source": [
    "quotes_df = pandas.DataFrame(quotes)\n",
    "quotes_df = quotes_df[[\"author\", \"content\"]]\n",
    "quotes_df = quotes_df.sort_values(by=[\"author\", \"content\"])\n",
    "quotes_df = quotes_df.drop_duplicates(subset=[\"author\", \"content\"])\n",
    "quotes_df.to_csv(\"./eng/quotes.csv\", index=False)\n",
    "quotes_df"
   ]
  },
  {
   "cell_type": "code",
   "execution_count": 63,
   "metadata": {},
   "outputs": [
    {
     "data": {
      "text/plain": [
       "(2086, 2)"
      ]
     },
     "execution_count": 63,
     "metadata": {},
     "output_type": "execute_result"
    }
   ],
   "source": [
    "quotes_df.shape"
   ]
  }
 ],
 "metadata": {
  "kernelspec": {
   "display_name": "Python 3",
   "language": "python",
   "name": "python3"
  },
  "language_info": {
   "codemirror_mode": {
    "name": "ipython",
    "version": 3
   },
   "file_extension": ".py",
   "mimetype": "text/x-python",
   "name": "python",
   "nbconvert_exporter": "python",
   "pygments_lexer": "ipython3",
   "version": "3.12.3"
  }
 },
 "nbformat": 4,
 "nbformat_minor": 2
}
