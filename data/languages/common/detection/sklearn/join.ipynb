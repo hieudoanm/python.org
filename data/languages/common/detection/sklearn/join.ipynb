{
 "cells": [
  {
   "cell_type": "markdown",
   "metadata": {},
   "source": [
    "[Using machine learning for language detection](https://heartbeat.comet.ml/using-machine-learning-for-language-detection-517fa6e68f22)"
   ]
  },
  {
   "cell_type": "code",
   "execution_count": 25,
   "metadata": {},
   "outputs": [],
   "source": [
    "from pandas import concat, read_csv, DataFrame\n",
    "from os import walk"
   ]
  },
  {
   "cell_type": "code",
   "execution_count": 26,
   "metadata": {},
   "outputs": [],
   "source": [
    "path: str = \"./training\""
   ]
  },
  {
   "cell_type": "code",
   "execution_count": 27,
   "metadata": {},
   "outputs": [
    {
     "data": {
      "text/plain": [
       "74"
      ]
     },
     "execution_count": 27,
     "metadata": {},
     "output_type": "execute_result"
    }
   ],
   "source": [
    "files = []\n",
    "for dirpath, dirnames, filenames in walk(path):\n",
    "    files.extend(filenames)\n",
    "files.sort()\n",
    "len(files)"
   ]
  },
  {
   "cell_type": "code",
   "execution_count": 28,
   "metadata": {},
   "outputs": [
    {
     "data": {
      "text/html": [
       "<div>\n",
       "<style scoped>\n",
       "    .dataframe tbody tr th:only-of-type {\n",
       "        vertical-align: middle;\n",
       "    }\n",
       "\n",
       "    .dataframe tbody tr th {\n",
       "        vertical-align: top;\n",
       "    }\n",
       "\n",
       "    .dataframe thead th {\n",
       "        text-align: right;\n",
       "    }\n",
       "</style>\n",
       "<table border=\"1\" class=\"dataframe\">\n",
       "  <thead>\n",
       "    <tr style=\"text-align: right;\">\n",
       "      <th></th>\n",
       "      <th>Text</th>\n",
       "      <th>Language</th>\n",
       "    </tr>\n",
       "  </thead>\n",
       "  <tbody>\n",
       "    <tr>\n",
       "      <th>0</th>\n",
       "      <td>In die begin het God die hemel en die aarde ge...</td>\n",
       "      <td>Afrikaans</td>\n",
       "    </tr>\n",
       "    <tr>\n",
       "      <th>1</th>\n",
       "      <td>En die aarde was woes en leeg, en duisternis w...</td>\n",
       "      <td>Afrikaans</td>\n",
       "    </tr>\n",
       "    <tr>\n",
       "      <th>2</th>\n",
       "      <td>En God het gesê: Laat daar lig wees! En daar w...</td>\n",
       "      <td>Afrikaans</td>\n",
       "    </tr>\n",
       "    <tr>\n",
       "      <th>3</th>\n",
       "      <td>Toe sien God dat die lig goed was. En God het ...</td>\n",
       "      <td>Afrikaans</td>\n",
       "    </tr>\n",
       "    <tr>\n",
       "      <th>4</th>\n",
       "      <td>en God het die lig dag genoem, en die duistern...</td>\n",
       "      <td>Afrikaans</td>\n",
       "    </tr>\n",
       "    <tr>\n",
       "      <th>...</th>\n",
       "      <td>...</td>\n",
       "      <td>...</td>\n",
       "    </tr>\n",
       "    <tr>\n",
       "      <th>395</th>\n",
       "      <td>Ngalokho umthombo wabizwa ngokuthi iBeri Lahay...</td>\n",
       "      <td>Zulu</td>\n",
       "    </tr>\n",
       "    <tr>\n",
       "      <th>396</th>\n",
       "      <td>UHagari wamzalela u-Abrama indodana; u-Abrama ...</td>\n",
       "      <td>Zulu</td>\n",
       "    </tr>\n",
       "    <tr>\n",
       "      <th>397</th>\n",
       "      <td>U-Abrama wayeneminyaka engamashumi ayisishiyag...</td>\n",
       "      <td>Zulu</td>\n",
       "    </tr>\n",
       "    <tr>\n",
       "      <th>398</th>\n",
       "      <td>U-Abrama eneminyaka engamashumi ayisishiyagalo...</td>\n",
       "      <td>Zulu</td>\n",
       "    </tr>\n",
       "    <tr>\n",
       "      <th>399</th>\n",
       "      <td>Ngiyakwenza isivumelwano sami phakathi kwami n...</td>\n",
       "      <td>Zulu</td>\n",
       "    </tr>\n",
       "  </tbody>\n",
       "</table>\n",
       "<p>22797 rows × 2 columns</p>\n",
       "</div>"
      ],
      "text/plain": [
       "                                                  Text   Language\n",
       "0    In die begin het God die hemel en die aarde ge...  Afrikaans\n",
       "1    En die aarde was woes en leeg, en duisternis w...  Afrikaans\n",
       "2    En God het gesê: Laat daar lig wees! En daar w...  Afrikaans\n",
       "3    Toe sien God dat die lig goed was. En God het ...  Afrikaans\n",
       "4    en God het die lig dag genoem, en die duistern...  Afrikaans\n",
       "..                                                 ...        ...\n",
       "395  Ngalokho umthombo wabizwa ngokuthi iBeri Lahay...       Zulu\n",
       "396  UHagari wamzalela u-Abrama indodana; u-Abrama ...       Zulu\n",
       "397  U-Abrama wayeneminyaka engamashumi ayisishiyag...       Zulu\n",
       "398  U-Abrama eneminyaka engamashumi ayisishiyagalo...       Zulu\n",
       "399  Ngiyakwenza isivumelwano sami phakathi kwami n...       Zulu\n",
       "\n",
       "[22797 rows x 2 columns]"
      ]
     },
     "execution_count": 28,
     "metadata": {},
     "output_type": "execute_result"
    }
   ],
   "source": [
    "languages_data_frame: DataFrame = DataFrame(\n",
    "    data={\"Text\": [], \"Language\": []}, columns=[\"Text\", \"Language\"]\n",
    ")\n",
    "for file in files:\n",
    "    language_data_frame: DataFrame = read_csv(f\"{path}/{file}\")\n",
    "    language_data_frame_first_400 = language_data_frame.head(400)\n",
    "    languages_data_frame = concat([languages_data_frame, language_data_frame_first_400])\n",
    "languages_data_frame.to_csv(\"./full_dataset.csv\", index=False)\n",
    "languages_data_frame"
   ]
  },
  {
   "cell_type": "code",
   "execution_count": 29,
   "metadata": {},
   "outputs": [
    {
     "data": {
      "text/plain": [
       "['Afrikaans',\n",
       " 'Albanian',\n",
       " 'Amharic',\n",
       " 'Arabic',\n",
       " 'Armenian',\n",
       " 'Basque',\n",
       " 'Bengali',\n",
       " 'Bulgarian',\n",
       " 'Chinese',\n",
       " 'Creole',\n",
       " 'Croatian',\n",
       " 'Czech',\n",
       " 'Danish',\n",
       " 'Dutch',\n",
       " 'English',\n",
       " 'Esperanto',\n",
       " 'Estonian',\n",
       " 'Farsi',\n",
       " 'Finnish',\n",
       " 'French',\n",
       " 'German',\n",
       " 'Greek',\n",
       " 'Gujarati',\n",
       " 'Hebrew',\n",
       " 'Hindi',\n",
       " 'Hungarian',\n",
       " 'Icelandic',\n",
       " 'Indonesian',\n",
       " 'Italian',\n",
       " 'Japanese',\n",
       " 'Kannada',\n",
       " 'Korean',\n",
       " 'Latin',\n",
       " 'Latvian',\n",
       " 'Lithuanian',\n",
       " 'Malayalam',\n",
       " 'Marathi',\n",
       " 'Myanmar',\n",
       " 'Nepali',\n",
       " 'Norwegian',\n",
       " 'Oriya',\n",
       " 'Polish',\n",
       " 'Portugeese',\n",
       " 'Romanian',\n",
       " 'Russian',\n",
       " 'Serbian',\n",
       " 'Slovak',\n",
       " 'Somali',\n",
       " 'Spanish',\n",
       " 'Swedish',\n",
       " 'Tamil',\n",
       " 'Telugu',\n",
       " 'Thai',\n",
       " 'Turkish',\n",
       " 'Ukranian',\n",
       " 'Vietnamese',\n",
       " 'Xhosa',\n",
       " 'Zulu']"
      ]
     },
     "execution_count": 29,
     "metadata": {},
     "output_type": "execute_result"
    }
   ],
   "source": [
    "languages = list(languages_data_frame[\"Language\"].unique())\n",
    "languages"
   ]
  },
  {
   "cell_type": "code",
   "execution_count": 30,
   "metadata": {},
   "outputs": [
    {
     "data": {
      "text/plain": [
       "58"
      ]
     },
     "execution_count": 30,
     "metadata": {},
     "output_type": "execute_result"
    }
   ],
   "source": [
    "len(languages)"
   ]
  }
 ],
 "metadata": {
  "kernelspec": {
   "display_name": "models-2qwp6LdY",
   "language": "python",
   "name": "python3"
  },
  "language_info": {
   "codemirror_mode": {
    "name": "ipython",
    "version": 3
   },
   "file_extension": ".py",
   "mimetype": "text/x-python",
   "name": "python",
   "nbconvert_exporter": "python",
   "pygments_lexer": "ipython3",
   "version": "3.12.3"
  }
 },
 "nbformat": 4,
 "nbformat_minor": 2
}
