{
 "cells": [
  {
   "cell_type": "code",
   "execution_count": 53,
   "metadata": {},
   "outputs": [],
   "source": [
    "import pandas as pd\n",
    "import requests"
   ]
  },
  {
   "cell_type": "code",
   "execution_count": 54,
   "metadata": {},
   "outputs": [],
   "source": [
    "language = \"Zulu\"\n",
    "response = requests.get(\n",
    "    f\"https://raw.githubusercontent.com/godlytalias/Bible-Database/master/{language}/bible.json\"\n",
    ")\n",
    "data: dict = response.json()"
   ]
  },
  {
   "cell_type": "code",
   "execution_count": 55,
   "metadata": {},
   "outputs": [
    {
     "data": {
      "text/plain": [
       "31102"
      ]
     },
     "execution_count": 55,
     "metadata": {},
     "output_type": "execute_result"
    }
   ],
   "source": [
    "sentences = []\n",
    "books = data.get(\"Book\", [])\n",
    "for book in books:\n",
    "    chapters = book.get(\"Chapter\", [])\n",
    "    for chapter in chapters:\n",
    "        verses = chapter.get(\"Verse\", [])\n",
    "        for verse in verses:\n",
    "            sentence: str = verse.get(\"Verse\", \"\")\n",
    "            sentences.append({\"Text\": sentence.replace('\"', \"\"), \"Language\": language})\n",
    "len(sentences)"
   ]
  },
  {
   "cell_type": "code",
   "execution_count": 56,
   "metadata": {},
   "outputs": [],
   "source": [
    "df = pd.DataFrame(sentences)\n",
    "df.to_csv(f\"./training/{language}.csv\", index=False)"
   ]
  }
 ],
 "metadata": {
  "kernelspec": {
   "display_name": "models-2qwp6LdY",
   "language": "python",
   "name": "python3"
  },
  "language_info": {
   "codemirror_mode": {
    "name": "ipython",
    "version": 3
   },
   "file_extension": ".py",
   "mimetype": "text/x-python",
   "name": "python",
   "nbconvert_exporter": "python",
   "pygments_lexer": "ipython3",
   "version": "3.12.3"
  }
 },
 "nbformat": 4,
 "nbformat_minor": 2
}
