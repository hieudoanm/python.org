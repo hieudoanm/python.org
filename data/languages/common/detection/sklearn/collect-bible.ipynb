{
 "cells": [
  {
   "cell_type": "code",
   "execution_count": 13,
   "metadata": {},
   "outputs": [],
   "source": [
    "import pandas as pd\n",
    "import requests\n",
    "import xmltodict"
   ]
  },
  {
   "cell_type": "code",
   "execution_count": 14,
   "metadata": {},
   "outputs": [],
   "source": [
    "def get_values_of_key(dictionary: dict, key: str):\n",
    "    values = []\n",
    "    for k, v in dictionary.items():\n",
    "        if k == key:\n",
    "            values.append(v)\n",
    "        elif isinstance(v, dict):\n",
    "            values.extend(get_values_of_key(v, key))\n",
    "        elif isinstance(v, list):\n",
    "            for item in v:\n",
    "                if isinstance(item, dict):\n",
    "                    values.extend(get_values_of_key(item, key))\n",
    "    return values"
   ]
  },
  {
   "cell_type": "code",
   "execution_count": 15,
   "metadata": {},
   "outputs": [],
   "source": [
    "language = \"Marathi\"\n",
    "suffix = \"\"\n",
    "response = requests.get(\n",
    "    f\"https://raw.githubusercontent.com/christos-c/bible-corpus/master/bibles/{language}{suffix}.xml\"\n",
    ")\n",
    "data_xml = response.text"
   ]
  },
  {
   "cell_type": "code",
   "execution_count": 16,
   "metadata": {},
   "outputs": [],
   "source": [
    "data_dict = xmltodict.parse(data_xml)\n",
    "text_dict = data_dict.get(\"cesDoc\", {}).get(\"text\", {})"
   ]
  },
  {
   "cell_type": "code",
   "execution_count": 17,
   "metadata": {},
   "outputs": [],
   "source": [
    "text: list[str] = get_values_of_key(text_dict, \"#text\")\n",
    "sentences: list = list(\n",
    "    map(lambda sentence: {\"Text\": sentence, \"Language\": language}, text)\n",
    ")"
   ]
  },
  {
   "cell_type": "code",
   "execution_count": 18,
   "metadata": {},
   "outputs": [],
   "source": [
    "df = pd.DataFrame(sentences)\n",
    "df = df[df[\"Text\"] != \"\"]\n",
    "df.to_csv(f\"./training/{language}.csv\", index=False)"
   ]
  }
 ],
 "metadata": {
  "kernelspec": {
   "display_name": "Python 3",
   "language": "python",
   "name": "python3"
  },
  "language_info": {
   "codemirror_mode": {
    "name": "ipython",
    "version": 3
   },
   "file_extension": ".py",
   "mimetype": "text/x-python",
   "name": "python",
   "nbconvert_exporter": "python",
   "pygments_lexer": "ipython3",
   "version": "3.12.3"
  }
 },
 "nbformat": 4,
 "nbformat_minor": 2
}
