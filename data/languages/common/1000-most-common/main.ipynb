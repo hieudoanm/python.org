{
 "cells": [
  {
   "attachments": {},
   "cell_type": "markdown",
   "metadata": {},
   "source": [
    "# Quotes"
   ]
  },
  {
   "cell_type": "code",
   "execution_count": 1,
   "metadata": {},
   "outputs": [],
   "source": [
    "from bs4 import BeautifulSoup\n",
    "import os\n",
    "import pandas as pd\n",
    "import requests\n",
    "import shutil\n",
    "from tqdm.notebook import tqdm_notebook"
   ]
  },
  {
   "attachments": {},
   "cell_type": "markdown",
   "metadata": {},
   "source": [
    "## Constants"
   ]
  },
  {
   "cell_type": "code",
   "execution_count": 2,
   "metadata": {},
   "outputs": [],
   "source": [
    "TIMEOUT = 30\n",
    "LANGUAGES_URL = \"https://1000mostcommonwords.com/languages/\""
   ]
  },
  {
   "attachments": {},
   "cell_type": "markdown",
   "metadata": {},
   "source": [
    "## Get Languages"
   ]
  },
  {
   "cell_type": "code",
   "execution_count": 3,
   "metadata": {},
   "outputs": [],
   "source": [
    "languages_response = requests.get(LANGUAGES_URL, timeout=TIMEOUT)\n",
    "languages_html = languages_response.text\n",
    "languages_soup = BeautifulSoup(languages_html, \"html.parser\")\n",
    "list_items = languages_soup.find_all(\"li\")"
   ]
  },
  {
   "attachments": {},
   "cell_type": "markdown",
   "metadata": {},
   "source": [
    "## Get 1000 Most Common Words"
   ]
  },
  {
   "cell_type": "code",
   "execution_count": 4,
   "metadata": {},
   "outputs": [],
   "source": [
    "def chunks(list, n):\n",
    "    # looping till length l\n",
    "    for i in range(0, len(list), n):\n",
    "        yield list[i : i + n]"
   ]
  },
  {
   "cell_type": "code",
   "execution_count": 5,
   "metadata": {},
   "outputs": [],
   "source": [
    "def get_words(link: str, column: str):\n",
    "    try:\n",
    "        response = requests.get(link, timeout=TIMEOUT)\n",
    "        html = response.text\n",
    "        beautiful_soup = BeautifulSoup(html, \"html.parser\")\n",
    "        tables = beautiful_soup.find_all(\"table\")\n",
    "        words = []\n",
    "        # Process Tablee\n",
    "        for _, table in enumerate(tables):\n",
    "            rows = table.find(\"tbody\").find_all(\"tr\")\n",
    "            for row in rows:\n",
    "                cells = row.find_all(\"td\")\n",
    "                cells_list = list(cells)\n",
    "                number_text = cells_list[0].getText().strip().lower()\n",
    "                language_text = cells_list[1].getText().strip().lower()\n",
    "                english_text = cells_list[2].getText().strip().lower()\n",
    "                if \"number\" != number_text:\n",
    "                    word = {\n",
    "                        \"language\": column,\n",
    "                        \"english\": english_text,\n",
    "                        \"vocabulary\": language_text,\n",
    "                    }\n",
    "                    words.append(word)\n",
    "        sorted_words = sorted(words, key=lambda h: h[\"english\"])\n",
    "        return sorted_words\n",
    "    except Exception as exception:\n",
    "        print(exception)\n",
    "        return []"
   ]
  },
  {
   "cell_type": "code",
   "execution_count": 6,
   "metadata": {},
   "outputs": [],
   "source": [
    "os.makedirs(\"temp\", exist_ok=True)"
   ]
  },
  {
   "cell_type": "code",
   "execution_count": 7,
   "metadata": {},
   "outputs": [
    {
     "data": {
      "application/vnd.jupyter.widget-view+json": {
       "model_id": "19ee10aba3db472fb3b18e5f74b8163a",
       "version_major": 2,
       "version_minor": 0
      },
      "text/plain": [
       "  0%|          | 0/30 [00:00<?, ?it/s]"
      ]
     },
     "metadata": {},
     "output_type": "display_data"
    },
    {
     "name": "stdout",
     "output_type": "stream",
     "text": [
      "link http://www.1000mostcommonwords.com/1000-most-common-afrikaans-words\n",
      "link https://1000mostcommonwords.com/1000-most-common-amharic-words/\n"
     ]
    },
    {
     "data": {
      "application/vnd.jupyter.widget-view+json": {
       "model_id": "d290635387244d778da267bf1abf0f64",
       "version_major": 2,
       "version_minor": 0
      },
      "text/plain": [
       "  0%|          | 0/30 [00:00<?, ?it/s]"
      ]
     },
     "metadata": {},
     "output_type": "display_data"
    },
    {
     "data": {
      "application/vnd.jupyter.widget-view+json": {
       "model_id": "65a0762528184a5190176aab61b7acd3",
       "version_major": 2,
       "version_minor": 0
      },
      "text/plain": [
       "  0%|          | 0/30 [00:00<?, ?it/s]"
      ]
     },
     "metadata": {},
     "output_type": "display_data"
    },
    {
     "data": {
      "application/vnd.jupyter.widget-view+json": {
       "model_id": "ffe088c4fbb248fc944df307419cdd8c",
       "version_major": 2,
       "version_minor": 0
      },
      "text/plain": [
       "  0%|          | 0/30 [00:00<?, ?it/s]"
      ]
     },
     "metadata": {},
     "output_type": "display_data"
    },
    {
     "name": "stdout",
     "output_type": "stream",
     "text": [
      "link http://www.1000mostcommonwords.com/1000-most-common-yoruba-words\n"
     ]
    },
    {
     "data": {
      "application/vnd.jupyter.widget-view+json": {
       "model_id": "6f7fed38300f4d6d84f4627cd8a2c39d",
       "version_major": 2,
       "version_minor": 0
      },
      "text/plain": [
       "  0%|          | 0/1 [00:00<?, ?it/s]"
      ]
     },
     "metadata": {},
     "output_type": "display_data"
    },
    {
     "data": {
      "text/plain": [
       "913"
      ]
     },
     "execution_count": 7,
     "metadata": {},
     "output_type": "execute_result"
    }
   ],
   "source": [
    "languages = []\n",
    "\n",
    "chunks_list_items = chunks(list_items, 30)\n",
    "\n",
    "for chunk_list_items in chunks_list_items:\n",
    "    for list_item in tqdm_notebook(chunk_list_items):\n",
    "        anchor = list_item.find(\"a\", href=True)\n",
    "        language = anchor.text.lower()\n",
    "        file_name = \"-\".join(language.split(\" \"))\n",
    "        column = \"_\".join(language.split(\" \"))\n",
    "        link = anchor.get(\"href\", \"\")\n",
    "        if \"1000-most-common\" in link and language != \"english\":\n",
    "            try:\n",
    "                words = get_words(link, column)\n",
    "                languages.append(language)\n",
    "                words_data_frame = pd.DataFrame(words)\n",
    "                words_data_frame = words_data_frame.drop_duplicates()\n",
    "                words_data_frame = words_data_frame.sort_values(by=[\"english\"])\n",
    "                words_data_frame.to_csv(\n",
    "                    f\"./temp/{language}.csv\", index=False, header=True\n",
    "                )\n",
    "            except Exception:\n",
    "                print(\"link\", link)\n",
    "\n",
    "languages.sort()\n",
    "\n",
    "languages_file = open(\"./languages.txt\", \"w\")\n",
    "languages_file.write(\"\\n\".join(languages))"
   ]
  },
  {
   "cell_type": "code",
   "execution_count": 8,
   "metadata": {},
   "outputs": [],
   "source": [
    "csv_files = []\n",
    "\n",
    "for root, _, files in os.walk(\"./temp\"):\n",
    "    for file in files:\n",
    "        if file.endswith(\".csv\"):\n",
    "            csv_files.append(os.path.join(root, file))\n",
    "\n",
    "data_frames = []\n",
    "for csv_file in csv_files:\n",
    "    data_frame = pd.read_csv(csv_file)\n",
    "    data_frames.append(data_frame)\n",
    "\n",
    "languages_data_frame = pd.concat(data_frames, ignore_index=True)\n",
    "languages_data_frame = languages_data_frame.sort_values(by=[\"language\", \"english\"])\n",
    "languages_data_frame.to_csv(\"./languages.csv\", index=False)"
   ]
  },
  {
   "cell_type": "code",
   "execution_count": 9,
   "metadata": {},
   "outputs": [],
   "source": [
    "shutil.rmtree(\"./temp\")"
   ]
  }
 ],
 "metadata": {
  "kernelspec": {
   "display_name": "Python 3",
   "language": "python",
   "name": "python3"
  },
  "language_info": {
   "codemirror_mode": {
    "name": "ipython",
    "version": 3
   },
   "file_extension": ".py",
   "mimetype": "text/x-python",
   "name": "python",
   "nbconvert_exporter": "python",
   "pygments_lexer": "ipython3",
   "version": "3.11.6"
  },
  "orig_nbformat": 4
 },
 "nbformat": 4,
 "nbformat_minor": 2
}
