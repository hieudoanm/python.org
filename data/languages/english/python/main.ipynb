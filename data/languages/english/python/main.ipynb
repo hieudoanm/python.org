{
 "cells": [
  {
   "cell_type": "markdown",
   "metadata": {},
   "source": [
    "# Words API"
   ]
  },
  {
   "cell_type": "code",
   "execution_count": null,
   "metadata": {},
   "outputs": [],
   "source": [
    "import os\n",
    "import psutil\n",
    "\n",
    "\n",
    "def check_cpu_info():\n",
    "    print(f\"Number of physical cores: {psutil.cpu_count(logical=False)}\")\n",
    "    print(f\"Number of logical processors: {psutil.cpu_count(logical=True)}\")\n",
    "    print(f\"CPU frequency: {psutil.cpu_freq().current:.2f} MHz\")\n",
    "    print(f\"CPU usage: {psutil.cpu_percent(interval=1)}%\")\n",
    "\n",
    "\n",
    "check_cpu_info()"
   ]
  },
  {
   "cell_type": "markdown",
   "metadata": {},
   "source": [
    "## Get All Words"
   ]
  },
  {
   "cell_type": "code",
   "execution_count": null,
   "metadata": {},
   "outputs": [
    {
     "name": "stdout",
     "output_type": "stream",
     "text": [
      "https://www.wordsapi.com/mashape/words?when=2025-01-27T12:41:36.901Z&encrypted=8cfdb18fe722929be89607beed58bab8aeb32b0939ff96b8&limit=1000000\n",
      "325331\n"
     ]
    }
   ],
   "source": [
    "import json\n",
    "import requests\n",
    "\n",
    "encrypted = \"8cfdb18fe722929be89607beed58bab8aeb32b0939ff96b8\"\n",
    "when = \"2025-01-27T12:41:36.901Z\"\n",
    "limit = 1000000\n",
    "\n",
    "url = f\"https://www.wordsapi.com/mashape/words?when={when}&encrypted={encrypted}&limit={limit}\"\n",
    "print(url)\n",
    "response = requests.get(url)\n",
    "data: dict = response.json()\n",
    "results = data.get(\"results\")\n",
    "total = results.get(\"total\")\n",
    "print(total)\n",
    "words = results.get(\"data\", [])\n",
    "with open(\"./words.json\", \"w\") as words_json_file:\n",
    "    json.dump(words, words_json_file, indent=2)\n",
    "with open(\"./words.txt\", \"w\") as words_text_file:\n",
    "    words_text_file.write(\"\\n\".join(words))"
   ]
  },
  {
   "cell_type": "markdown",
   "metadata": {},
   "source": [
    "## Count Words by Alphabet"
   ]
  },
  {
   "cell_type": "code",
   "execution_count": null,
   "metadata": {},
   "outputs": [],
   "source": [
    "import json\n",
    "\n",
    "with open(\"./json/words.json\", \"r\") as file:\n",
    "    words = json.load(file)\n",
    "\n",
    "count = {}\n",
    "\n",
    "for word in words:\n",
    "    first = word[0]\n",
    "    if first in count:\n",
    "        count[first] += 1\n",
    "    else:\n",
    "        count[first] = 1\n",
    "\n",
    "sorted_count = {k: v for k, v in sorted(count.items(), key=lambda item: item[1])}\n",
    "sorted_count"
   ]
  },
  {
   "cell_type": "code",
   "execution_count": 270,
   "metadata": {},
   "outputs": [
    {
     "name": "stdout",
     "output_type": "stream",
     "text": [
      "Count words\n",
      "[]\n",
      "325282\n"
     ]
    }
   ],
   "source": [
    "import os\n",
    "\n",
    "print(\"Count words\")\n",
    "words_folder: str = \"./json/words\"\n",
    "words_files: list[str] = os.listdir(words_folder)\n",
    "words_files_with_slash = [item for item in words_files if \"U+002F\" in item]\n",
    "print(words_files_with_slash)\n",
    "for word in words_files_with_slash:\n",
    "    file_path = os.path.join(words_folder, word)\n",
    "    print(file_path)\n",
    "    os.remove(file_path)\n",
    "print(len(words_files))"
   ]
  },
  {
   "cell_type": "markdown",
   "metadata": {},
   "source": [
    "## Get Words"
   ]
  },
  {
   "cell_type": "code",
   "execution_count": 3,
   "metadata": {},
   "outputs": [
    {
     "name": "stdout",
     "output_type": "stream",
     "text": [
      "Count words\n",
      "Left words\n",
      "49\n",
      "https://www.wordsapi.com/mashape/words/20%2F20?when=2025-01-27T12:41:36.901Z&encrypted=8cfdb18fe722929be89607beed58bab8aeb32b0939ff96b8\n",
      "https://www.wordsapi.com/mashape/words/24%2F7?when=2025-01-27T12:41:36.901Z&encrypted=8cfdb18fe722929be89607beed58bab8aeb32b0939ff96b8\n",
      "https://www.wordsapi.com/mashape/words/9%2F11?when=2025-01-27T12:41:36.901Z&encrypted=8cfdb18fe722929be89607beed58bab8aeb32b0939ff96b8\n",
      "https://www.wordsapi.com/mashape/words/a%2Fc?when=2025-01-27T12:41:36.901Z&encrypted=8cfdb18fe722929be89607beed58bab8aeb32b0939ff96b8\n",
      "https://www.wordsapi.com/mashape/words/and%2For?when=2025-01-27T12:41:36.901Z&encrypted=8cfdb18fe722929be89607beed58bab8aeb32b0939ff96b8\n",
      "https://www.wordsapi.com/mashape/words/ay%2Finj?when=2025-01-27T12:41:36.901Z&encrypted=8cfdb18fe722929be89607beed58bab8aeb32b0939ff96b8\n",
      "https://www.wordsapi.com/mashape/words/b%2Ff?when=2025-01-27T12:41:36.901Z&encrypted=8cfdb18fe722929be89607beed58bab8aeb32b0939ff96b8\n",
      "https://www.wordsapi.com/mashape/words/b%2Fl?when=2025-01-27T12:41:36.901Z&encrypted=8cfdb18fe722929be89607beed58bab8aeb32b0939ff96b8\n",
      "https://www.wordsapi.com/mashape/words/b%2Fs?when=2025-01-27T12:41:36.901Z&encrypted=8cfdb18fe722929be89607beed58bab8aeb32b0939ff96b8\n",
      "https://www.wordsapi.com/mashape/words/bs%2Fl?when=2025-01-27T12:41:36.901Z&encrypted=8cfdb18fe722929be89607beed58bab8aeb32b0939ff96b8\n",
      "https://www.wordsapi.com/mashape/words/c%2Fa?when=2025-01-27T12:41:36.901Z&encrypted=8cfdb18fe722929be89607beed58bab8aeb32b0939ff96b8\n",
      "https://www.wordsapi.com/mashape/words/c%2Fd?when=2025-01-27T12:41:36.901Z&encrypted=8cfdb18fe722929be89607beed58bab8aeb32b0939ff96b8\n",
      "https://www.wordsapi.com/mashape/words/c%2Ff?when=2025-01-27T12:41:36.901Z&encrypted=8cfdb18fe722929be89607beed58bab8aeb32b0939ff96b8\n",
      "https://www.wordsapi.com/mashape/words/c%2Fn?when=2025-01-27T12:41:36.901Z&encrypted=8cfdb18fe722929be89607beed58bab8aeb32b0939ff96b8\n",
      "https://www.wordsapi.com/mashape/words/c%2Fo?when=2025-01-27T12:41:36.901Z&encrypted=8cfdb18fe722929be89607beed58bab8aeb32b0939ff96b8\n",
      "https://www.wordsapi.com/mashape/words/counts%2Fminute?when=2025-01-27T12:41:36.901Z&encrypted=8cfdb18fe722929be89607beed58bab8aeb32b0939ff96b8\n",
      "https://www.wordsapi.com/mashape/words/cycles%2Fsecond?when=2025-01-27T12:41:36.901Z&encrypted=8cfdb18fe722929be89607beed58bab8aeb32b0939ff96b8\n",
      "https://www.wordsapi.com/mashape/words/d%2Fa?when=2025-01-27T12:41:36.901Z&encrypted=8cfdb18fe722929be89607beed58bab8aeb32b0939ff96b8\n",
      "https://www.wordsapi.com/mashape/words/d%2Ff?when=2025-01-27T12:41:36.901Z&encrypted=8cfdb18fe722929be89607beed58bab8aeb32b0939ff96b8\n",
      "https://www.wordsapi.com/mashape/words/d%2Fl?when=2025-01-27T12:41:36.901Z&encrypted=8cfdb18fe722929be89607beed58bab8aeb32b0939ff96b8\n",
      "https://www.wordsapi.com/mashape/words/d%2Fo?when=2025-01-27T12:41:36.901Z&encrypted=8cfdb18fe722929be89607beed58bab8aeb32b0939ff96b8\n",
      "https://www.wordsapi.com/mashape/words/d%2Fw?when=2025-01-27T12:41:36.901Z&encrypted=8cfdb18fe722929be89607beed58bab8aeb32b0939ff96b8\n",
      "https://www.wordsapi.com/mashape/words/gangway%2Finj?when=2025-01-27T12:41:36.901Z&encrypted=8cfdb18fe722929be89607beed58bab8aeb32b0939ff96b8\n",
      "https://www.wordsapi.com/mashape/words/i%2Fc?when=2025-01-27T12:41:36.901Z&encrypted=8cfdb18fe722929be89607beed58bab8aeb32b0939ff96b8\n",
      "https://www.wordsapi.com/mashape/words/i%2Fo?when=2025-01-27T12:41:36.901Z&encrypted=8cfdb18fe722929be89607beed58bab8aeb32b0939ff96b8\n",
      "https://www.wordsapi.com/mashape/words/input%2Foutput?when=2025-01-27T12:41:36.901Z&encrypted=8cfdb18fe722929be89607beed58bab8aeb32b0939ff96b8\n",
      "https://www.wordsapi.com/mashape/words/km%2Fh?when=2025-01-27T12:41:36.901Z&encrypted=8cfdb18fe722929be89607beed58bab8aeb32b0939ff96b8\n",
      "https://www.wordsapi.com/mashape/words/l%2Fc?when=2025-01-27T12:41:36.901Z&encrypted=8cfdb18fe722929be89607beed58bab8aeb32b0939ff96b8\n",
      "https://www.wordsapi.com/mashape/words/lm%2Fm?when=2025-01-27T12:41:36.901Z&encrypted=8cfdb18fe722929be89607beed58bab8aeb32b0939ff96b8\n",
      "https://www.wordsapi.com/mashape/words/lo%2Fovral?when=2025-01-27T12:41:36.901Z&encrypted=8cfdb18fe722929be89607beed58bab8aeb32b0939ff96b8\n",
      "https://www.wordsapi.com/mashape/words/n%2Ff?when=2025-01-27T12:41:36.901Z&encrypted=8cfdb18fe722929be89607beed58bab8aeb32b0939ff96b8\n",
      "https://www.wordsapi.com/mashape/words/n%2Fs%2Ff?when=2025-01-27T12:41:36.901Z&encrypted=8cfdb18fe722929be89607beed58bab8aeb32b0939ff96b8\n",
      "https://www.wordsapi.com/mashape/words/o%2Fc?when=2025-01-27T12:41:36.901Z&encrypted=8cfdb18fe722929be89607beed58bab8aeb32b0939ff96b8\n",
      "https://www.wordsapi.com/mashape/words/on%2Foff%20switch?when=2025-01-27T12:41:36.901Z&encrypted=8cfdb18fe722929be89607beed58bab8aeb32b0939ff96b8\n",
      "https://www.wordsapi.com/mashape/words/p%2Fc?when=2025-01-27T12:41:36.901Z&encrypted=8cfdb18fe722929be89607beed58bab8aeb32b0939ff96b8\n",
      "https://www.wordsapi.com/mashape/words/p%2Fe%20ratio?when=2025-01-27T12:41:36.901Z&encrypted=8cfdb18fe722929be89607beed58bab8aeb32b0939ff96b8\n",
      "https://www.wordsapi.com/mashape/words/p%2Fn?when=2025-01-27T12:41:36.901Z&encrypted=8cfdb18fe722929be89607beed58bab8aeb32b0939ff96b8\n",
      "https://www.wordsapi.com/mashape/words/pl%2F1?when=2025-01-27T12:41:36.901Z&encrypted=8cfdb18fe722929be89607beed58bab8aeb32b0939ff96b8\n",
      "https://www.wordsapi.com/mashape/words/read%2Fwrite%20head?when=2025-01-27T12:41:36.901Z&encrypted=8cfdb18fe722929be89607beed58bab8aeb32b0939ff96b8\n",
      "https://www.wordsapi.com/mashape/words/read%2Fwrite%20memory?when=2025-01-27T12:41:36.901Z&encrypted=8cfdb18fe722929be89607beed58bab8aeb32b0939ff96b8\n",
      "https://www.wordsapi.com/mashape/words/s%2Fn?when=2025-01-27T12:41:36.901Z&encrypted=8cfdb18fe722929be89607beed58bab8aeb32b0939ff96b8\n",
      "https://www.wordsapi.com/mashape/words/signal%2Fnoise?when=2025-01-27T12:41:36.901Z&encrypted=8cfdb18fe722929be89607beed58bab8aeb32b0939ff96b8\n",
      "https://www.wordsapi.com/mashape/words/signal%2Fnoise%20ratio?when=2025-01-27T12:41:36.901Z&encrypted=8cfdb18fe722929be89607beed58bab8aeb32b0939ff96b8\n",
      "https://www.wordsapi.com/mashape/words/tcp%2Fip?when=2025-01-27T12:41:36.901Z&encrypted=8cfdb18fe722929be89607beed58bab8aeb32b0939ff96b8\n",
      "https://www.wordsapi.com/mashape/words/toward%2Fprp?when=2025-01-27T12:41:36.901Z&encrypted=8cfdb18fe722929be89607beed58bab8aeb32b0939ff96b8\n",
      "https://www.wordsapi.com/mashape/words/transmission%20control%20protocol%2Finternet%20protocol?when=2025-01-27T12:41:36.901Z&encrypted=8cfdb18fe722929be89607beed58bab8aeb32b0939ff96b8\n",
      "https://www.wordsapi.com/mashape/words/u%2Fs?when=2025-01-27T12:41:36.901Z&encrypted=8cfdb18fe722929be89607beed58bab8aeb32b0939ff96b8\n",
      "https://www.wordsapi.com/mashape/words/w%2Fo?when=2025-01-27T12:41:36.901Z&encrypted=8cfdb18fe722929be89607beed58bab8aeb32b0939ff96b8\n",
      "https://www.wordsapi.com/mashape/words/whoopee%2Finj?when=2025-01-27T12:41:36.901Z&encrypted=8cfdb18fe722929be89607beed58bab8aeb32b0939ff96b8\n"
     ]
    }
   ],
   "source": [
    "import json\n",
    "import os\n",
    "import requests\n",
    "from urllib.parse import quote\n",
    "\n",
    "with open(\"./json/words.json\", \"r\") as file:\n",
    "    words = json.load(file)\n",
    "\n",
    "words_set: set[str] = set(words)\n",
    "\n",
    "encrypted = \"8cfdb18fe722929be89607beed58bab8aeb32b0939ff96b8\"\n",
    "when = \"2025-01-27T12:41:36.901Z\"\n",
    "\n",
    "print(\"Count words\")\n",
    "words_folder = \"./json/words\"\n",
    "words_files = os.listdir(words_folder)\n",
    "existing: set[str] = set(\n",
    "    [\n",
    "        f.replace(\".json\", \"\")\n",
    "        for f in words_files\n",
    "        if os.path.isfile(os.path.join(words_folder, f))\n",
    "    ]\n",
    ")\n",
    "print(\"Left words\")\n",
    "left_words_set: set[str] = words_set - existing\n",
    "left_words: list[str] = [item for item in list(left_words_set)]\n",
    "left_words.sort()\n",
    "print(len(left_words))\n",
    "for word in left_words:\n",
    "    try:\n",
    "        quoted_word = quote(word, safe=\"\")\n",
    "        url = f\"https://www.wordsapi.com/mashape/words/{quoted_word}?when={when}&encrypted={encrypted}\"\n",
    "        print(url)\n",
    "        response = requests.get(url)\n",
    "        word_json: dict = response.json()\n",
    "        file_path = f\"./json/words/{quoted_word}.json\"\n",
    "        with open(file_path, \"w\") as word_json_file:\n",
    "            json.dump(word_json, word_json_file, indent=2)\n",
    "    except Exception as exception:\n",
    "        print(word, \"error\", exception)"
   ]
  }
 ],
 "metadata": {
  "kernelspec": {
   "display_name": "Python 3",
   "language": "python",
   "name": "python3"
  },
  "language_info": {
   "codemirror_mode": {
    "name": "ipython",
    "version": 3
   },
   "file_extension": ".py",
   "mimetype": "text/x-python",
   "name": "python",
   "nbconvert_exporter": "python",
   "pygments_lexer": "ipython3",
   "version": "3.13.2"
  }
 },
 "nbformat": 4,
 "nbformat_minor": 2
}
