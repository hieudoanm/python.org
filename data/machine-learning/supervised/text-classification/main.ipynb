{
 "cells": [
  {
   "cell_type": "code",
   "execution_count": 151,
   "metadata": {},
   "outputs": [],
   "source": [
    "import numpy as np\n",
    "import tensorflow as tf\n",
    "import matplotlib.pyplot as plt"
   ]
  },
  {
   "cell_type": "code",
   "execution_count": 152,
   "metadata": {},
   "outputs": [
    {
     "name": "stdout",
     "output_type": "stream",
     "text": [
      "[[37], [5, 9], [29], [14], [34], [41, 46, 21, 37, 19], [49], [42, 25, 38, 42]]\n"
     ]
    }
   ],
   "source": [
    "data_x = [\n",
    " 'good',  'well done', 'nice', 'Excellent',\n",
    " 'Bad', 'OOps I hate it deadly', 'embrassing', 'A piece of shit']\n",
    "\n",
    "label_x = np.array([1,1,1,1, 0,0,0,0])\n",
    "\n",
    "one_hot_x = [tf.keras.preprocessing.text.one_hot(d, 50) for d in data_x]\n",
    "\n",
    "print(one_hot_x)"
   ]
  },
  {
   "cell_type": "code",
   "execution_count": 153,
   "metadata": {},
   "outputs": [
    {
     "name": "stdout",
     "output_type": "stream",
     "text": [
      "[[37  0  0  0]\n",
      " [ 5  9  0  0]\n",
      " [29  0  0  0]\n",
      " [14  0  0  0]\n",
      " [34  0  0  0]\n",
      " [46 21 37 19]\n",
      " [49  0  0  0]\n",
      " [42 25 38 42]]\n"
     ]
    }
   ],
   "source": [
    "padded_x = tf.keras.preprocessing.sequence.pad_sequences(one_hot_x, maxlen=4, padding = 'post')\n",
    "\n",
    "print(padded_x)"
   ]
  },
  {
   "cell_type": "code",
   "execution_count": 154,
   "metadata": {},
   "outputs": [
    {
     "name": "stdout",
     "output_type": "stream",
     "text": [
      "tf.Tensor(\n",
      "[[[ 0.04416226  0.00613157  0.01840985 -0.04001393]]\n",
      "\n",
      " [[ 0.02356425  0.02525392 -0.02256091 -0.00441856]]], shape=(2, 1, 4), dtype=float32)\n"
     ]
    }
   ],
   "source": [
    "sample_data = np.array([[1], [4]], dtype='int32')\n",
    "\n",
    "emb_layer = tf.keras.layers.Embedding(50, 4, input_length=4)\n",
    "\n",
    "print(emb_layer(sample_data))"
   ]
  },
  {
   "cell_type": "code",
   "execution_count": 155,
   "metadata": {},
   "outputs": [],
   "source": [
    "model = tf.keras.models.Sequential([\n",
    "    tf.keras.layers.Embedding(50, 8, input_length=4),\n",
    "    tf.keras.layers.Flatten(),\n",
    "    tf.keras.layers.Dense(1, activation='sigmoid')\n",
    " ])"
   ]
  },
  {
   "cell_type": "code",
   "execution_count": 156,
   "metadata": {},
   "outputs": [
    {
     "name": "stdout",
     "output_type": "stream",
     "text": [
      "Model: \"sequential_14\"\n",
      "_________________________________________________________________\n",
      " Layer (type)                Output Shape              Param #   \n",
      "=================================================================\n",
      " embedding_30 (Embedding)    (None, 4, 8)              400       \n",
      "                                                                 \n",
      " flatten_14 (Flatten)        (None, 32)                0         \n",
      "                                                                 \n",
      " dense_14 (Dense)            (None, 1)                 33        \n",
      "                                                                 \n",
      "=================================================================\n",
      "Total params: 433\n",
      "Trainable params: 433\n",
      "Non-trainable params: 0\n",
      "_________________________________________________________________\n"
     ]
    }
   ],
   "source": [
    "model.compile(optimizer='adam', loss='binary_crossentropy', \n",
    "metrics=['accuracy'])\n",
    "\n",
    "model.summary()"
   ]
  },
  {
   "cell_type": "code",
   "execution_count": 157,
   "metadata": {},
   "outputs": [
    {
     "data": {
      "text/plain": [
       "[<matplotlib.lines.Line2D at 0x28c5f2980>]"
      ]
     },
     "execution_count": 157,
     "metadata": {},
     "output_type": "execute_result"
    },
    {
     "data": {
      "image/png": "[encoded data removed]",
      "text/plain": [
       "<Figure size 640x480 with 1 Axes>"
      ]
     },
     "metadata": {},
     "output_type": "display_data"
    }
   ],
   "source": [
    "history = model.fit(padded_x, label_x, epochs=1000, \n",
    "batch_size=2, verbose=0)\n",
    "\n",
    "plt.plot(history.history['loss'])"
   ]
  },
  {
   "cell_type": "code",
   "execution_count": 158,
   "metadata": {},
   "outputs": [],
   "source": [
    "def predict(word):\n",
    "    one_hot_word = [tf.keras.preprocessing.text.one_hot(word, 50)]\n",
    "    pad_word = tf.keras.preprocessing.sequence.pad_sequences(one_hot_word, maxlen=4,  padding='post')\n",
    "    result = model.predict(pad_word)\n",
    "    index = result[0][0]\n",
    "    print(index)\n",
    "    if index > 0.1:\n",
    "        print('you look positive')\n",
    "    else:\n",
    "        print('damn you\\'re negative')"
   ]
  },
  {
   "cell_type": "code",
   "execution_count": 159,
   "metadata": {},
   "outputs": [
    {
     "name": "stdout",
     "output_type": "stream",
     "text": [
      "1/1 [==============================] - 0s 27ms/step\n",
      "0.38314292\n",
      "you look positive\n"
     ]
    }
   ],
   "source": [
    "predict('this tutorial is cool')"
   ]
  },
  {
   "cell_type": "code",
   "execution_count": 160,
   "metadata": {},
   "outputs": [
    {
     "name": "stdout",
     "output_type": "stream",
     "text": [
      "1/1 [==============================] - 0s 10ms/step\n",
      "0.18381602\n",
      "you look positive\n"
     ]
    }
   ],
   "source": [
    "predict('This tutorial is bad as me')"
   ]
  }
 ],
 "metadata": {
  "kernelspec": {
   "display_name": "Python 3",
   "language": "python",
   "name": "python3"
  },
  "language_info": {
   "codemirror_mode": {
    "name": "ipython",
    "version": 3
   },
   "file_extension": ".py",
   "mimetype": "text/x-python",
   "name": "python",
   "nbconvert_exporter": "python",
   "pygments_lexer": "ipython3",
   "version": "3.10.9"
  },
  "orig_nbformat": 4,
  "vscode": {
   "interpreter": {
    "hash": "b0fa6594d8f4cbf19f97940f81e996739fb7646882a419484c72d19e05852a7e"
   }
  }
 },
 "nbformat": 4,
 "nbformat_minor": 2
}
