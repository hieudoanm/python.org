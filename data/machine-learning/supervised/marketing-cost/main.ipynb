{
  "cells": [
    {
      "cell_type": "markdown",
      "metadata": {
        "colab_type": "text",
        "id": "view-in-github"
      },
      "source": [
        "<a href=\"https://colab.research.google.com/gist/shadab-entrepreneur/ae4be3dc7d4b081b61e15ba7d35216ad/tensorflow-for-beginners.ipynb\" target=\"_parent\"><img src=\"https://colab.research.google.com/assets/colab-badge.svg\" alt=\"Open In Colab\"/></a>"
      ]
    },
    {
      "cell_type": "markdown",
      "metadata": {},
      "source": [
        "- [Medium](https://techwithshadab.medium.com/build-your-first-machine-learning-model-using-tensorflow-d61b9b2b7d5e)\n",
        "- [Gist](https://gist.github.com/techwithshadab/ae4be3dc7d4b081b61e15ba7d35216ad)"
      ]
    },
    {
      "cell_type": "markdown",
      "metadata": {
        "colab_type": "text",
        "id": "fA93WUy1zzWf"
      },
      "source": [
        "## Step 1: Import dependencies\n",
        "\n",
        "First, import TensorFlow. Here, we're calling it `tf` for ease of use. We also tell it to only display errors.\n",
        "\n",
        "Next, import [NumPy](http://www.numpy.org/) as `np`. Numpy helps us to represent our data as highly performant lists.<br>\n",
        "Also Import matplotlib.pyplot for creating visual plots"
      ]
    },
    {
      "cell_type": "code",
      "execution_count": 2,
      "metadata": {
        "colab": {},
        "colab_type": "code",
        "id": "X9uIpOS2zx7k"
      },
      "outputs": [],
      "source": [
        "import tensorflow as tf\n",
        "import numpy as np\n",
        "import matplotlib.pyplot as plt\n",
        "\n",
        "tf.compat.v1.logging.set_verbosity(tf.compat.v1.logging.ERROR)"
      ]
    },
    {
      "cell_type": "markdown",
      "metadata": {
        "colab_type": "text",
        "id": "AC3EQFi20buB"
      },
      "source": [
        "## Step 2: Set up training data\n",
        "\n",
        "As we saw before, supervised Machine Learning is all about figuring out an algorithm given a set of inputs and outputs. Since the task in this Codelab is to create a model that can give the tnumber of new subscribers gained when given the amount x is spent in marketing, we create two lists `mar_budget` and `subs_gained` that we can use to train our model."
      ]
    },
    {
      "cell_type": "markdown",
      "metadata": {
        "colab_type": "text",
        "id": "_-5zlfROSaAC"
      },
      "source": [
        "### 2*i+40\n",
        "\n",
        "### Machine Learning terminology\n",
        "\n",
        "- **Feature** — The input(s) to our model. In this case, a single value — the marketing Budget.\n",
        "\n",
        "- **Labels** — The output our model predicts. In this case, a single value — the number of new subscribers gained.\n",
        "\n",
        "- **Example** — A pair of inputs/outputs used during training. In our case a pair of values from `mar_budget` and `new_subs_gained` at a specific index, such as `(80,200)` at index 1 below."
      ]
    },
    {
      "cell_type": "code",
      "execution_count": 3,
      "metadata": {
        "colab": {
          "base_uri": "https://localhost:8080/",
          "height": 153
        },
        "colab_type": "code",
        "id": "gg4pn6aI1vms",
        "outputId": "98818d38-fdf7-4fc4-8cb0-8dccc2ebb566"
      },
      "outputs": [
        {
          "name": "stdout",
          "output_type": "stream",
          "text": [
            "60.0 Market budget = 160.0 new subscribers gained\n",
            "80.0 Market budget = 200.0 new subscribers gained\n",
            "100.0 Market budget = 240.0 new subscribers gained\n",
            "30.0 Market budget = 100.0 new subscribers gained\n",
            "50.0 Market budget = 140.0 new subscribers gained\n",
            "20.0 Market budget = 80.0 new subscribers gained\n",
            "90.0 Market budget = 220.0 new subscribers gained\n",
            "10.0 Market budget = 60.0 new subscribers gained\n"
          ]
        }
      ],
      "source": [
        "mar_budget    = np.array([60, 80,  100  , 30, 50, 20, 90,  10],  dtype=float)\n",
        "subs_gained = np.array([160, 200, 240, 100, 140, 80, 220, 60],  dtype=float)\n",
        "\n",
        "for i,c in enumerate(mar_budget):\n",
        "  print(\"{} Market budget = {} new subscribers gained\".format(c, subs_gained[i]))"
      ]
    },
    {
      "cell_type": "markdown",
      "metadata": {
        "colab_type": "text",
        "id": "MZzdBWJWYpOT"
      },
      "source": [
        "**Let's plot all data that we have to visualise the relationship between Marketing Budget and Subscriptions:**"
      ]
    },
    {
      "cell_type": "code",
      "execution_count": 4,
      "metadata": {
        "colab": {
          "base_uri": "https://localhost:8080/",
          "height": 283
        },
        "colab_type": "code",
        "id": "nhc7gEeMRBfi",
        "outputId": "44101e9d-1666-44ff-f161-1150bb6776f5"
      },
      "outputs": [
        {
          "data": {
            "image/png": "[encoded data removed]",
            "text/plain": [
              "<Figure size 640x480 with 1 Axes>"
            ]
          },
          "metadata": {},
          "output_type": "display_data"
        }
      ],
      "source": [
        "plt.scatter(mar_budget, subs_gained)\n",
        "plt.xlim(0,120)\n",
        "plt.ylim(0,260)\n",
        "plt.xlabel('Marketing Budget(in thousand of Dollars)')\n",
        "plt.ylabel('Subscribers Gained(in thousand)')\n",
        "plt.show()"
      ]
    },
    {
      "cell_type": "markdown",
      "metadata": {
        "colab_type": "text",
        "id": "P030ODhCCMcl"
      },
      "source": [
        "## Seperate data for training and testing"
      ]
    },
    {
      "cell_type": "markdown",
      "metadata": {
        "colab_type": "text",
        "id": "H8bK8raKY31V"
      },
      "source": [
        "In the step given beolw, we will seperate the data into two parts : Training Data(6 pairs), Testing Data(2 pairs).<br>\n",
        "We will use training data for training our Model, while testing Data for verifying the prediction of our Model."
      ]
    },
    {
      "cell_type": "code",
      "execution_count": 5,
      "metadata": {
        "colab": {},
        "colab_type": "code",
        "id": "oRudLNocB82c"
      },
      "outputs": [],
      "source": [
        "from sklearn.model_selection import train_test_split\n",
        "X_train,X_test,y_train,y_test=train_test_split(mar_budget,subs_gained,random_state=42,\n",
        "                                               train_size=0.8, test_size=0.2 )"
      ]
    },
    {
      "cell_type": "code",
      "execution_count": 6,
      "metadata": {
        "colab": {
          "base_uri": "https://localhost:8080/",
          "height": 119
        },
        "colab_type": "code",
        "id": "FR3kSCEiCuhj",
        "outputId": "430a5bed-44c8-48ab-8e0e-5a55b20affe5"
      },
      "outputs": [
        {
          "name": "stdout",
          "output_type": "stream",
          "text": [
            "Training_features: [ 60.  10. 100.  50.  30.  90.]\n",
            "Training_label: [160.  60. 240. 140. 100. 220.]\n",
            "\n",
            "\n",
            "Testing_features: [80. 20.]\n",
            "Testing_labels: [200.  80.]\n"
          ]
        }
      ],
      "source": [
        "print('Training_features:',X_train)\n",
        "print('Training_label:' , y_train)\n",
        "print('\\n')\n",
        "print('Testing_features:', X_test)\n",
        "print('Testing_labels:',y_test)"
      ]
    },
    {
      "cell_type": "markdown",
      "metadata": {
        "colab_type": "text",
        "id": "VM7_9Klvq7MO"
      },
      "source": [
        "## Create the model\n",
        "\n",
        "Next create the model. We will use simplest possible model we can, a Dense network. Since the problem is straightforward, this network will require only a single layer, with a single neuron.\n",
        "\n",
        "### Build a layer\n",
        "\n",
        "We'll call the layer `layer_0` and create it by instantiating `tf.keras.layers.Dense` with the following configuration:\n",
        "\n",
        "- `input_shape=[1]` — This specifies that the input to this layer is a single value. That is, the shape is a one-dimensional array with one member. Since this is the first (and only) layer, that input shape is the input shape of the entire model. The single value is a floating point number, representing marketing_budget.\n",
        "\n",
        "- `units=1` — This specifies the number of neurons in the layer. The number of neurons defines how many internal variables the layer has to try to learn how to solve the problem (more later). Since this is the final layer, it is also the size of the model's output — a single float value representing new subscribers gained. (In a multi-layered network, the size and shape of the layer would need to match the `input_shape` of the next layer.)"
      ]
    },
    {
      "cell_type": "code",
      "execution_count": 7,
      "metadata": {
        "colab": {},
        "colab_type": "code",
        "id": "SBID6tukET-c"
      },
      "outputs": [],
      "source": [
        "layer_0 = tf.keras.layers.Dense(units=1, input_shape=[1])"
      ]
    },
    {
      "cell_type": "markdown",
      "metadata": {
        "colab_type": "text",
        "id": "_F00_J9duLBD"
      },
      "source": [
        "### Assemble layers into the model\n",
        "\n",
        "Once layers are defined, they need to be assembled into a model. The Sequential model definition takes a list of layers as arguments, specifying the calculation order from the input to the output.\n",
        "\n",
        "This model has just a single layer, layer_0."
      ]
    },
    {
      "cell_type": "code",
      "execution_count": 8,
      "metadata": {
        "colab": {},
        "colab_type": "code",
        "id": "WEQb-JDME67T"
      },
      "outputs": [],
      "source": [
        "model = tf.keras.Sequential([layer_0])"
      ]
    },
    {
      "cell_type": "markdown",
      "metadata": {
        "colab_type": "text",
        "id": "t7pfHfWxust0"
      },
      "source": [
        "**Note**\n",
        "\n",
        "You will often see the layers defined inside the model definition, rather than beforehand:\n",
        "\n",
        "```python\n",
        "model = tf.keras.Sequential([\n",
        "  tf.keras.layers.Dense(units=1, input_shape=[1])\n",
        "])\n",
        "```"
      ]
    },
    {
      "cell_type": "markdown",
      "metadata": {
        "colab_type": "text",
        "id": "kiZG7uhm8qCF"
      },
      "source": [
        "## Compile the model, with loss and optimizer functions\n",
        "\n",
        "Before training, the model has to be compiled. When compiled for training, the model is given:\n",
        "\n",
        "- **Loss function** — A way of measuring how far off predictions are from the desired outcome. (The measured difference is called the \"loss\".)\n",
        "\n",
        "- **Optimizer function** — A way of adjusting internal values in order to reduce the loss.\n"
      ]
    },
    {
      "cell_type": "code",
      "execution_count": 9,
      "metadata": {
        "colab": {},
        "colab_type": "code",
        "id": "m8YQN1H41L-Y"
      },
      "outputs": [],
      "source": [
        "model.compile(loss='mean_squared_error',\n",
        "              optimizer=tf.keras.optimizers.Adam(0.1))"
      ]
    },
    {
      "cell_type": "markdown",
      "metadata": {
        "colab_type": "text",
        "id": "17M3Pqv4P52R"
      },
      "source": [
        "These are used during training (`model.fit()`, below) to first calculate the loss at each point, and then improve it. In fact, the act of calculating the current loss of a model and then improving it is precisely what training is.\n",
        "\n",
        "During training, the optimizer function is used to calculate adjustments to the model's internal variables. The goal is to adjust the internal variables until the model (which is really a math function) mirrors the actual equation for converting `budget_Spent to New Subs Gained`.\n",
        "\n",
        "TensorFlow uses numerical analysis to perform this tuning, and all this complexity is hidden from you so we will not go into the details here. What is useful to know about these parameters are:\n",
        "\n",
        "The loss function ([mean squared error](https://en.wikipedia.org/wiki/Mean_squared_error)) and the optimizer ([Adam](https://machinelearningmastery.com/adam-optimization-algorithm-for-deep-learning/)) used here are standard for simple models like this one, but many others are available. It is not important to know how these specific functions work at this point.\n",
        "\n",
        "One part of the Optimizer you may need to think about when building your own models is the learning rate (`0.1` in the code above). This is the step size taken when adjusting values in the model. If the value is too small, it will take too many iterations to train the model. Too large, and accuracy goes down. Finding a good value often involves some trial and error, but the range is usually within 0.001 (default), and 0.1"
      ]
    },
    {
      "cell_type": "markdown",
      "metadata": {
        "colab_type": "text",
        "id": "c-Jk4dG91dvD"
      },
      "source": [
        "## Train the model\n",
        "\n",
        "Train the model by calling the `fit` method.\n",
        "\n",
        "During training, the model takes in marketing budget values, performs a calculation using the current internal variables (called \"weights\") and outputs values which are meant to be the `New subs Gained`. Since the weights are initially set randomly, the output will not be close to the correct value. The difference between the actual output and the desired output is calculated using the loss function, and the optimizer function directs how the weights should be adjusted.\n",
        "\n",
        "This cycle of calculate, compare, adjust is controlled by the `fit` method. The first argument is the inputs, the second argument is the desired outputs. The `epochs` argument specifies how many times this cycle should be run, and the `verbose` argument controls how much output the method produces."
      ]
    },
    {
      "cell_type": "code",
      "execution_count": 10,
      "metadata": {
        "colab": {
          "base_uri": "https://localhost:8080/",
          "height": 34
        },
        "colab_type": "code",
        "id": "ZCJXbvnGFf9r",
        "outputId": "4e8bfcdd-c8f2-427e-af24-f515feb79487"
      },
      "outputs": [
        {
          "name": "stderr",
          "output_type": "stream",
          "text": [
            "2022-12-26 13:12:57.404262: W tensorflow/tsl/platform/profile_utils/cpu_utils.cc:128] Failed to get CPU frequency: 0 Hz\n"
          ]
        },
        {
          "name": "stdout",
          "output_type": "stream",
          "text": [
            "Finished training the model\n"
          ]
        }
      ],
      "source": [
        "trained_model = model.fit(X_train, y_train, epochs=1000, verbose=False)\n",
        "print(\"Finished training the model\")"
      ]
    },
    {
      "cell_type": "markdown",
      "metadata": {
        "colab_type": "text",
        "id": "0-QsNCLD4MJZ"
      },
      "source": [
        "## Display training statistics\n",
        "\n",
        "The `fit` method returns a history object. We can use this object to plot how the loss of our model goes down after each training epoch.A high loss means that the value of `new subs gained` the model predicts, are far from the corresponding value of `actual subs gained`.\n",
        "\n",
        "We'll again use [Matplotlib](https://matplotlib.org/) to visualize this (you could use another tool). As you can see, our model improves very quickly at first, and then has a steady, slow improvement until it is very near \"perfect\" towards the end."
      ]
    },
    {
      "cell_type": "code",
      "execution_count": 11,
      "metadata": {
        "colab": {
          "base_uri": "https://localhost:8080/",
          "height": 283
        },
        "colab_type": "code",
        "id": "IeK6BzfbdO6_",
        "outputId": "5322f7d0-7625-43ca-a617-5b2e5bb95e4d"
      },
      "outputs": [
        {
          "data": {
            "image/png": "[encoded data removed]",
            "text/plain": [
              "<Figure size 640x480 with 1 Axes>"
            ]
          },
          "metadata": {},
          "output_type": "display_data"
        }
      ],
      "source": [
        "import matplotlib.pyplot as plt\n",
        "plt.xlabel('Epoch Number')\n",
        "plt.ylabel(\"Loss Magnitude\")\n",
        "plt.plot(trained_model.history['loss'])\n",
        "plt.show()"
      ]
    },
    {
      "cell_type": "markdown",
      "metadata": {
        "colab_type": "text",
        "id": "LtQGDMob5LOD"
      },
      "source": [
        "## Use the model to predict values\n",
        "\n",
        "Now you have a model that has been trained to learn the relationship between `marketing_Budget` and `new_subs_gained`. You can use the predict method to have it calculate the new_subs_gained for a previously known/unknown marketing_budget.\n",
        "\n",
        "So, for example, if the marketing_budget value is 80 thousand dollars, what do you think the new_subs_gained result will be? Take a guess before you run this code or refer to your train_data."
      ]
    },
    {
      "cell_type": "code",
      "execution_count": 12,
      "metadata": {
        "colab": {
          "base_uri": "https://localhost:8080/",
          "height": 34
        },
        "colab_type": "code",
        "id": "oxNzL4lS2Gui",
        "outputId": "9cebd25b-4915-423e-9535-0f20d4320d07"
      },
      "outputs": [
        {
          "name": "stdout",
          "output_type": "stream",
          "text": [
            "1/1 [==============================] - 0s 42ms/step\n",
            "[[201.17708]]\n"
          ]
        }
      ],
      "source": [
        "print(model.predict([80.0]))"
      ]
    },
    {
      "cell_type": "markdown",
      "metadata": {
        "colab_type": "text",
        "id": "loOnF5mhKEdS"
      },
      "source": [
        "The correct answer is $80 \\times 2 + 40 = 200$, so our model is doing really well."
      ]
    },
    {
      "cell_type": "code",
      "execution_count": 13,
      "metadata": {
        "colab": {
          "base_uri": "https://localhost:8080/",
          "height": 51
        },
        "colab_type": "code",
        "id": "MeGGzPDyHzYg",
        "outputId": "c245144d-34b5-466b-da27-5e6490b43886"
      },
      "outputs": [
        {
          "name": "stdout",
          "output_type": "stream",
          "text": [
            "1/1 [==============================] - 0s 12ms/step\n",
            "Actual Values\tPredicted Values\n",
            "[200.  80.]     [[201.17708  69.67662]]\n"
          ]
        }
      ],
      "source": [
        "# checking for all the test _values\n",
        "y_pred = model.predict(X_test)\n",
        "print('Actual Values\\tPredicted Values')\n",
        "print(y_test,'   ',y_pred.reshape(1,-1))"
      ]
    },
    {
      "cell_type": "markdown",
      "metadata": {
        "colab_type": "text",
        "id": "vu9PLnJsI9JV"
      },
      "source": [
        "## Let's check the goodness of fit for model using r2_score(r-squared value)\n",
        "\n",
        "R2 is a statistic that will give some information about the goodness of fit of a model. In regression, the R2 coefficient of determination is a statistical measure of how well the regression predictions approximate the real data points. <br>An R2 of 1 indicates that the regression predictions perfectly fit the data."
      ]
    },
    {
      "cell_type": "code",
      "execution_count": 14,
      "metadata": {
        "colab": {
          "base_uri": "https://localhost:8080/",
          "height": 34
        },
        "colab_type": "code",
        "id": "5rdDjNF0IB3B",
        "outputId": "72ce2f08-41b4-47c7-8ba0-ad687303eb0a"
      },
      "outputs": [
        {
          "data": {
            "text/plain": [
              "0.9850058780772896"
            ]
          },
          "execution_count": 14,
          "metadata": {},
          "output_type": "execute_result"
        }
      ],
      "source": [
        "from sklearn.metrics import r2_score\n",
        "r2_score(y_test,y_pred)"
      ]
    },
    {
      "cell_type": "markdown",
      "metadata": {
        "colab_type": "text",
        "id": "QwZFB065JpJH"
      },
      "source": [
        "As we can see our model's r2_score is nearly = 1 that means our model is predicting with a good accuracy"
      ]
    },
    {
      "cell_type": "markdown",
      "metadata": {
        "colab_type": "text",
        "id": "jApk6tZ1fBg1"
      },
      "source": [
        "### To review\n",
        "\n",
        "- We created a model with a Dense layer\n",
        "- We trained it with 3000 examples (6 pairs, over 500 epochs).\n",
        "\n",
        "Our model tuned the variables (weights) in the Dense layer until it was able to return the correct new_subs_gained value for any marketing_budget value.<br>\n",
        "And we verified this using our test Data(Remember, 80 was not part of our training data.)\n",
        "<br>\n",
        "We also measured the goodness of prediction for our model using r2_score"
      ]
    },
    {
      "cell_type": "markdown",
      "metadata": {
        "colab_type": "text",
        "id": "zRrOky5gm20Z"
      },
      "source": [
        "## Looking at the layer weights\n",
        "\n",
        "Finally, let's print the internal variables of the Dense layer."
      ]
    },
    {
      "cell_type": "code",
      "execution_count": 15,
      "metadata": {
        "colab": {
          "base_uri": "https://localhost:8080/",
          "height": 34
        },
        "colab_type": "code",
        "id": "kmIkVdkbnZJI",
        "outputId": "a4ab2dfd-5688-44a8-c6cb-98664cf0b9cd"
      },
      "outputs": [
        {
          "name": "stdout",
          "output_type": "stream",
          "text": [
            "These are the layer variables: [array([[2.1916745]], dtype=float32), array([25.843128], dtype=float32)]\n"
          ]
        }
      ],
      "source": [
        "print(\"These are the layer variables: {}\".format(layer_0.get_weights()))"
      ]
    },
    {
      "cell_type": "markdown",
      "metadata": {
        "colab_type": "text",
        "id": "RSplSnMvnWC-"
      },
      "source": [
        "The first variable is close to ~2.0 and the second to ~40. These values (2.0 and 40) are the actual variables in the real conversion formula.\n",
        "\n",
        "This is really close to the values in the conversion formula. We'll explain this in an upcoming video where we show how a Dense layer works, but for a single neuron with a single input and a single output, the internal math looks the same as [the equation for a line](https://en.wikipedia.org/wiki/Linear_equation#Slope%E2%80%93intercept_form), $y = mx + b$, which has the same form as the conversion equation, $label = 2.0\\times feauture + 40$.\n",
        "\n",
        "Since the form is the same, the variables should converge on the standard values of 2.0 and 40, which is exactly what happened.\n",
        "\n",
        "With additional neurons, additional inputs, and additional outputs, the formula becomes much more complex, but the idea is the same.\n",
        "\n",
        "### A little Thought experiment\n",
        "\n",
        "Just for fun, what if we create a new model with 3 more Dense layers with different units, which therefore also has more variables?"
      ]
    },
    {
      "cell_type": "code",
      "execution_count": 16,
      "metadata": {
        "colab": {
          "base_uri": "https://localhost:8080/",
          "height": 51
        },
        "colab_type": "code",
        "id": "RAmatWUfL2DO",
        "outputId": "eca3f728-be62-4c7a-d93d-88d79ebedae0"
      },
      "outputs": [
        {
          "name": "stdout",
          "output_type": "stream",
          "text": [
            "\n",
            " Finished training Model\n"
          ]
        }
      ],
      "source": [
        "l_0 = tf.keras.layers.Dense(units=4, input_shape=[1])\n",
        "l_1 = tf.keras.layers.Dense(units=5)\n",
        "l_2 = tf.keras.layers.Dense(units=1) \n",
        "model = tf.keras.Sequential([l_0, l_1, l_2])\n",
        "model.compile(loss='mean_squared_error', optimizer=tf.keras.optimizers.Adam(0.1))\n",
        "model.fit(X_train,y_train, epochs=2000,verbose=False)\n",
        "print('\\n Finished training Model')"
      ]
    },
    {
      "cell_type": "code",
      "execution_count": 17,
      "metadata": {
        "colab": {
          "base_uri": "https://localhost:8080/",
          "height": 51
        },
        "colab_type": "code",
        "id": "LshKLYkpP79B",
        "outputId": "fd2a9361-f4a1-45d1-a566-da2058e3bfd4"
      },
      "outputs": [
        {
          "name": "stdout",
          "output_type": "stream",
          "text": [
            "1/1 [==============================] - 0s 41ms/step\n",
            "[[200.00043]]\n",
            "1/1 [==============================] - 0s 30ms/step\n",
            "0.9999999999723109\n"
          ]
        }
      ],
      "source": [
        "print(model.predict([80]))\n",
        "y_pred=model.predict(X_test)\n",
        "print(r2_score(y_test,y_pred))"
      ]
    },
    {
      "cell_type": "markdown",
      "metadata": {
        "colab_type": "text",
        "id": "FAf67EMlXivl"
      },
      "source": [
        "### As we can see the r2_score increased thus goodness of fit or prediction of our Model also increased by adding more layers"
      ]
    },
    {
      "cell_type": "code",
      "execution_count": 18,
      "metadata": {
        "colab": {},
        "colab_type": "code",
        "id": "u_qOSObBO4H7"
      },
      "outputs": [],
      "source": [
        "## TODO: print the wieght of each layer and think why are they so different from (2,40). "
      ]
    }
  ],
  "metadata": {
    "colab": {
      "collapsed_sections": [],
      "include_colab_link": true,
      "name": "Tensorflow for Beginners.ipynb",
      "provenance": [],
      "version": "0.3.2"
    },
    "kernelspec": {
      "display_name": "Python 3",
      "language": "python",
      "name": "python3"
    },
    "language_info": {
      "codemirror_mode": {
        "name": "ipython",
        "version": 3
      },
      "file_extension": ".py",
      "mimetype": "text/x-python",
      "name": "python",
      "nbconvert_exporter": "python",
      "pygments_lexer": "ipython3",
      "version": "3.10.9"
    },
    "vscode": {
      "interpreter": {
        "hash": "b0fa6594d8f4cbf19f97940f81e996739fb7646882a419484c72d19e05852a7e"
      }
    }
  },
  "nbformat": 4,
  "nbformat_minor": 0
}
