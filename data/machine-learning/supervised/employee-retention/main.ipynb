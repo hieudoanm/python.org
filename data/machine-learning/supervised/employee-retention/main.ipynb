{
 "cells": [
  {
   "attachments": {},
   "cell_type": "markdown",
   "metadata": {},
   "source": [
    "## Step 1 — Data Pre-processing"
   ]
  },
  {
   "cell_type": "markdown",
   "metadata": {},
   "source": [
    "[How To Build a Deep Learning Model to Predict Employee Retention Using Keras and TensorFlow](https://www.digitalocean.com/community/tutorials/how-to-build-a-deep-learning-model-to-predict-employee-retention-using-keras-and-tensorflow)"
   ]
  },
  {
   "cell_type": "code",
   "execution_count": 1,
   "metadata": {},
   "outputs": [],
   "source": [
    "import pandas as pd\n",
    "import numpy as np"
   ]
  },
  {
   "cell_type": "code",
   "execution_count": 2,
   "metadata": {},
   "outputs": [
    {
     "data": {
      "text/html": [
       "<div>\n",
       "<style scoped>\n",
       "    .dataframe tbody tr th:only-of-type {\n",
       "        vertical-align: middle;\n",
       "    }\n",
       "\n",
       "    .dataframe tbody tr th {\n",
       "        vertical-align: top;\n",
       "    }\n",
       "\n",
       "    .dataframe thead th {\n",
       "        text-align: right;\n",
       "    }\n",
       "</style>\n",
       "<table border=\"1\" class=\"dataframe\">\n",
       "  <thead>\n",
       "    <tr style=\"text-align: right;\">\n",
       "      <th></th>\n",
       "      <th>satisfaction_level</th>\n",
       "      <th>last_evaluation</th>\n",
       "      <th>number_project</th>\n",
       "      <th>average_montly_hours</th>\n",
       "      <th>time_spend_company</th>\n",
       "      <th>work_accident</th>\n",
       "      <th>left</th>\n",
       "      <th>promotion_last_5years</th>\n",
       "      <th>department</th>\n",
       "      <th>salary</th>\n",
       "    </tr>\n",
       "  </thead>\n",
       "  <tbody>\n",
       "    <tr>\n",
       "      <th>0</th>\n",
       "      <td>0.38</td>\n",
       "      <td>0.53</td>\n",
       "      <td>2</td>\n",
       "      <td>157</td>\n",
       "      <td>3</td>\n",
       "      <td>0</td>\n",
       "      <td>1</td>\n",
       "      <td>0</td>\n",
       "      <td>sales</td>\n",
       "      <td>low</td>\n",
       "    </tr>\n",
       "    <tr>\n",
       "      <th>1</th>\n",
       "      <td>0.80</td>\n",
       "      <td>0.86</td>\n",
       "      <td>5</td>\n",
       "      <td>262</td>\n",
       "      <td>6</td>\n",
       "      <td>0</td>\n",
       "      <td>1</td>\n",
       "      <td>0</td>\n",
       "      <td>sales</td>\n",
       "      <td>medium</td>\n",
       "    </tr>\n",
       "    <tr>\n",
       "      <th>2</th>\n",
       "      <td>0.11</td>\n",
       "      <td>0.88</td>\n",
       "      <td>7</td>\n",
       "      <td>272</td>\n",
       "      <td>4</td>\n",
       "      <td>0</td>\n",
       "      <td>1</td>\n",
       "      <td>0</td>\n",
       "      <td>sales</td>\n",
       "      <td>medium</td>\n",
       "    </tr>\n",
       "    <tr>\n",
       "      <th>3</th>\n",
       "      <td>0.72</td>\n",
       "      <td>0.87</td>\n",
       "      <td>5</td>\n",
       "      <td>223</td>\n",
       "      <td>5</td>\n",
       "      <td>0</td>\n",
       "      <td>1</td>\n",
       "      <td>0</td>\n",
       "      <td>sales</td>\n",
       "      <td>low</td>\n",
       "    </tr>\n",
       "    <tr>\n",
       "      <th>4</th>\n",
       "      <td>0.37</td>\n",
       "      <td>0.52</td>\n",
       "      <td>2</td>\n",
       "      <td>159</td>\n",
       "      <td>3</td>\n",
       "      <td>0</td>\n",
       "      <td>1</td>\n",
       "      <td>0</td>\n",
       "      <td>sales</td>\n",
       "      <td>low</td>\n",
       "    </tr>\n",
       "  </tbody>\n",
       "</table>\n",
       "</div>"
      ],
      "text/plain": [
       "   satisfaction_level  last_evaluation  number_project  average_montly_hours  \\\n",
       "0                0.38             0.53               2                   157   \n",
       "1                0.80             0.86               5                   262   \n",
       "2                0.11             0.88               7                   272   \n",
       "3                0.72             0.87               5                   223   \n",
       "4                0.37             0.52               2                   159   \n",
       "\n",
       "   time_spend_company  work_accident  left  promotion_last_5years department  \\\n",
       "0                   3              0     1                      0      sales   \n",
       "1                   6              0     1                      0      sales   \n",
       "2                   4              0     1                      0      sales   \n",
       "3                   5              0     1                      0      sales   \n",
       "4                   3              0     1                      0      sales   \n",
       "\n",
       "   salary  \n",
       "0     low  \n",
       "1  medium  \n",
       "2  medium  \n",
       "3     low  \n",
       "4     low  "
      ]
     },
     "execution_count": 2,
     "metadata": {},
     "output_type": "execute_result"
    }
   ],
   "source": [
    "df = pd.read_csv(\"./hr.csv\")\n",
    "df.head()"
   ]
  },
  {
   "cell_type": "code",
   "execution_count": 3,
   "metadata": {},
   "outputs": [],
   "source": [
    "feats = ['department','salary']\n",
    "df_final = pd.get_dummies(df,columns=feats,drop_first=True)"
   ]
  },
  {
   "attachments": {},
   "cell_type": "markdown",
   "metadata": {},
   "source": [
    "## Step 2 — Separating Your Training and Testing Datasets"
   ]
  },
  {
   "cell_type": "code",
   "execution_count": 4,
   "metadata": {},
   "outputs": [],
   "source": [
    "from sklearn.model_selection import train_test_split\n",
    "x = df_final.drop(['left'], axis=1).values\n",
    "y = df_final['left'].values"
   ]
  },
  {
   "cell_type": "code",
   "execution_count": 5,
   "metadata": {},
   "outputs": [],
   "source": [
    "x_train, x_test, y_train, y_test = train_test_split(x, y, test_size=0.3)"
   ]
  },
  {
   "attachments": {},
   "cell_type": "markdown",
   "metadata": {},
   "source": [
    "## Step 3 — Transforming the Data"
   ]
  },
  {
   "cell_type": "code",
   "execution_count": 6,
   "metadata": {},
   "outputs": [],
   "source": [
    "from sklearn.preprocessing import StandardScaler\n",
    "sc = StandardScaler()\n",
    "x_train = sc.fit_transform(x_train)\n",
    "x_test = sc.transform(x_test)"
   ]
  },
  {
   "attachments": {},
   "cell_type": "markdown",
   "metadata": {},
   "source": [
    "## Step 4 — Building the Artificial Neural Network"
   ]
  },
  {
   "cell_type": "code",
   "execution_count": 7,
   "metadata": {},
   "outputs": [],
   "source": [
    "from keras.models import Sequential\n",
    "from keras.layers import Dense"
   ]
  },
  {
   "cell_type": "code",
   "execution_count": 8,
   "metadata": {},
   "outputs": [
    {
     "name": "stdout",
     "output_type": "stream",
     "text": [
      "1050/1050 [==============================] - 1s 480us/step - loss: 0.4371 - accuracy: 0.7926\n"
     ]
    },
    {
     "data": {
      "text/plain": [
       "<keras.src.callbacks.History at 0x28efd7650>"
      ]
     },
     "execution_count": 8,
     "metadata": {},
     "output_type": "execute_result"
    }
   ],
   "source": [
    "classifier = Sequential()\n",
    "classifier.add(Dense(9, kernel_initializer = \"uniform\",activation = \"relu\", input_dim=18))\n",
    "classifier.add(Dense(1, kernel_initializer = \"uniform\",activation = \"sigmoid\"))\n",
    "classifier.compile(optimizer= \"adam\",loss = \"binary_crossentropy\",metrics = [\"accuracy\"])\n",
    "classifier.fit(x_train, y_train, batch_size = 10, epochs = 1)"
   ]
  },
  {
   "attachments": {},
   "cell_type": "markdown",
   "metadata": {},
   "source": [
    "## Step 5 — Running Predictions on the Test Set"
   ]
  },
  {
   "cell_type": "code",
   "execution_count": 9,
   "metadata": {},
   "outputs": [
    {
     "name": "stdout",
     "output_type": "stream",
     "text": [
      "141/141 [==============================] - 0s 324us/step\n"
     ]
    }
   ],
   "source": [
    "y_pred = classifier.predict(x_test)\n",
    "y_pred = (y_pred > 0.5)"
   ]
  },
  {
   "attachments": {},
   "cell_type": "markdown",
   "metadata": {},
   "source": [
    "## Step 6 — Checking the Confusion Matrix"
   ]
  },
  {
   "cell_type": "code",
   "execution_count": 10,
   "metadata": {},
   "outputs": [
    {
     "data": {
      "text/plain": [
       "array([[3332,  129],\n",
       "       [ 650,  389]])"
      ]
     },
     "execution_count": 10,
     "metadata": {},
     "output_type": "execute_result"
    }
   ],
   "source": [
    "from sklearn.metrics import confusion_matrix\n",
    "cm = confusion_matrix(y_test, y_pred)\n",
    "cm"
   ]
  },
  {
   "attachments": {},
   "cell_type": "markdown",
   "metadata": {},
   "source": [
    "## Step 7 — Making a Single Prediction"
   ]
  },
  {
   "cell_type": "code",
   "execution_count": 11,
   "metadata": {},
   "outputs": [
    {
     "name": "stdout",
     "output_type": "stream",
     "text": [
      "1/1 [==============================] - 0s 13ms/step\n",
      "[[False]]\n"
     ]
    }
   ],
   "source": [
    "new_pred = classifier.predict(sc.transform(np.array([[0.26,0.7 ,3., 238., 6., 0.,0.,0.,0., 0.,0.,0.,0.,0.,1.,0., 0.,1.]])))\n",
    "new_pred = (new_pred > 0.5)\n",
    "print(new_pred)"
   ]
  },
  {
   "attachments": {},
   "cell_type": "markdown",
   "metadata": {},
   "source": [
    "## Step 8 — Improving the Model Accuracy"
   ]
  },
  {
   "cell_type": "code",
   "execution_count": 12,
   "metadata": {},
   "outputs": [
    {
     "ename": "ModuleNotFoundError",
     "evalue": "No module named 'keras.wrappers'",
     "output_type": "error",
     "traceback": [
      "\u001b[0;31m---------------------------------------------------------------------------\u001b[0m",
      "\u001b[0;31mModuleNotFoundError\u001b[0m                       Traceback (most recent call last)",
      "Cell \u001b[0;32mIn[12], line 1\u001b[0m\n\u001b[0;32m----> 1\u001b[0m \u001b[38;5;28;01mfrom\u001b[39;00m \u001b[38;5;21;01mkeras\u001b[39;00m\u001b[38;5;21;01m.\u001b[39;00m\u001b[38;5;21;01mwrappers\u001b[39;00m\u001b[38;5;21;01m.\u001b[39;00m\u001b[38;5;21;01mscikit_learn\u001b[39;00m \u001b[38;5;28;01mimport\u001b[39;00m KerasClassifier\n\u001b[1;32m      2\u001b[0m \u001b[38;5;28;01mfrom\u001b[39;00m \u001b[38;5;21;01msklearn\u001b[39;00m\u001b[38;5;21;01m.\u001b[39;00m\u001b[38;5;21;01mmodel_selection\u001b[39;00m \u001b[38;5;28;01mimport\u001b[39;00m cross_val_score\n",
      "\u001b[0;31mModuleNotFoundError\u001b[0m: No module named 'keras.wrappers'"
     ]
    }
   ],
   "source": [
    "from keras.wrappers.scikit_learn import KerasClassifier\n",
    "from sklearn.model_selection import cross_val_score"
   ]
  },
  {
   "cell_type": "code",
   "execution_count": null,
   "metadata": {},
   "outputs": [],
   "source": [
    "def make_classifier():\n",
    "    classifier = Sequential()\n",
    "    classifier.add(Dense(9, kernel_initializer = \"uniform\", activation = \"relu\", input_dim=18))\n",
    "    classifier.add(Dense(1, kernel_initializer = \"uniform\", activation = \"sigmoid\"))\n",
    "    classifier.compile(optimizer= \"adam\",loss = \"binary_crossentropy\",metrics = [\"accuracy\"])\n",
    "    return classifier"
   ]
  },
  {
   "cell_type": "code",
   "execution_count": null,
   "metadata": {},
   "outputs": [
    {
     "name": "stderr",
     "output_type": "stream",
     "text": [
      "/var/folders/bl/wtnkc881545_wjgyg4fsy3xc0000gn/T/ipykernel_30693/3695628570.py:1: DeprecationWarning: KerasClassifier is deprecated, use Sci-Keras (https://github.com/adriangb/scikeras) instead. See https://www.adriangb.com/scikeras/stable/migration.html for help migrating.\n",
      "  classifier = KerasClassifier(build_fn = make_classifier, batch_size=10, nb_epoch=1)\n"
     ]
    },
    {
     "name": "stdout",
     "output_type": "stream",
     "text": [
      "945/945 [==============================] - 2s 1ms/step - loss: 0.4357 - accuracy: 0.7896\n",
      "945/945 [==============================] - 2s 2ms/step - loss: 0.4546 - accuracy: 0.7601\n",
      "945/945 [==============================] - 2s 1ms/step - loss: 0.4226 - accuracy: 0.8216\n",
      "945/945 [==============================] - 2s 2ms/step - loss: 0.4411 - accuracy: 0.7985\n",
      "945/945 [==============================] - 2s 2ms/step - loss: 0.4418 - accuracy: 0.7874\n",
      "945/945 [==============================] - 2s 2ms/step - loss: 0.4518 - accuracy: 0.7960\n",
      "945/945 [==============================] - 2s 2ms/step - loss: 0.4393 - accuracy: 0.7920\n",
      "105/105 [==============================] - 0s 2ms/step - loss: 0.3665 - accuracy: 0.7724\n",
      "945/945 [==============================] - 2s 2ms/step - loss: 0.4398 - accuracy: 0.7879\n",
      "105/105 [==============================] - 0s 2ms/step - loss: 0.3000 - accuracy: 0.8819\n",
      "105/105 [==============================] - 0s 1ms/step - loss: 0.3360 - accuracy: 0.8343\n",
      "105/105 [==============================] - 0s 1ms/step - loss: 0.3164 - accuracy: 0.8162\n",
      "105/105 [==============================] - 0s 1ms/step - loss: 0.3127 - accuracy: 0.8314\n",
      "105/105 [==============================] - 0s 788us/step - loss: 0.3130 - accuracy: 0.8229\n",
      "105/105 [==============================] - 0s 1ms/step - loss: 0.3123 - accuracy: 0.8505\n",
      "945/945 [==============================] - 1s 446us/step - loss: 0.4395 - accuracy: 0.7921\n",
      "105/105 [==============================] - 0s 541us/step - loss: 0.3237 - accuracy: 0.8248\n",
      "945/945 [==============================] - 1s 463us/step - loss: 0.4338 - accuracy: 0.8050\n",
      "105/105 [==============================] - 0s 387us/step - loss: 0.3303 - accuracy: 0.8284\n",
      "105/105 [==============================] - 0s 334us/step - loss: 0.2851 - accuracy: 0.8914\n"
     ]
    }
   ],
   "source": [
    "classifier = KerasClassifier(build_fn = make_classifier, batch_size=10, nb_epoch=1)\n",
    "accuracies = cross_val_score(estimator = classifier,X= x_train,y = y_train,cv = 10,n_jobs = -1)\n"
   ]
  },
  {
   "cell_type": "code",
   "execution_count": null,
   "metadata": {},
   "outputs": [
    {
     "data": {
      "text/plain": [
       "0.8354122400283813"
      ]
     },
     "execution_count": 320,
     "metadata": {},
     "output_type": "execute_result"
    }
   ],
   "source": [
    "mean = accuracies.mean()\n",
    "mean"
   ]
  },
  {
   "cell_type": "code",
   "execution_count": null,
   "metadata": {},
   "outputs": [
    {
     "data": {
      "text/plain": [
       "0.0010205988129607135"
      ]
     },
     "execution_count": 321,
     "metadata": {},
     "output_type": "execute_result"
    }
   ],
   "source": [
    "variance = accuracies.var()\n",
    "variance"
   ]
  },
  {
   "attachments": {},
   "cell_type": "markdown",
   "metadata": {},
   "source": [
    "## Step 9 - Adding Dropout Regularization to Fight Over-Fitting"
   ]
  },
  {
   "cell_type": "code",
   "execution_count": null,
   "metadata": {},
   "outputs": [],
   "source": [
    "from keras.layers import Dropout\n",
    "\n",
    "classifier = Sequential()\n",
    "classifier.add(Dense(9, kernel_initializer = \"uniform\", activation = \"relu\", input_dim=18))\n",
    "classifier.add(Dropout(rate = 0.1))\n",
    "classifier.add(Dense(1, kernel_initializer = \"uniform\", activation = \"sigmoid\"))\n",
    "classifier.compile(optimizer= \"adam\",loss = \"binary_crossentropy\",metrics = [\"accuracy\"])"
   ]
  },
  {
   "cell_type": "markdown",
   "metadata": {},
   "source": [
    "## Step 10 — Hyperparameter Tuning"
   ]
  },
  {
   "cell_type": "code",
   "execution_count": null,
   "metadata": {},
   "outputs": [
    {
     "name": "stdout",
     "output_type": "stream",
     "text": [
      "Epoch 1/2\n"
     ]
    },
    {
     "name": "stderr",
     "output_type": "stream",
     "text": [
      "/var/folders/bl/wtnkc881545_wjgyg4fsy3xc0000gn/T/ipykernel_30693/4011020080.py:8: DeprecationWarning: KerasClassifier is deprecated, use Sci-Keras (https://github.com/adriangb/scikeras) instead. See https://www.adriangb.com/scikeras/stable/migration.html for help migrating.\n",
      "  classifier = KerasClassifier(build_fn = make_classifier)\n"
     ]
    },
    {
     "name": "stdout",
     "output_type": "stream",
     "text": [
      "263/263 [==============================] - 1s 406us/step - loss: 0.5827 - accuracy: 0.7693\n",
      "Epoch 2/2\n",
      "263/263 [==============================] - 0s 377us/step - loss: 0.4023 - accuracy: 0.8028\n",
      "165/165 [==============================] - 0s 261us/step\n",
      "Epoch 1/2\n",
      "263/263 [==============================] - 0s 416us/step - loss: 0.6159 - accuracy: 0.7585\n",
      "Epoch 2/2\n",
      "263/263 [==============================] - 0s 386us/step - loss: 0.3976 - accuracy: 0.8518\n",
      "165/165 [==============================] - 0s 272us/step\n",
      "Epoch 1/2\n",
      "263/263 [==============================] - 0s 387us/step - loss: 0.6084 - accuracy: 0.7617\n",
      "Epoch 2/2\n",
      "263/263 [==============================] - 0s 367us/step - loss: 0.4355 - accuracy: 0.7824\n",
      "165/165 [==============================] - 0s 266us/step\n",
      "Epoch 1/2\n",
      "263/263 [==============================] - 0s 387us/step - loss: 0.5832 - accuracy: 0.7613\n",
      "Epoch 2/2\n",
      "263/263 [==============================] - 0s 365us/step - loss: 0.4218 - accuracy: 0.7810\n",
      "165/165 [==============================] - 0s 255us/step\n",
      "Epoch 1/3\n",
      "263/263 [==============================] - 0s 394us/step - loss: 0.5951 - accuracy: 0.7584\n",
      "Epoch 2/3\n",
      "263/263 [==============================] - 0s 369us/step - loss: 0.4171 - accuracy: 0.8083\n",
      "Epoch 3/3\n",
      "263/263 [==============================] - 0s 368us/step - loss: 0.3588 - accuracy: 0.8544\n",
      "165/165 [==============================] - 0s 262us/step\n",
      "Epoch 1/3\n",
      "263/263 [==============================] - 0s 390us/step - loss: 0.5722 - accuracy: 0.7577\n",
      "Epoch 2/3\n",
      "263/263 [==============================] - 0s 366us/step - loss: 0.4120 - accuracy: 0.7846\n",
      "Epoch 3/3\n",
      "263/263 [==============================] - 0s 359us/step - loss: 0.3541 - accuracy: 0.8189\n",
      "165/165 [==============================] - 0s 268us/step\n",
      "Epoch 1/3\n",
      "263/263 [==============================] - 0s 392us/step - loss: 0.5912 - accuracy: 0.7615\n",
      "Epoch 2/3\n",
      "263/263 [==============================] - 0s 381us/step - loss: 0.4312 - accuracy: 0.7855\n",
      "Epoch 3/3\n",
      "263/263 [==============================] - 0s 349us/step - loss: 0.3615 - accuracy: 0.8510\n",
      "165/165 [==============================] - 0s 263us/step\n",
      "Epoch 1/3\n",
      "263/263 [==============================] - 0s 383us/step - loss: 0.5931 - accuracy: 0.7560\n",
      "Epoch 2/3\n",
      "263/263 [==============================] - 0s 357us/step - loss: 0.4343 - accuracy: 0.7821\n",
      "Epoch 3/3\n",
      "263/263 [==============================] - 0s 359us/step - loss: 0.3728 - accuracy: 0.8021\n",
      "165/165 [==============================] - 0s 268us/step\n",
      "Epoch 1/2\n",
      "150/150 [==============================] - 0s 422us/step - loss: 0.6386 - accuracy: 0.7561\n",
      "Epoch 2/2\n",
      "150/150 [==============================] - 0s 370us/step - loss: 0.4783 - accuracy: 0.7822\n",
      "165/165 [==============================] - 0s 266us/step\n",
      "Epoch 1/2\n",
      "150/150 [==============================] - 0s 385us/step - loss: 0.6442 - accuracy: 0.7482\n",
      "Epoch 2/2\n",
      "150/150 [==============================] - 0s 354us/step - loss: 0.4795 - accuracy: 0.7830\n",
      "165/165 [==============================] - 0s 267us/step\n",
      "Epoch 1/2\n",
      "150/150 [==============================] - 0s 419us/step - loss: 0.6344 - accuracy: 0.7626\n",
      "Epoch 2/2\n",
      "150/150 [==============================] - 0s 379us/step - loss: 0.5069 - accuracy: 0.7636\n",
      "165/165 [==============================] - 0s 262us/step\n",
      "Epoch 1/2\n",
      "150/150 [==============================] - 0s 390us/step - loss: 0.6283 - accuracy: 0.7587\n",
      "Epoch 2/2\n",
      "150/150 [==============================] - 0s 349us/step - loss: 0.4947 - accuracy: 0.7594\n",
      "165/165 [==============================] - 0s 257us/step\n",
      "Epoch 1/3\n",
      "150/150 [==============================] - 0s 428us/step - loss: 0.6384 - accuracy: 0.7594\n",
      "Epoch 2/3\n",
      "150/150 [==============================] - 0s 378us/step - loss: 0.4722 - accuracy: 0.7800\n",
      "Epoch 3/3\n",
      "150/150 [==============================] - 0s 369us/step - loss: 0.3902 - accuracy: 0.8053\n",
      "165/165 [==============================] - 0s 259us/step\n",
      "Epoch 1/3\n",
      "150/150 [==============================] - 0s 393us/step - loss: 0.6379 - accuracy: 0.7533\n",
      "Epoch 2/3\n",
      "150/150 [==============================] - 0s 344us/step - loss: 0.4774 - accuracy: 0.7810\n",
      "Epoch 3/3\n",
      "150/150 [==============================] - 0s 348us/step - loss: 0.3917 - accuracy: 0.8078\n",
      "165/165 [==============================] - 0s 273us/step\n",
      "Epoch 1/3\n",
      "150/150 [==============================] - 0s 416us/step - loss: 0.6496 - accuracy: 0.7558\n",
      "Epoch 2/3\n",
      "150/150 [==============================] - 0s 377us/step - loss: 0.5356 - accuracy: 0.7853\n",
      "Epoch 3/3\n",
      "150/150 [==============================] - 0s 364us/step - loss: 0.4381 - accuracy: 0.8076\n",
      "165/165 [==============================] - 0s 282us/step\n",
      "Epoch 1/3\n",
      "150/150 [==============================] - 0s 395us/step - loss: 0.6361 - accuracy: 0.7558\n",
      "Epoch 2/3\n",
      "150/150 [==============================] - 0s 338us/step - loss: 0.4962 - accuracy: 0.7594\n",
      "Epoch 3/3\n",
      "150/150 [==============================] - 0s 348us/step - loss: 0.4157 - accuracy: 0.7863\n",
      "165/165 [==============================] - 0s 269us/step\n",
      "Epoch 1/3\n",
      "525/525 [==============================] - 0s 375us/step - loss: 0.4938 - accuracy: 0.7963\n",
      "Epoch 2/3\n",
      "525/525 [==============================] - 0s 361us/step - loss: 0.2778 - accuracy: 0.9011\n",
      "Epoch 3/3\n",
      "525/525 [==============================] - 0s 371us/step - loss: 0.2103 - accuracy: 0.9357\n"
     ]
    }
   ],
   "source": [
    "from sklearn.model_selection import GridSearchCV\n",
    "def make_classifier(optimizer):\n",
    "    classifier = Sequential()\n",
    "    classifier.add(Dense(9, kernel_initializer = \"uniform\", activation = \"relu\", input_dim=18))\n",
    "    classifier.add(Dense(1, kernel_initializer = \"uniform\", activation = \"sigmoid\"))\n",
    "    classifier.compile(optimizer= optimizer,loss = \"binary_crossentropy\",metrics = [\"accuracy\"])\n",
    "    return classifier\n",
    "classifier = KerasClassifier(build_fn = make_classifier)\n",
    "params = {\n",
    "    'batch_size':[20,35],\n",
    "    'epochs':[2,3],\n",
    "    'optimizer':['adam','rmsprop']\n",
    "}\n",
    "grid_search = GridSearchCV(estimator=classifier,\n",
    "                           param_grid=params,\n",
    "                           scoring=\"accuracy\",\n",
    "                           cv=2)\n",
    "grid_search = grid_search.fit(x_train,y_train)\n"
   ]
  },
  {
   "cell_type": "code",
   "execution_count": null,
   "metadata": {},
   "outputs": [
    {
     "name": "stdout",
     "output_type": "stream",
     "text": [
      "{'batch_size': 20, 'epochs': 3, 'optimizer': 'adam'}\n",
      "0.8436022825209337\n"
     ]
    }
   ],
   "source": [
    "best_param = grid_search.best_params_\n",
    "best_accuracy = grid_search.best_score_\n",
    "print(best_param)\n",
    "print(best_accuracy)"
   ]
  }
 ],
 "metadata": {
  "kernelspec": {
   "display_name": "Python 3",
   "language": "python",
   "name": "python3"
  },
  "language_info": {
   "codemirror_mode": {
    "name": "ipython",
    "version": 3
   },
   "file_extension": ".py",
   "mimetype": "text/x-python",
   "name": "python",
   "nbconvert_exporter": "python",
   "pygments_lexer": "ipython3",
   "version": "3.11.6"
  },
  "orig_nbformat": 4,
  "vscode": {
   "interpreter": {
    "hash": "b0fa6594d8f4cbf19f97940f81e996739fb7646882a419484c72d19e05852a7e"
   }
  }
 },
 "nbformat": 4,
 "nbformat_minor": 2
}
