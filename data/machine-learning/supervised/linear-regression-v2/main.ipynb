{
 "cells": [
  {
   "cell_type": "code",
   "execution_count": 87,
   "metadata": {},
   "outputs": [],
   "source": [
    "import tensorflow as tf\n",
    "import numpy as np\n",
    "import matplotlib.pyplot as plt\n",
    "plt.style.use('ggplot')"
   ]
  },
  {
   "cell_type": "code",
   "execution_count": 88,
   "metadata": {},
   "outputs": [
    {
     "data": {
      "text/plain": [
       "array([ 0.,  1.,  2.,  3.,  4.,  5.,  6.,  7.,  8.,  9., 10., 11., 12.,\n",
       "       13., 14., 15., 16., 17., 18., 19., 20., 21., 22., 23., 24., 25.,\n",
       "       26., 27., 28., 29., 30., 31., 32., 33., 34., 35., 36., 37., 38.,\n",
       "       39., 40., 41., 42., 43., 44., 45., 46., 47., 48., 49., 50.])"
      ]
     },
     "execution_count": 88,
     "metadata": {},
     "output_type": "execute_result"
    }
   ],
   "source": [
    "x = np.linspace(0, 50, 51)\n",
    "x"
   ]
  },
  {
   "cell_type": "code",
   "execution_count": 89,
   "metadata": {},
   "outputs": [
    {
     "data": {
      "text/plain": [
       "array([ 7.46747042,  8.81782384,  8.95084274, 12.1635149 ,  5.91618015,\n",
       "       14.24647511, 13.71890443, 14.74921522, 10.71703307, 16.49240103,\n",
       "       17.73260004, 15.81889665, 16.94440161, 21.35902828, 19.10563456,\n",
       "       16.16254221, 22.19254963, 24.97971721, 27.77639925, 19.40920321,\n",
       "       24.92815727, 30.43015208, 23.65302677, 28.83674419, 25.35751139,\n",
       "       31.70330829, 33.38176569, 32.88123213, 32.81534561, 32.95695312,\n",
       "       30.96152795, 31.90406035, 41.15449079, 40.32259183, 40.95354891,\n",
       "       42.29321959, 42.28127956, 40.82977757, 39.62486213, 47.58846934,\n",
       "       47.2858852 , 46.26105586, 46.23830199, 43.86246149, 48.51659858,\n",
       "       48.36176325, 48.38882657, 48.93496356, 51.97743955, 55.66829348,\n",
       "       59.99761003])"
      ]
     },
     "execution_count": 89,
     "metadata": {},
     "output_type": "execute_result"
    }
   ],
   "source": [
    "y = x + 10 * np.random.random((len(x)))\n",
    "y"
   ]
  },
  {
   "cell_type": "code",
   "execution_count": 90,
   "metadata": {},
   "outputs": [
    {
     "data": {
      "image/png": "[encoded data removed]",
      "text/plain": [
       "<Figure size 640x480 with 1 Axes>"
      ]
     },
     "metadata": {},
     "output_type": "display_data"
    }
   ],
   "source": [
    "plt.scatter(x, y, label='Generated  data')\n",
    "plt.legend()\n",
    "plt.show()"
   ]
  },
  {
   "cell_type": "code",
   "execution_count": 91,
   "metadata": {},
   "outputs": [],
   "source": [
    "model = tf.keras.Sequential()\n",
    "model.add(tf.keras.layers.Dense(1, input_shape=[1]))\n",
    "model.compile(loss='mean_squared_error', optimizer=tf.keras.optimizers.Adam(0.1))"
   ]
  },
  {
   "cell_type": "code",
   "execution_count": 92,
   "metadata": {},
   "outputs": [
    {
     "name": "stdout",
     "output_type": "stream",
     "text": [
      "Model: \"sequential_8\"\n",
      "_________________________________________________________________\n",
      " Layer (type)                Output Shape              Param #   \n",
      "=================================================================\n",
      " dense_8 (Dense)             (None, 1)                 2         \n",
      "                                                                 \n",
      "=================================================================\n",
      "Total params: 2\n",
      "Trainable params: 2\n",
      "Non-trainable params: 0\n",
      "_________________________________________________________________\n"
     ]
    }
   ],
   "source": [
    "model.summary()"
   ]
  },
  {
   "cell_type": "code",
   "execution_count": 93,
   "metadata": {},
   "outputs": [
    {
     "name": "stdout",
     "output_type": "stream",
     "text": [
      "Epoch 1/200\n",
      "2/2 [==============================] - 0s 2ms/step - loss: 5022.5503\n",
      "Epoch 2/200\n",
      "2/2 [==============================] - 0s 1ms/step - loss: 4199.1763\n",
      "Epoch 3/200\n",
      "2/2 [==============================] - 0s 985us/step - loss: 3452.7788\n",
      "Epoch 4/200\n",
      "2/2 [==============================] - 0s 1ms/step - loss: 2807.1375\n",
      "Epoch 5/200\n",
      "2/2 [==============================] - 0s 1ms/step - loss: 2214.4805\n",
      "Epoch 6/200\n",
      "2/2 [==============================] - 0s 2ms/step - loss: 1722.3119\n",
      "Epoch 7/200\n",
      "2/2 [==============================] - 0s 2ms/step - loss: 1303.4158\n",
      "Epoch 8/200\n",
      "2/2 [==============================] - 0s 1ms/step - loss: 946.8143\n",
      "Epoch 9/200\n",
      "2/2 [==============================] - 0s 1ms/step - loss: 664.2831\n",
      "Epoch 10/200\n",
      "2/2 [==============================] - 0s 2ms/step - loss: 439.6459\n",
      "Epoch 11/200\n",
      "2/2 [==============================] - 0s 2ms/step - loss: 274.6432\n",
      "Epoch 12/200\n",
      "2/2 [==============================] - 0s 2ms/step - loss: 158.0000\n",
      "Epoch 13/200\n",
      "2/2 [==============================] - 0s 1ms/step - loss: 84.6809\n",
      "Epoch 14/200\n",
      "2/2 [==============================] - 0s 1ms/step - loss: 38.3374\n",
      "Epoch 15/200\n",
      "2/2 [==============================] - 0s 1ms/step - loss: 16.7764\n",
      "Epoch 16/200\n",
      "2/2 [==============================] - 0s 1ms/step - loss: 11.7937\n",
      "Epoch 17/200\n",
      "2/2 [==============================] - 0s 2ms/step - loss: 16.6001\n",
      "Epoch 18/200\n",
      "2/2 [==============================] - 0s 2ms/step - loss: 29.6790\n",
      "Epoch 19/200\n",
      "2/2 [==============================] - 0s 1ms/step - loss: 39.1433\n",
      "Epoch 20/200\n",
      "2/2 [==============================] - 0s 1ms/step - loss: 49.0878\n",
      "Epoch 21/200\n",
      "2/2 [==============================] - 0s 2ms/step - loss: 54.8904\n",
      "Epoch 22/200\n",
      "2/2 [==============================] - 0s 1ms/step - loss: 57.5141\n",
      "Epoch 23/200\n",
      "2/2 [==============================] - 0s 2ms/step - loss: 56.5169\n",
      "Epoch 24/200\n",
      "2/2 [==============================] - 0s 1ms/step - loss: 52.3871\n",
      "Epoch 25/200\n",
      "2/2 [==============================] - 0s 1ms/step - loss: 46.2883\n",
      "Epoch 26/200\n",
      "2/2 [==============================] - 0s 1ms/step - loss: 39.6000\n",
      "Epoch 27/200\n",
      "2/2 [==============================] - 0s 1ms/step - loss: 32.1514\n",
      "Epoch 28/200\n",
      "2/2 [==============================] - 0s 963us/step - loss: 25.6431\n",
      "Epoch 29/200\n",
      "2/2 [==============================] - 0s 2ms/step - loss: 20.6441\n",
      "Epoch 30/200\n",
      "2/2 [==============================] - 0s 2ms/step - loss: 16.3071\n",
      "Epoch 31/200\n",
      "2/2 [==============================] - 0s 2ms/step - loss: 14.0214\n",
      "Epoch 32/200\n",
      "2/2 [==============================] - 0s 1ms/step - loss: 12.1636\n",
      "Epoch 33/200\n",
      "2/2 [==============================] - 0s 1ms/step - loss: 11.3395\n",
      "Epoch 34/200\n",
      "2/2 [==============================] - 0s 1ms/step - loss: 11.2188\n",
      "Epoch 35/200\n",
      "2/2 [==============================] - 0s 2ms/step - loss: 11.7588\n",
      "Epoch 36/200\n",
      "2/2 [==============================] - 0s 2ms/step - loss: 12.2394\n",
      "Epoch 37/200\n",
      "2/2 [==============================] - 0s 1ms/step - loss: 12.5330\n",
      "Epoch 38/200\n",
      "2/2 [==============================] - 0s 1ms/step - loss: 12.8145\n",
      "Epoch 39/200\n",
      "2/2 [==============================] - 0s 1ms/step - loss: 12.8721\n",
      "Epoch 40/200\n",
      "2/2 [==============================] - 0s 1ms/step - loss: 12.7668\n",
      "Epoch 41/200\n",
      "2/2 [==============================] - 0s 2ms/step - loss: 12.5312\n",
      "Epoch 42/200\n",
      "2/2 [==============================] - 0s 1ms/step - loss: 12.2568\n",
      "Epoch 43/200\n",
      "2/2 [==============================] - 0s 1ms/step - loss: 11.8668\n",
      "Epoch 44/200\n",
      "2/2 [==============================] - 0s 1ms/step - loss: 11.6488\n",
      "Epoch 45/200\n",
      "2/2 [==============================] - 0s 1ms/step - loss: 11.4112\n",
      "Epoch 46/200\n",
      "2/2 [==============================] - 0s 1ms/step - loss: 11.2280\n",
      "Epoch 47/200\n",
      "2/2 [==============================] - 0s 1ms/step - loss: 11.1691\n",
      "Epoch 48/200\n",
      "2/2 [==============================] - 0s 1ms/step - loss: 11.0101\n",
      "Epoch 49/200\n",
      "2/2 [==============================] - 0s 1ms/step - loss: 11.0063\n",
      "Epoch 50/200\n",
      "2/2 [==============================] - 0s 1ms/step - loss: 11.0309\n",
      "Epoch 51/200\n",
      "2/2 [==============================] - 0s 1ms/step - loss: 11.0238\n",
      "Epoch 52/200\n",
      "2/2 [==============================] - 0s 1ms/step - loss: 11.0042\n",
      "Epoch 53/200\n",
      "2/2 [==============================] - 0s 2ms/step - loss: 10.9899\n",
      "Epoch 54/200\n",
      "2/2 [==============================] - 0s 1ms/step - loss: 10.9676\n",
      "Epoch 55/200\n",
      "2/2 [==============================] - 0s 1ms/step - loss: 10.9419\n",
      "Epoch 56/200\n",
      "2/2 [==============================] - 0s 2ms/step - loss: 10.9153\n",
      "Epoch 57/200\n",
      "2/2 [==============================] - 0s 1ms/step - loss: 10.8817\n",
      "Epoch 58/200\n",
      "2/2 [==============================] - 0s 2ms/step - loss: 10.8506\n",
      "Epoch 59/200\n",
      "2/2 [==============================] - 0s 2ms/step - loss: 10.8162\n",
      "Epoch 60/200\n",
      "2/2 [==============================] - 0s 1ms/step - loss: 10.7857\n",
      "Epoch 61/200\n",
      "2/2 [==============================] - 0s 1ms/step - loss: 10.7668\n",
      "Epoch 62/200\n",
      "2/2 [==============================] - 0s 1ms/step - loss: 10.7313\n",
      "Epoch 63/200\n",
      "2/2 [==============================] - 0s 2ms/step - loss: 10.7434\n",
      "Epoch 64/200\n",
      "2/2 [==============================] - 0s 1ms/step - loss: 10.6970\n",
      "Epoch 65/200\n",
      "2/2 [==============================] - 0s 1ms/step - loss: 10.6793\n",
      "Epoch 66/200\n",
      "2/2 [==============================] - 0s 1ms/step - loss: 10.6624\n",
      "Epoch 67/200\n",
      "2/2 [==============================] - 0s 995us/step - loss: 10.6437\n",
      "Epoch 68/200\n",
      "2/2 [==============================] - 0s 970us/step - loss: 10.6231\n",
      "Epoch 69/200\n",
      "2/2 [==============================] - 0s 1ms/step - loss: 10.6004\n",
      "Epoch 70/200\n",
      "2/2 [==============================] - 0s 1ms/step - loss: 10.5863\n",
      "Epoch 71/200\n",
      "2/2 [==============================] - 0s 2ms/step - loss: 10.5613\n",
      "Epoch 72/200\n",
      "2/2 [==============================] - 0s 1ms/step - loss: 10.5395\n",
      "Epoch 73/200\n",
      "2/2 [==============================] - 0s 1ms/step - loss: 10.5163\n",
      "Epoch 74/200\n",
      "2/2 [==============================] - 0s 1ms/step - loss: 10.4908\n",
      "Epoch 75/200\n",
      "2/2 [==============================] - 0s 2ms/step - loss: 10.4606\n",
      "Epoch 76/200\n",
      "2/2 [==============================] - 0s 2ms/step - loss: 10.4380\n",
      "Epoch 77/200\n",
      "2/2 [==============================] - 0s 2ms/step - loss: 10.4130\n",
      "Epoch 78/200\n",
      "2/2 [==============================] - 0s 1ms/step - loss: 10.3852\n",
      "Epoch 79/200\n",
      "2/2 [==============================] - 0s 2ms/step - loss: 10.3808\n",
      "Epoch 80/200\n",
      "2/2 [==============================] - 0s 1ms/step - loss: 10.3474\n",
      "Epoch 81/200\n",
      "2/2 [==============================] - 0s 2ms/step - loss: 10.3304\n",
      "Epoch 82/200\n",
      "2/2 [==============================] - 0s 2ms/step - loss: 10.3003\n",
      "Epoch 83/200\n",
      "2/2 [==============================] - 0s 2ms/step - loss: 10.2812\n",
      "Epoch 84/200\n",
      "2/2 [==============================] - 0s 1ms/step - loss: 10.2744\n",
      "Epoch 85/200\n",
      "2/2 [==============================] - 0s 1ms/step - loss: 10.2455\n",
      "Epoch 86/200\n",
      "2/2 [==============================] - 0s 2ms/step - loss: 10.2295\n",
      "Epoch 87/200\n",
      "2/2 [==============================] - 0s 2ms/step - loss: 10.2030\n",
      "Epoch 88/200\n",
      "2/2 [==============================] - 0s 1ms/step - loss: 10.1665\n",
      "Epoch 89/200\n",
      "2/2 [==============================] - 0s 2ms/step - loss: 10.1418\n",
      "Epoch 90/200\n",
      "2/2 [==============================] - 0s 1ms/step - loss: 10.1173\n",
      "Epoch 91/200\n",
      "2/2 [==============================] - 0s 2ms/step - loss: 10.0950\n",
      "Epoch 92/200\n",
      "2/2 [==============================] - 0s 2ms/step - loss: 10.1001\n",
      "Epoch 93/200\n",
      "2/2 [==============================] - 0s 1ms/step - loss: 10.0722\n",
      "Epoch 94/200\n",
      "2/2 [==============================] - 0s 2ms/step - loss: 10.0428\n",
      "Epoch 95/200\n",
      "2/2 [==============================] - 0s 2ms/step - loss: 10.0256\n",
      "Epoch 96/200\n",
      "2/2 [==============================] - 0s 1ms/step - loss: 9.9943\n",
      "Epoch 97/200\n",
      "2/2 [==============================] - 0s 1ms/step - loss: 9.9738\n",
      "Epoch 98/200\n",
      "2/2 [==============================] - 0s 2ms/step - loss: 9.9469\n",
      "Epoch 99/200\n",
      "2/2 [==============================] - 0s 1ms/step - loss: 9.9349\n",
      "Epoch 100/200\n",
      "2/2 [==============================] - 0s 1ms/step - loss: 9.9036\n",
      "Epoch 101/200\n",
      "2/2 [==============================] - 0s 1ms/step - loss: 9.8862\n",
      "Epoch 102/200\n",
      "2/2 [==============================] - 0s 1ms/step - loss: 9.8616\n",
      "Epoch 103/200\n",
      "2/2 [==============================] - 0s 977us/step - loss: 9.8390\n",
      "Epoch 104/200\n",
      "2/2 [==============================] - 0s 1ms/step - loss: 9.8224\n",
      "Epoch 105/200\n",
      "2/2 [==============================] - 0s 2ms/step - loss: 9.7941\n",
      "Epoch 106/200\n",
      "2/2 [==============================] - 0s 966us/step - loss: 9.7786\n",
      "Epoch 107/200\n",
      "2/2 [==============================] - 0s 1ms/step - loss: 9.7577\n",
      "Epoch 108/200\n",
      "2/2 [==============================] - 0s 1ms/step - loss: 9.7296\n",
      "Epoch 109/200\n",
      "2/2 [==============================] - 0s 2ms/step - loss: 9.7090\n",
      "Epoch 110/200\n",
      "2/2 [==============================] - 0s 1ms/step - loss: 9.6859\n",
      "Epoch 111/200\n",
      "2/2 [==============================] - 0s 1ms/step - loss: 9.6639\n",
      "Epoch 112/200\n",
      "2/2 [==============================] - 0s 1ms/step - loss: 9.6542\n",
      "Epoch 113/200\n",
      "2/2 [==============================] - 0s 1ms/step - loss: 9.6218\n",
      "Epoch 114/200\n",
      "2/2 [==============================] - 0s 1ms/step - loss: 9.6081\n",
      "Epoch 115/200\n",
      "2/2 [==============================] - 0s 2ms/step - loss: 9.5861\n",
      "Epoch 116/200\n",
      "2/2 [==============================] - 0s 1ms/step - loss: 9.5652\n",
      "Epoch 117/200\n",
      "2/2 [==============================] - 0s 1ms/step - loss: 9.5458\n",
      "Epoch 118/200\n",
      "2/2 [==============================] - 0s 1ms/step - loss: 9.5266\n",
      "Epoch 119/200\n",
      "2/2 [==============================] - 0s 2ms/step - loss: 9.5055\n",
      "Epoch 120/200\n",
      "2/2 [==============================] - 0s 1ms/step - loss: 9.4786\n",
      "Epoch 121/200\n",
      "2/2 [==============================] - 0s 912us/step - loss: 9.4584\n",
      "Epoch 122/200\n",
      "2/2 [==============================] - 0s 1ms/step - loss: 9.4417\n",
      "Epoch 123/200\n",
      "2/2 [==============================] - 0s 1ms/step - loss: 9.4181\n",
      "Epoch 124/200\n",
      "2/2 [==============================] - 0s 1ms/step - loss: 9.4022\n",
      "Epoch 125/200\n",
      "2/2 [==============================] - 0s 1ms/step - loss: 9.3699\n",
      "Epoch 126/200\n",
      "2/2 [==============================] - 0s 2ms/step - loss: 9.3526\n",
      "Epoch 127/200\n",
      "2/2 [==============================] - 0s 2ms/step - loss: 9.3302\n",
      "Epoch 128/200\n",
      "2/2 [==============================] - 0s 1ms/step - loss: 9.3162\n",
      "Epoch 129/200\n",
      "2/2 [==============================] - 0s 1ms/step - loss: 9.3067\n",
      "Epoch 130/200\n",
      "2/2 [==============================] - 0s 951us/step - loss: 9.2951\n",
      "Epoch 131/200\n",
      "2/2 [==============================] - 0s 1ms/step - loss: 9.2685\n",
      "Epoch 132/200\n",
      "2/2 [==============================] - 0s 2ms/step - loss: 9.2533\n",
      "Epoch 133/200\n",
      "2/2 [==============================] - 0s 1ms/step - loss: 9.2227\n",
      "Epoch 134/200\n",
      "2/2 [==============================] - 0s 1ms/step - loss: 9.1945\n",
      "Epoch 135/200\n",
      "2/2 [==============================] - 0s 1ms/step - loss: 9.1772\n",
      "Epoch 136/200\n",
      "2/2 [==============================] - 0s 1ms/step - loss: 9.1507\n",
      "Epoch 137/200\n",
      "2/2 [==============================] - 0s 903us/step - loss: 9.1346\n",
      "Epoch 138/200\n",
      "2/2 [==============================] - 0s 1ms/step - loss: 9.1132\n",
      "Epoch 139/200\n",
      "2/2 [==============================] - 0s 1ms/step - loss: 9.1092\n",
      "Epoch 140/200\n",
      "2/2 [==============================] - 0s 1ms/step - loss: 9.0918\n",
      "Epoch 141/200\n",
      "2/2 [==============================] - 0s 1ms/step - loss: 9.0758\n",
      "Epoch 142/200\n",
      "2/2 [==============================] - 0s 1ms/step - loss: 9.0620\n",
      "Epoch 143/200\n",
      "2/2 [==============================] - 0s 867us/step - loss: 9.0464\n",
      "Epoch 144/200\n",
      "2/2 [==============================] - 0s 2ms/step - loss: 9.0305\n",
      "Epoch 145/200\n",
      "2/2 [==============================] - 0s 1ms/step - loss: 9.0097\n",
      "Epoch 146/200\n",
      "2/2 [==============================] - 0s 1ms/step - loss: 8.9942\n",
      "Epoch 147/200\n",
      "2/2 [==============================] - 0s 1ms/step - loss: 8.9498\n",
      "Epoch 148/200\n",
      "2/2 [==============================] - 0s 1ms/step - loss: 8.9298\n",
      "Epoch 149/200\n",
      "2/2 [==============================] - 0s 1ms/step - loss: 8.9166\n",
      "Epoch 150/200\n",
      "2/2 [==============================] - 0s 1ms/step - loss: 8.8934\n",
      "Epoch 151/200\n",
      "2/2 [==============================] - 0s 982us/step - loss: 8.8753\n",
      "Epoch 152/200\n",
      "2/2 [==============================] - 0s 1ms/step - loss: 8.8593\n",
      "Epoch 153/200\n",
      "2/2 [==============================] - 0s 1ms/step - loss: 8.8402\n",
      "Epoch 154/200\n",
      "2/2 [==============================] - 0s 955us/step - loss: 8.8275\n",
      "Epoch 155/200\n",
      "2/2 [==============================] - 0s 1ms/step - loss: 8.8106\n",
      "Epoch 156/200\n",
      "2/2 [==============================] - 0s 1ms/step - loss: 8.7896\n",
      "Epoch 157/200\n",
      "2/2 [==============================] - 0s 894us/step - loss: 8.7682\n",
      "Epoch 158/200\n",
      "2/2 [==============================] - 0s 1ms/step - loss: 8.7704\n",
      "Epoch 159/200\n",
      "2/2 [==============================] - 0s 1ms/step - loss: 8.7390\n",
      "Epoch 160/200\n",
      "2/2 [==============================] - 0s 1ms/step - loss: 8.7260\n",
      "Epoch 161/200\n",
      "2/2 [==============================] - 0s 1ms/step - loss: 8.7022\n",
      "Epoch 162/200\n",
      "2/2 [==============================] - 0s 1ms/step - loss: 8.6859\n",
      "Epoch 163/200\n",
      "2/2 [==============================] - 0s 1ms/step - loss: 8.6722\n",
      "Epoch 164/200\n",
      "2/2 [==============================] - 0s 1ms/step - loss: 8.6692\n",
      "Epoch 165/200\n",
      "2/2 [==============================] - 0s 1ms/step - loss: 8.6428\n",
      "Epoch 166/200\n",
      "2/2 [==============================] - 0s 2ms/step - loss: 8.6273\n",
      "Epoch 167/200\n",
      "2/2 [==============================] - 0s 1ms/step - loss: 8.6098\n",
      "Epoch 168/200\n",
      "2/2 [==============================] - 0s 1ms/step - loss: 8.5947\n",
      "Epoch 169/200\n",
      "2/2 [==============================] - 0s 984us/step - loss: 8.5829\n",
      "Epoch 170/200\n",
      "2/2 [==============================] - 0s 1ms/step - loss: 8.5636\n",
      "Epoch 171/200\n",
      "2/2 [==============================] - 0s 1ms/step - loss: 8.5503\n",
      "Epoch 172/200\n",
      "2/2 [==============================] - 0s 977us/step - loss: 8.5332\n",
      "Epoch 173/200\n",
      "2/2 [==============================] - 0s 1ms/step - loss: 8.5276\n",
      "Epoch 174/200\n",
      "2/2 [==============================] - 0s 1ms/step - loss: 8.5044\n",
      "Epoch 175/200\n",
      "2/2 [==============================] - 0s 1ms/step - loss: 8.4898\n",
      "Epoch 176/200\n",
      "2/2 [==============================] - 0s 997us/step - loss: 8.4782\n",
      "Epoch 177/200\n",
      "2/2 [==============================] - 0s 993us/step - loss: 8.4590\n",
      "Epoch 178/200\n",
      "2/2 [==============================] - 0s 960us/step - loss: 8.4514\n",
      "Epoch 179/200\n",
      "2/2 [==============================] - 0s 985us/step - loss: 8.4431\n",
      "Epoch 180/200\n",
      "2/2 [==============================] - 0s 870us/step - loss: 8.4507\n",
      "Epoch 181/200\n",
      "2/2 [==============================] - 0s 2ms/step - loss: 8.4034\n",
      "Epoch 182/200\n",
      "2/2 [==============================] - 0s 1ms/step - loss: 8.3910\n",
      "Epoch 183/200\n",
      "2/2 [==============================] - 0s 1ms/step - loss: 8.3744\n",
      "Epoch 184/200\n",
      "2/2 [==============================] - 0s 1ms/step - loss: 8.3655\n",
      "Epoch 185/200\n",
      "2/2 [==============================] - 0s 981us/step - loss: 8.3465\n",
      "Epoch 186/200\n",
      "2/2 [==============================] - 0s 995us/step - loss: 8.3392\n",
      "Epoch 187/200\n",
      "2/2 [==============================] - 0s 1ms/step - loss: 8.3202\n",
      "Epoch 188/200\n",
      "2/2 [==============================] - 0s 2ms/step - loss: 8.3141\n",
      "Epoch 189/200\n",
      "2/2 [==============================] - 0s 898us/step - loss: 8.2987\n",
      "Epoch 190/200\n",
      "2/2 [==============================] - 0s 1ms/step - loss: 8.3033\n",
      "Epoch 191/200\n",
      "2/2 [==============================] - 0s 1ms/step - loss: 8.2691\n",
      "Epoch 192/200\n",
      "2/2 [==============================] - 0s 972us/step - loss: 8.2516\n",
      "Epoch 193/200\n",
      "2/2 [==============================] - 0s 971us/step - loss: 8.2416\n",
      "Epoch 194/200\n",
      "2/2 [==============================] - 0s 1ms/step - loss: 8.2246\n",
      "Epoch 195/200\n",
      "2/2 [==============================] - 0s 1ms/step - loss: 8.2083\n",
      "Epoch 196/200\n",
      "2/2 [==============================] - 0s 1ms/step - loss: 8.1939\n",
      "Epoch 197/200\n",
      "2/2 [==============================] - 0s 997us/step - loss: 8.1869\n",
      "Epoch 198/200\n",
      "2/2 [==============================] - 0s 950us/step - loss: 8.1742\n",
      "Epoch 199/200\n",
      "2/2 [==============================] - 0s 883us/step - loss: 8.1614\n",
      "Epoch 200/200\n",
      "2/2 [==============================] - 0s 1ms/step - loss: 8.1465\n"
     ]
    }
   ],
   "source": [
    "trained_model = model.fit(x, y, epochs=200)"
   ]
  },
  {
   "cell_type": "code",
   "execution_count": 94,
   "metadata": {},
   "outputs": [
    {
     "data": {
      "image/png": "[encoded data removed]",
      "text/plain": [
       "<Figure size 640x480 with 1 Axes>"
      ]
     },
     "metadata": {},
     "output_type": "display_data"
    }
   ],
   "source": [
    "plt.xlabel('Epoch Number')\n",
    "plt.ylabel(\"Loss Magnitude\")\n",
    "plt.plot(trained_model.history['loss'])\n",
    "plt.show()"
   ]
  },
  {
   "cell_type": "code",
   "execution_count": 95,
   "metadata": {},
   "outputs": [
    {
     "name": "stdout",
     "output_type": "stream",
     "text": [
      "WARNING:tensorflow:5 out of the last 9 calls to <function Model.make_predict_function.<locals>.predict_function at 0x284fe8280> triggered tf.function retracing. Tracing is expensive and the excessive number of tracings could be due to (1) creating @tf.function repeatedly in a loop, (2) passing tensors with different shapes, (3) passing Python objects instead of tensors. For (1), please define your @tf.function outside of the loop. For (2), @tf.function has reduce_retracing=True option that can avoid unnecessary retracing. For (3), please refer to https://www.tensorflow.org/guide/function#controlling_retracing and https://www.tensorflow.org/api_docs/python/tf/function for  more details.\n",
      "2/2 [==============================] - 0s 894us/step\n"
     ]
    }
   ],
   "source": [
    "y_pred_model = model.predict(x)"
   ]
  },
  {
   "cell_type": "code",
   "execution_count": 96,
   "metadata": {},
   "outputs": [
    {
     "data": {
      "image/png": "[encoded data removed]",
      "text/plain": [
       "<Figure size 640x480 with 1 Axes>"
      ]
     },
     "metadata": {},
     "output_type": "display_data"
    }
   ],
   "source": [
    "plt.scatter(x, y, label='Generated data')\n",
    "plt.plot(x, y_pred_model, label='Predicted with model', color='c')\n",
    "plt.legend()\n",
    "plt.show()"
   ]
  },
  {
   "cell_type": "code",
   "execution_count": 97,
   "metadata": {},
   "outputs": [
    {
     "data": {
      "text/plain": [
       "<keras.layers.core.dense.Dense at 0x285057790>"
      ]
     },
     "execution_count": 97,
     "metadata": {},
     "output_type": "execute_result"
    }
   ],
   "source": [
    "layer = model.get_layer(index=0)\n",
    "layer"
   ]
  },
  {
   "cell_type": "code",
   "execution_count": 98,
   "metadata": {},
   "outputs": [
    {
     "data": {
      "text/plain": [
       "[array([[1.0147661]], dtype=float32), array([4.581211], dtype=float32)]"
      ]
     },
     "execution_count": 98,
     "metadata": {},
     "output_type": "execute_result"
    }
   ],
   "source": [
    "weights = layer.get_weights()\n",
    "weights"
   ]
  },
  {
   "cell_type": "code",
   "execution_count": 99,
   "metadata": {},
   "outputs": [
    {
     "name": "stdout",
     "output_type": "stream",
     "text": [
      "[1.0147661]\n",
      "[4.581211]\n"
     ]
    }
   ],
   "source": [
    "m, b = weights[0][0], weights[1]\n",
    "print(m)\n",
    "print(b)"
   ]
  },
  {
   "cell_type": "code",
   "execution_count": 100,
   "metadata": {},
   "outputs": [
    {
     "data": {
      "text/plain": [
       "[4.2396894]"
      ]
     },
     "execution_count": 100,
     "metadata": {},
     "output_type": "execute_result"
    }
   ],
   "source": [
    "[1.014319]\n",
    "[4.2396894]"
   ]
  },
  {
   "cell_type": "code",
   "execution_count": 101,
   "metadata": {},
   "outputs": [
    {
     "data": {
      "text/plain": [
       "array([ 4.58121109,  5.59597719,  6.61074328,  7.62550938,  8.64027548,\n",
       "        9.65504158, 10.66980767, 11.68457377, 12.69933987, 13.71410596,\n",
       "       14.72887206, 15.74363816, 16.75840425, 17.77317035, 18.78793645,\n",
       "       19.80270255, 20.81746864, 21.83223474, 22.84700084, 23.86176693,\n",
       "       24.87653303, 25.89129913, 26.90606523, 27.92083132, 28.93559742,\n",
       "       29.95036352, 30.96512961, 31.97989571, 32.99466181, 34.00942791,\n",
       "       35.024194  , 36.0389601 , 37.0537262 , 38.06849229, 39.08325839,\n",
       "       40.09802449, 41.11279058, 42.12755668, 43.14232278, 44.15708888,\n",
       "       45.17185497, 46.18662107, 47.20138717, 48.21615326, 49.23091936,\n",
       "       50.24568546, 51.26045156, 52.27521765, 53.28998375, 54.30474985,\n",
       "       55.31951594])"
      ]
     },
     "execution_count": 101,
     "metadata": {},
     "output_type": "execute_result"
    }
   ],
   "source": [
    "y_pred_params = m * x + b\n",
    "y_pred_params"
   ]
  },
  {
   "cell_type": "code",
   "execution_count": 102,
   "metadata": {},
   "outputs": [
    {
     "data": {
      "image/png": "[encoded data removed]",
      "text/plain": [
       "<Figure size 640x480 with 1 Axes>"
      ]
     },
     "metadata": {},
     "output_type": "display_data"
    }
   ],
   "source": [
    "plt.scatter(x, y, label='Generated data')\n",
    "plt.plot(x, y_pred_params, label='Line fitted using parameter values', color='c')\n",
    "plt.legend()\n",
    "plt.show()"
   ]
  }
 ],
 "metadata": {
  "kernelspec": {
   "display_name": "Python 3",
   "language": "python",
   "name": "python3"
  },
  "language_info": {
   "codemirror_mode": {
    "name": "ipython",
    "version": 3
   },
   "file_extension": ".py",
   "mimetype": "text/x-python",
   "name": "python",
   "nbconvert_exporter": "python",
   "pygments_lexer": "ipython3",
   "version": "3.10.9"
  },
  "orig_nbformat": 4,
  "vscode": {
   "interpreter": {
    "hash": "b0fa6594d8f4cbf19f97940f81e996739fb7646882a419484c72d19e05852a7e"
   }
  }
 },
 "nbformat": 4,
 "nbformat_minor": 2
}
