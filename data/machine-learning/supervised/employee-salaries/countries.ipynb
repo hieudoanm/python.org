{
 "cells": [
  {
   "cell_type": "code",
   "execution_count": 4,
   "id": "ef9387f5",
   "metadata": {},
   "outputs": [
    {
     "name": "stdout",
     "output_type": "stream",
     "text": [
      "CSV file 'countries.csv' has been created successfully.\n",
      "  code code3                            name  region       subregion\n",
      "0   IO   IOT  British Indian Ocean Territory  Africa  Eastern Africa\n",
      "1   BI   BDI                         Burundi  Africa  Eastern Africa\n",
      "2   KM   COM                         Comoros  Africa  Eastern Africa\n",
      "3   DJ   DJI                        Djibouti  Africa  Eastern Africa\n",
      "4   ER   ERI                         Eritrea  Africa  Eastern Africa\n"
     ]
    }
   ],
   "source": [
    "import requests\n",
    "import pandas as pd\n",
    "\n",
    "# API endpoint\n",
    "url = \"https://restcountries.com/v3.1/all?fields=cca2,cca3,name,region,subregion\"\n",
    "\n",
    "# Make the request\n",
    "response = requests.get(url)\n",
    "response.raise_for_status()  # Raise error if request failed\n",
    "\n",
    "# Parse JSON response\n",
    "countries = response.json()\n",
    "\n",
    "# Extract desired fields\n",
    "data = []\n",
    "for c in countries:\n",
    "    code = c.get(\"cca2\", \"\")\n",
    "    code3 = c.get(\"cca3\", \"\")\n",
    "    name = c.get(\"name\", {}).get(\"common\", \"\")\n",
    "    region = c.get(\"region\", \"\")\n",
    "    subregion = c.get(\"subregion\", \"\")\n",
    "    data.append({\"code\": code, \"code3\": code3, \"name\": name, \"region\": region, \"subregion\": subregion})\n",
    "\n",
    "# Create DataFrame\n",
    "df = pd.DataFrame(data)\n",
    "\n",
    "# Sort by region and subregion\n",
    "df = df.sort_values(by=[\"region\", \"subregion\", \"name\"]).reset_index(drop=True)\n",
    "\n",
    "# Save to CSV\n",
    "df.to_csv(\"data/countries.csv\", index=False)\n",
    "\n",
    "print(\"CSV file 'countries.csv' has been created successfully.\")\n",
    "print(df.head())\n"
   ]
  }
 ],
 "metadata": {
  "kernelspec": {
   "display_name": "Python 3",
   "language": "python",
   "name": "python3"
  },
  "language_info": {
   "codemirror_mode": {
    "name": "ipython",
    "version": 3
   },
   "file_extension": ".py",
   "mimetype": "text/x-python",
   "name": "python",
   "nbconvert_exporter": "python",
   "pygments_lexer": "ipython3",
   "version": "3.13.7"
  }
 },
 "nbformat": 4,
 "nbformat_minor": 5
}
