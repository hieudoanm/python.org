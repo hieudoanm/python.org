{
 "cells": [
  {
   "cell_type": "code",
   "execution_count": 1,
   "metadata": {},
   "outputs": [
    {
     "data": {
      "application/vnd.jupyter.widget-view+json": {
       "model_id": "909811c58a914ce3b04e3de055482148",
       "version_major": 2,
       "version_minor": 0
      },
      "text/plain": [
       "  0%|          | 0/31 [00:00<?, ?it/s]"
      ]
     },
     "metadata": {},
     "output_type": "display_data"
    },
    {
     "name": "stdout",
     "output_type": "stream",
     "text": [
      "./anishgiri 1,469 False\n",
      "./azerichess 3,760 False\n",
      "./chefshouse 614 False\n",
      "./chesswarrior7197 6,154 False\n",
      "./danielnaroditsky 111,536 True\n",
      "./denlaz 6,188 False\n",
      "./dominguezonyoutube 4,393 False\n",
      "./duhless 14,595 True\n",
      "./fabianocaruana 4,783 False\n",
      "./firouzja2003 35,145 True\n",
      "./ghandeevam2003 35,533 True\n",
      "./gmwso 9,731 False\n",
      "./grischuk 4,490 False\n",
      "./gukeshdommaraju 5,642 False\n",
      "./hikaru 58,030 True\n",
      "./lachesisq 7,234 False\n",
      "./levonaronian 1,076 False\n",
      "./liemle 2,862 False\n",
      "./lyonbeast 5,396 False\n",
      "./magnuscarlsen 5,331 False\n",
      "./penguingm1 43,030 True\n",
      "./polish_fighter3000 12,182 True\n",
      "./rpragchess 8,606 False\n",
      "./sergeykarjakin 489 False\n",
      "./thevish 66 False\n",
      "./tradjabov 1,422 False\n",
      "./veselintopalov359 25 False\n",
      "./viditchess 3,631 False\n",
      "./vincentkeymer 11,059 True\n",
      "./vladimirkramnik 2,122 False\n",
      "./wonderfultime 59,834 True\n"
     ]
    }
   ],
   "source": [
    "import json\n",
    "import os\n",
    "from tqdm.notebook import tqdm\n",
    "\n",
    "\n",
    "folders = [f.path for f in os.scandir(\".\") if f.is_dir()]\n",
    "folders.sort()\n",
    "\n",
    "for folder in tqdm(folders):\n",
    "    files = [f.path for f in os.scandir(f\"{folder}/json\") if f.is_file()]\n",
    "    all = list()\n",
    "    for file in files:\n",
    "        if \"all\" in file:\n",
    "            continue\n",
    "        in_file = open(file, \"r\")\n",
    "        all.extend(json.load(in_file))\n",
    "        in_file.close()\n",
    "    all_json = open(f\"{folder}/json/all.json\", \"w\")\n",
    "    all_json.write(json.dumps(all, indent=4))\n",
    "    all_json.close()\n",
    "    print(folder, \"{:,}\".format(len(all)), len(all) > 10000)"
   ]
  }
 ],
 "metadata": {
  "kernelspec": {
   "display_name": "Python 3",
   "language": "python",
   "name": "python3"
  },
  "language_info": {
   "codemirror_mode": {
    "name": "ipython",
    "version": 3
   },
   "file_extension": ".py",
   "mimetype": "text/x-python",
   "name": "python",
   "nbconvert_exporter": "python",
   "pygments_lexer": "ipython3",
   "version": "3.12.2"
  }
 },
 "nbformat": 4,
 "nbformat_minor": 2
}
