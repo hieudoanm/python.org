{
 "cells": [
  {
   "cell_type": "code",
   "execution_count": 1,
   "metadata": {},
   "outputs": [
    {
     "name": "stdout",
     "output_type": "stream",
     "text": [
      "11305 (595, 19)\n"
     ]
    }
   ],
   "source": [
    "import pandas as pd\n",
    "\n",
    "pd.set_option(\"display.max_rows\", None)\n",
    "\n",
    "username = \"chefshouse\"\n",
    "\n",
    "games_df = pd.read_csv(f\"./{username}/csv/games.csv\")\n",
    "print(games_df.size, games_df.shape)"
   ]
  },
  {
   "cell_type": "markdown",
   "metadata": {},
   "source": [
    "## Options"
   ]
  },
  {
   "cell_type": "code",
   "execution_count": 2,
   "metadata": {},
   "outputs": [
    {
     "data": {
      "text/plain": [
       "['abandoned',\n",
       " 'agreed',\n",
       " 'bughousepartnerlose',\n",
       " 'checkmated',\n",
       " 'insufficient',\n",
       " 'repetition',\n",
       " 'resigned',\n",
       " 'stalemate',\n",
       " 'timeout',\n",
       " 'timevsinsufficient',\n",
       " 'win']"
      ]
     },
     "execution_count": 2,
     "metadata": {},
     "output_type": "execute_result"
    }
   ],
   "source": [
    "white_results: list[str] = list(games_df[\"white_result\"].unique())\n",
    "black_results: list[str] = list(games_df[\"black_result\"].unique())\n",
    "results: list[str] = list(set(white_results + black_results))\n",
    "results.sort()\n",
    "results"
   ]
  },
  {
   "cell_type": "code",
   "execution_count": 3,
   "metadata": {},
   "outputs": [
    {
     "data": {
      "text/plain": [
       "['bughouse', 'chess']"
      ]
     },
     "execution_count": 3,
     "metadata": {},
     "output_type": "execute_result"
    }
   ],
   "source": [
    "rules: list[str] = list(games_df[\"rules\"].unique())\n",
    "rules.sort()\n",
    "rules"
   ]
  },
  {
   "cell_type": "code",
   "execution_count": 4,
   "metadata": {},
   "outputs": [
    {
     "data": {
      "text/plain": [
       "['blitz', 'bullet', 'rapid']"
      ]
     },
     "execution_count": 4,
     "metadata": {},
     "output_type": "execute_result"
    }
   ],
   "source": [
    "time_classes: list[str] = list(games_df[\"time_class\"].unique())\n",
    "time_classes.sort()\n",
    "time_classes"
   ]
  },
  {
   "cell_type": "code",
   "execution_count": 5,
   "metadata": {},
   "outputs": [
    {
     "data": {
      "text/plain": [
       "['1500+10',\n",
       " '180',\n",
       " '180+1',\n",
       " '180+2',\n",
       " '300',\n",
       " '300+1',\n",
       " '300+5',\n",
       " '60',\n",
       " '60+1',\n",
       " '600',\n",
       " '600+2',\n",
       " '900',\n",
       " '900+10',\n",
       " '900+2',\n",
       " '900+5']"
      ]
     },
     "execution_count": 5,
     "metadata": {},
     "output_type": "execute_result"
    }
   ],
   "source": [
    "time_controls: list[str] = list(games_df[\"time_control\"].unique())\n",
    "time_controls.sort()\n",
    "time_controls"
   ]
  },
  {
   "cell_type": "code",
   "execution_count": 6,
   "metadata": {},
   "outputs": [
    {
     "data": {
      "text/plain": [
       "time_class  time_control\n",
       "blitz       180             228\n",
       "bullet      60+1             74\n",
       "blitz       300+1            68\n",
       "            180+1            63\n",
       "rapid       600+2            36\n",
       "            900+10           28\n",
       "            900+5            28\n",
       "blitz       180+2            25\n",
       "rapid       1500+10          15\n",
       "            900+2            15\n",
       "blitz       300               9\n",
       "bullet      60                2\n",
       "rapid       600               2\n",
       "blitz       300+5             1\n",
       "rapid       900               1\n",
       "Name: count, dtype: int64"
      ]
     },
     "execution_count": 6,
     "metadata": {},
     "output_type": "execute_result"
    }
   ],
   "source": [
    "times = games_df[[\"time_class\", \"time_control\"]].value_counts()\n",
    "times"
   ]
  },
  {
   "cell_type": "markdown",
   "metadata": {},
   "source": [
    "## Variants"
   ]
  },
  {
   "cell_type": "code",
   "execution_count": 7,
   "metadata": {},
   "outputs": [
    {
     "name": "stdout",
     "output_type": "stream",
     "text": [
      "0 (0, 19)\n"
     ]
    }
   ],
   "source": [
    "chess960_games_df = games_df[games_df[\"rules\"] == \"chess960\"]\n",
    "print(chess960_games_df.size, chess960_games_df.shape)"
   ]
  },
  {
   "cell_type": "code",
   "execution_count": 8,
   "metadata": {},
   "outputs": [
    {
     "name": "stdout",
     "output_type": "stream",
     "text": [
      "9234 (486, 19)\n"
     ]
    }
   ],
   "source": [
    "chess_games_df = games_df[games_df[\"rules\"] == \"chess\"]\n",
    "print(chess_games_df.size, chess_games_df.shape)"
   ]
  },
  {
   "cell_type": "markdown",
   "metadata": {},
   "source": [
    "## Rapid"
   ]
  },
  {
   "cell_type": "code",
   "execution_count": 9,
   "metadata": {},
   "outputs": [
    {
     "name": "stdout",
     "output_type": "stream",
     "text": [
      "2375 (125, 19)\n"
     ]
    }
   ],
   "source": [
    "rapid_chess_games_df = chess_games_df[chess_games_df[\"time_class\"] == \"rapid\"]\n",
    "print(rapid_chess_games_df.size, rapid_chess_games_df.shape)"
   ]
  },
  {
   "cell_type": "code",
   "execution_count": 10,
   "metadata": {},
   "outputs": [
    {
     "name": "stdout",
     "output_type": "stream",
     "text": [
      "1672 (88, 19)\n"
     ]
    }
   ],
   "source": [
    "rated_rapid_chess_games_df = rapid_chess_games_df[rapid_chess_games_df[\"rated\"]]\n",
    "print(rated_rapid_chess_games_df.size, rated_rapid_chess_games_df.shape)"
   ]
  },
  {
   "cell_type": "code",
   "execution_count": 11,
   "metadata": {},
   "outputs": [
    {
     "name": "stderr",
     "output_type": "stream",
     "text": [
      "/var/folders/jh/z981c7zj0vz0gmyfc8mhdxdr0000gn/T/ipykernel_7056/1700949690.py:1: SettingWithCopyWarning: \n",
      "A value is trying to be set on a copy of a slice from a DataFrame.\n",
      "Try using .loc[row_indexer,col_indexer] = value instead\n",
      "\n",
      "See the caveats in the documentation: https://pandas.pydata.org/pandas-docs/stable/user_guide/indexing.html#returning-a-view-versus-a-copy\n",
      "  rated_rapid_chess_games_df[\"player_result\"] = rated_rapid_chess_games_df.apply(\n",
      "/var/folders/jh/z981c7zj0vz0gmyfc8mhdxdr0000gn/T/ipykernel_7056/1700949690.py:4: SettingWithCopyWarning: \n",
      "A value is trying to be set on a copy of a slice from a DataFrame.\n",
      "Try using .loc[row_indexer,col_indexer] = value instead\n",
      "\n",
      "See the caveats in the documentation: https://pandas.pydata.org/pandas-docs/stable/user_guide/indexing.html#returning-a-view-versus-a-copy\n",
      "  rated_rapid_chess_games_df[\"player_side\"] = rated_rapid_chess_games_df.apply(\n"
     ]
    },
    {
     "data": {
      "text/plain": [
       "player_result  player_side\n",
       "win            white          22\n",
       "repetition     black          17\n",
       "win            black          10\n",
       "repetition     white           8\n",
       "resigned       white           7\n",
       "agreed         black           6\n",
       "insufficient   black           5\n",
       "agreed         white           4\n",
       "timeout        black           4\n",
       "resigned       black           3\n",
       "timeout        white           2\n",
       "Name: count, dtype: int64"
      ]
     },
     "execution_count": 11,
     "metadata": {},
     "output_type": "execute_result"
    }
   ],
   "source": [
    "rated_rapid_chess_games_df[\"player_result\"] = rated_rapid_chess_games_df.apply(\n",
    "    lambda row: row[\"white_result\"] if row[\"white_username\"] == username else row[\"black_result\"], axis=1\n",
    ")\n",
    "rated_rapid_chess_games_df[\"player_side\"] = rated_rapid_chess_games_df.apply(\n",
    "    lambda row: \"white\" if row[\"white_username\"] == username else \"black\", axis=1\n",
    ")\n",
    "rated_rapid_chess_games_df[[\"player_result\", \"player_side\"]].value_counts()"
   ]
  },
  {
   "cell_type": "code",
   "execution_count": 12,
   "metadata": {},
   "outputs": [
    {
     "data": {
      "text/plain": [
       "opening  opening_name                                                                                                     player_result  player_side\n",
       "B10      Caro Kann Defense Two Knights Attack                                                                             win            black          2\n",
       "D30      Queens Gambit Declined 3.Nf3 Nf6                                                                                 repetition     black          2\n",
       "D35      Queens Gambit Declined Queens Knight Variation 3...Nf6                                                           resigned       white          2\n",
       "                                                                                                                          win            white          2\n",
       "D02      Queens Pawn Opening Symmetrical Variation                                                                        win            black          2\n",
       "A13      English Opening Neo Catalan Defense                                                                              win            white          2\n",
       "A22      English Opening Two Knights Variation                                                                            repetition     black          2\n",
       "D02      Queens Pawn Opening Zukertort Variation                                                                          repetition     black          1\n",
       "D27      Queens Gambit Accepted Classical Main Line 7.b3                                                                  agreed         white          1\n",
       "D17      Slav Defense Modern Alapin Variation Czech Krause Attack...8.Bxc4 e6 9.O O Bd6 10.Qe2                            win            white          1\n",
       "D12      Slav Defense Modern Quiet Schallopp Defense...6.Nh4 Be4 7.f3 Bg6                                                 win            white          1\n",
       "D10      Slav Defense 3.Nc3 Nf6 4.e3 Nbd7 5.Nf3                                                                           win            white          1\n",
       "D02      Queens Pawn Opening Zukertort Variation                                                                          repetition     white          1\n",
       "                                                                                                                          agreed         black          1\n",
       "                                                                                                                          insufficient   black          1\n",
       "D30      Queens Gambit Declined 3.Nf3 Nf6                                                                                 win            white          1\n",
       "D02      Queens Pawn Opening Symmetrical Variation                                                                        resigned       black          1\n",
       "         London System...4.e3 Nc6 5.Nbd2 Bg4                                                                              repetition     white          1\n",
       "D00      Queens Pawn Opening Accelerated London System 2...Nf6 3.e3 c5                                                    resigned       white          1\n",
       "C92      Ruy Lopez Opening Morphy Defense Keres Flohr Zaitsev System 10.d4 Re8 11.Ng5                                     repetition     black          1\n",
       "C89      Ruy Lopez Opening Marshall Attack Modern Variation...14.Qf3 Qh4 15.g3 Qh3                                        insufficient   black          1\n",
       "C88      Ruy Lopez Opening Morphy Defense Closed...9.d3 d5 10.exd5 Nxd5 11.Nxe5                                           insufficient   black          1\n",
       "D30      Queens Gambit Declined 3.Nf3 Nf6                                                                                 resigned       black          1\n",
       "A05      Reti Opening Kings Indian Attack...3.Bg2 Nc6 4.O O e5                                                            resigned       white          1\n",
       "D32      Tarrasch Defense Two Knights Variation 5...Nf6 6.Bg5 Be6                                                         resigned       white          1\n",
       "C67      Ruy Lopez Opening Berlin Rio Gambit Accepted...8.Rxe5 O O 9.Nc3 Bf6 10.Re1                                       agreed         black          1\n",
       "E49      Nimzo Indian Defense Bishop Attack Classical Botvinnik System 7...dxc4 8.Bxc4 c5 9.Nf3                           repetition     white          1\n",
       "E48      Nimzo Indian Defense Bishop Attack Classical Defense...7.Ne2 Re8 8.O O Bd6                                       agreed         black          1\n",
       "         Nimzo Indian Defense Bishop Attack Classical Defense 6.Nf3 dxc4 7.Bxc4 c5                                        insufficient   black          1\n",
       "E36      Nimzo Indian Defense Classical Noa Variation 5.a3 Bxc3 6.Qxc3 O O                                                repetition     black          1\n",
       "E32      Nimzo Indian Defense Classical Variation...7.Bd3 c5 8.Ne2 cxd4 9.Nxd4                                            repetition     black          1\n",
       "E20      Nimzo Indian Defense Kmoch Variation 4...c5 5.d5 d6 6.e4                                                         win            white          1\n",
       "E15      Queens Indian Defense Fianchetto Nimzowitsch Variation Quiet Check Variation Intermezzo Line 7.Bg2 O O 8.O O d5  win            white          1\n",
       "                                                                                                                          repetition     black          1\n",
       "E12      Queens Indian Defense Kasparov Variation Petrosian Variation...6.cxd5 Nxd5 7.e3 Be7                              agreed         black          1\n",
       "         Queens Indian Defense Kasparov Variation Petrosian Variation Romanishin Attack                                   win            black          1\n",
       "         Queens Indian Defense Kasparov Variation Petrosian Variation 5...d5 6.Qc2                                        repetition     black          1\n",
       "E11      Bogo Indian Defense Nimzowitsch Variation                                                                        resigned       white          1\n",
       "D94      Grunfeld Defense Burille Variation 5...c6                                                                        agreed         white          1\n",
       "D37      Queens Gambit Declined Three Knights Variation 4...Be7                                                           win            white          1\n",
       "D35      Queens Gambit Declined Queens Knight Variation 3...Nf6                                                           repetition     white          1\n",
       "C88      Ruy Lopez Opening Morphy Defense Anti Marshall Variation...9.d4 d6 10.dxe5 Nxe5                                  timeout        black          1\n",
       "C67      Ruy Lopez Opening Berlin Rio Gambit Accepted...10.Re1 Re8 11.c3 Rxe1 12.Qxe1                                     timeout        black          1\n",
       "         Ruy Lopez Opening Berlin Rio Gambit Accepted...12.Qxe1 Ne8 13.Bf4 d5                                             repetition     black          1\n",
       "A22      English Opening Two Knights Variation                                                                            win            white          1\n",
       "A50      Indian Game Slav Indian Defense 3.Nf3                                                                            repetition     white          1\n",
       "A45      Indian Game...6.Qb3 Qd7 7.Ngf3 c4 8.Qd1                                                                          repetition     black          1\n",
       "         Indian Game...5.Nd2 Bf5 6.Qb3 Qc8                                                                                win            black          1\n",
       "A36      English Opening Fianchetto Ultra Symmetrical Line                                                                win            white          1\n",
       "A30      English Opening Symmetrical Variation...5.Bg2 Nc6 6.Nc3 g6                                                       agreed         white          1\n",
       "         English Opening Symmetrical Variation 2.Nf3 Nf6                                                                  win            white          1\n",
       "         English Opening Symmetrical Variation 2.Nf3                                                                      win            white          1\n",
       "A22      English Opening Two Knights Variation                                                                            timeout        black          1\n",
       "A07      Kings Indian Attack Double Fianchetto Variation 3.Bg2 Bg7                                                        repetition     black          1\n",
       "A13      English Opening Agincourt Defense 2.Nc3                                                                          win            white          1\n",
       "A10      English Opening Great Snake Adorjan Defense 3.d4                                                                 repetition     white          1\n",
       "A08      Kings Indian Attack Sicilian Variation 3.Bg2 Nf6                                                                 repetition     black          1\n",
       "         Kings Indian Attack French Reversed Grunfeld Variation                                                           win            white          1\n",
       "A07      Kings Indian Attack...7.c4 Ngf6 8.cxd5 exd5                                                                      win            white          1\n",
       "         Kings Indian Attack Yugoslav Variation 3.Bg2 e6 4.O O Be7                                                        win            white          1\n",
       "         Kings Indian Attack Yugoslav Variation                                                                           win            white          1\n",
       "A58      Benko Gambit Fully Accepted 5...g6 6.g3                                                                          timeout        black          1\n",
       "B12      Caro Kann Defense Advance Botvinnik Carls Defense 4.Nf3 cxd4                                                     repetition     black          1\n",
       "         Caro Kann Defense Fantasy Variation...5.Nf3 Bg4 6.Bc4 Nd7                                                        win            black          1\n",
       "B22      Alapin Sicilian Defense Barmen Defense...6.Be3 cxd4 7.cxd4 Bb4 8.Nc3                                             win            black          1\n",
       "C58      Italian Game Knight Attack Polerio Bishop Check Line...7.dxc6 bxc6 8.Bd3 Nd5 9.h4                                agreed         black          1\n",
       "C55      Italian Game Anti Fried Liver Defense                                                                            repetition     white          1\n",
       "C50      Giuoco Piano Game Giuoco Pianissimo Variation 4...Nf6                                                            win            black          1\n",
       "                                                                                                                          timeout        white          1\n",
       "                                                                                                                          resigned       black          1\n",
       "                                                                                                                          insufficient   black          1\n",
       "C48      Four Knights Game Spanish Variation Rubinstein Countergambit 5.Bc4 Bc5 6.Nxe5                                    repetition     black          1\n",
       "C47      Four Knights Game Scotch Variation Accepted 5.Nxd4                                                               agreed         black          1\n",
       "C26      Bishops Opening Berlin Spielmann Attack                                                                          repetition     black          1\n",
       "C11      French Defense Classical Burn Variation...8.Nf3 O O 9.Bd3 c5                                                     win            black          1\n",
       "C02      French Defense Advance Paulsen Euwe Variation...8.Nxe5 Nxe5 9.dxe5 Qc7                                           repetition     white          1\n",
       "B76      Sicilian Defense Open Dragon Rauzer Variation...13.Qxd4 Qb6 14.Na4 Qc7                                           agreed         white          1\n",
       "B51      Sicilian Defense Canal Attack 3...Nd7 4.a4 Nf6 5.Nc3                                                             win            white          1\n",
       "B46      Sicilian Defense Taimanov Variation...10.e5 Nd7 11.Qg4 g6                                                        win            white          1\n",
       "B29      Sicilian Defense Nimzowitsch Advance Variation...4.Nc3 e6 5.Ne4 f5                                               timeout        white          1\n",
       "E60      Kings Indian Defense 3.Nf3                                                                                       resigned       white          1\n",
       "Name: count, dtype: int64"
      ]
     },
     "execution_count": 12,
     "metadata": {},
     "output_type": "execute_result"
    }
   ],
   "source": [
    "rated_rapid_chess_openings = rated_rapid_chess_games_df[[\"opening\", \"opening_name\", \"player_result\", \"player_side\"]]\n",
    "rated_rapid_chess_openings.value_counts()"
   ]
  },
  {
   "cell_type": "markdown",
   "metadata": {},
   "source": [
    "## Blitz"
   ]
  },
  {
   "cell_type": "code",
   "execution_count": 13,
   "metadata": {},
   "outputs": [
    {
     "name": "stdout",
     "output_type": "stream",
     "text": [
      "5415 (285, 19)\n"
     ]
    }
   ],
   "source": [
    "blitz_chess_games_df = chess_games_df[chess_games_df[\"time_class\"] == \"blitz\"]\n",
    "print(blitz_chess_games_df.size, blitz_chess_games_df.shape)"
   ]
  },
  {
   "cell_type": "code",
   "execution_count": 14,
   "metadata": {},
   "outputs": [
    {
     "name": "stdout",
     "output_type": "stream",
     "text": [
      "5149 (271, 19)\n"
     ]
    }
   ],
   "source": [
    "rated_blitz_chess_games_df = blitz_chess_games_df[blitz_chess_games_df[\"rated\"]]\n",
    "print(rated_blitz_chess_games_df.size, rated_blitz_chess_games_df.shape)"
   ]
  },
  {
   "cell_type": "code",
   "execution_count": 15,
   "metadata": {},
   "outputs": [
    {
     "name": "stderr",
     "output_type": "stream",
     "text": [
      "/var/folders/jh/z981c7zj0vz0gmyfc8mhdxdr0000gn/T/ipykernel_7056/3250807835.py:1: SettingWithCopyWarning: \n",
      "A value is trying to be set on a copy of a slice from a DataFrame.\n",
      "Try using .loc[row_indexer,col_indexer] = value instead\n",
      "\n",
      "See the caveats in the documentation: https://pandas.pydata.org/pandas-docs/stable/user_guide/indexing.html#returning-a-view-versus-a-copy\n",
      "  rated_blitz_chess_games_df[\"player_result\"] = rated_blitz_chess_games_df.apply(\n",
      "/var/folders/jh/z981c7zj0vz0gmyfc8mhdxdr0000gn/T/ipykernel_7056/3250807835.py:4: SettingWithCopyWarning: \n",
      "A value is trying to be set on a copy of a slice from a DataFrame.\n",
      "Try using .loc[row_indexer,col_indexer] = value instead\n",
      "\n",
      "See the caveats in the documentation: https://pandas.pydata.org/pandas-docs/stable/user_guide/indexing.html#returning-a-view-versus-a-copy\n",
      "  rated_blitz_chess_games_df[\"player_side\"] = rated_blitz_chess_games_df.apply(\n"
     ]
    },
    {
     "data": {
      "text/plain": [
       "player_result       player_side\n",
       "win                 white          74\n",
       "                    black          62\n",
       "timeout             white          21\n",
       "resigned            black          19\n",
       "repetition          black          17\n",
       "timeout             black          17\n",
       "repetition          white          14\n",
       "agreed              black          12\n",
       "                    white          12\n",
       "resigned            white          12\n",
       "insufficient        black           6\n",
       "                    white           4\n",
       "timevsinsufficient  black           1\n",
       "Name: count, dtype: int64"
      ]
     },
     "execution_count": 15,
     "metadata": {},
     "output_type": "execute_result"
    }
   ],
   "source": [
    "rated_blitz_chess_games_df[\"player_result\"] = rated_blitz_chess_games_df.apply(\n",
    "    lambda row: row[\"white_result\"] if row[\"white_username\"] == username else row[\"black_result\"], axis=1\n",
    ")\n",
    "rated_blitz_chess_games_df[\"player_side\"] = rated_blitz_chess_games_df.apply(\n",
    "    lambda row: \"white\" if row[\"white_username\"] == username else \"black\", axis=1\n",
    ")\n",
    "rated_blitz_chess_games_df[[\"player_result\", \"player_side\"]].value_counts()"
   ]
  },
  {
   "cell_type": "code",
   "execution_count": 16,
   "metadata": {},
   "outputs": [
    {
     "data": {
      "text/plain": [
       "opening  opening_name                                                                            player_result       player_side\n",
       "C88      Ruy Lopez Opening Morphy Defense Closed...9.d3 d5 10.exd5 Nxd5                          win                 black          5\n",
       "D27      Queens Gambit Accepted Classical Main Line                                              win                 white          4\n",
       "B80      Sicilian Defense Open Scheveningen English Attack with 7 f3                             win                 white          3\n",
       "A46      Indian Game Knights Variation...4.Bg2 Be7 5.O O O O                                     repetition          white          3\n",
       "B42      Sicilian Defense Kan Modern Variation 5...Qb6 6.Nb3 Qc7                                 win                 white          3\n",
       "A56      Benoni Defense 3.d5 g6 4.Nc3 Bg7 5.e4                                                   timeout             white          3\n",
       "D30      Queens Gambit Declined 3.Nf3 Nf6                                                        win                 white          3\n",
       "                                                                                                 timeout             white          3\n",
       "C92      Ruy Lopez Opening Morphy Defense Keres Variation 9...Re8 10.d4                          agreed              black          2\n",
       "D30      Queens Gambit Declined 3.Nf3 Nf6                                                        insufficient        white          2\n",
       "D43      Semi Slav Defense                                                                       agreed              white          2\n",
       "D30      Queens Gambit Declined 3.Nf3 Nf6                                                        repetition          white          2\n",
       "                                                                                                                     black          2\n",
       "A46      Indian Game Knights Variation...4.Bg2 Be7 5.O O O O                                     win                 white          2\n",
       "C88      Ruy Lopez Opening Morphy Defense Anti Marshall Variation 8...b4                         timeout             black          2\n",
       "D85      Grunfeld Defense Exchange Variation...7.Bg5 c5 8.Rc1 O O 9.Nf3                          win                 black          2\n",
       "E00      Indian Game East Indian Defense                                                         win                 black          2\n",
       "C88      Ruy Lopez Opening Morphy Defense Anti Marshall Variation 8...b4 9.a5 d6 10.d3           repetition          black          2\n",
       "D30      Queens Gambit Declined 3.Nf3 Nf6                                                        resigned            black          2\n",
       "A07      Kings Indian Attack Yugoslav Variation                                                  win                 black          2\n",
       "D02      Queens Pawn Opening Symmetrical Variation                                               win                 black          2\n",
       "A46      Torre Attack 3...b6 4.Nbd2 Bb7                                                          win                 white          2\n",
       "A08      Kings Indian Attack Sicilian Variation 3.Bg2 Nf6                                        repetition          black          2\n",
       "C91      Ruy Lopez Opening Morphy Defense Closed Yates Variation                                 resigned            black          2\n",
       "A48      Indian Game Knights Variation East Indian Defense 3.e3 Bg7 4.Be2 O O 5.O O              win                 white          2\n",
       "A05      Reti Opening Kings Indian Attack 2...c5 3.Bg2 Nc6                                       win                 white          2\n",
       "C91      Ruy Lopez Opening Morphy Defense Closed Yates Variation                                 agreed              black          2\n",
       "D02      Queens Pawn Opening Symmetrical Variation                                               win                 white          2\n",
       "E60      Kings Indian Defense 3.Nf3                                                              win                 black          2\n",
       "C88      Ruy Lopez Opening Morphy Defense Anti Marshall Variation...10.dxe5 Nxe5 11.Nxe5 dxe5    agreed              black          1\n",
       "C91      Ruy Lopez Opening Morphy Defense Closed Yates Variation                                 timeout             black          1\n",
       "C67      Ruy Lopez Opening Berlin lHermet Berlin Wall Defense 9.h3                               resigned            black          1\n",
       "C80      Ruy Lopez Opening Morphy Defense Open...9.Nxe5 Nxe5 10.Rxe5 bxa4                        win                 white          1\n",
       "C88      Ruy Lopez Opening Morphy Defense Closed...9.d3 d6 10.a3 Qd7 11.Nc3                      timeout             black          1\n",
       "C84      Ruy Lopez Opening Morphy Defense Closed Martinez Variation 6...b5 7.Bb3 d6              win                 black          1\n",
       "         Ruy Lopez Opening Morphy Defense Closed Martinez Variation...7.Bb3 d6 8.a4 Bd7          repetition          black          1\n",
       "         Ruy Lopez Opening Morphy Defense Closed Martinez Variation...8.a3 Na5 9.Ba2 c5          timeout             black          1\n",
       "C88      Ruy Lopez Opening Morphy Defense Closed...9.d3 d5 10.exd5 Nxd5                          timeout             black          1\n",
       "         Ruy Lopez Opening Morphy Defense Closed...8.h3 Bb7 9.d3 d6 10.a3                        repetition          black          1\n",
       "         Ruy Lopez Opening Morphy Defense Anti Marshall Variation...9.d4 d6 10.dxe5 Nxe5         timeout             black          1\n",
       "         Ruy Lopez Opening Morphy Defense Anti Marshall Variation...10.c3 Na5 11.Bc2 c5 12.Nbd2  win                 white          1\n",
       "A05      Reti Opening 1...Nf6                                                                    win                 white          1\n",
       "C67      Ruy Lopez Opening Berlin Rio Gambit Accepted...8.Nf3 O O 9.d4 d5                        win                 white          1\n",
       "C29      Vienna Game Main Line Paulsen Attack 5...Nxc3                                           resigned            black          1\n",
       "B92      Sicilian Defense Open Najdorf Opocensky Traditional Line 9.Be3 Be6                      timeout             white          1\n",
       "         Sicilian Defense Open Najdorf Opocensky Variation 6...e5 7.Nf3 Be7                      repetition          black          1\n",
       "         Sicilian Defense Open Najdorf Opocensky Variation...7.Nb3 Be7 8.Be3 Be6                 timeout             white          1\n",
       "B94      Sicilian Defense Open Najdorf Variation...9.Qd2 Be7 10.O O O Nc5                        repetition          black          1\n",
       "                                                                                                 timeout             black          1\n",
       "C11      French Defense Classical Steinitz Boleslavsky Variation 7...a6                          timeout             white          1\n",
       "         French Defense Classical Steinitz Boleslavsky Variation...8.Qd2 O O 9.dxc5 Qa5          win                 white          1\n",
       "C18      French Defense Winawer Advance Variation...7.Bd2 Qa4 8.Qg4 Kf8                          timeout             white          1\n",
       "                                                                                                 win                 white          1\n",
       "         French Defense Winawer Classical Variation 7.Nf3 Ne7 8.h4                               win                 white          1\n",
       "C26      Vienna Game Falkbeer Variation 3.d4 exd4 4.Qxd4 Nc6                                     win                 black          1\n",
       "C42      Petrovs Defense Classical French Attack...6.d4 Be7 7.Bd3 O O                            timeout             black          1\n",
       "C67      Ruy Lopez Opening Berlin Rio Gambit Accepted...6.Nxe5 Be7 7.Bf1 Nf5 8.Nf3               win                 black          1\n",
       "C42      Petrovs Defense Classical French Attack...6.d4 Be7 7.Bd3 O O                            win                 black          1\n",
       "C45      Scotch Game Schmidt Tartakower Variation                                                insufficient        black          1\n",
       "C47      Four Knights Game 4.g3 Bc5 5.Bg2 d6 6.O O                                               agreed              black          1\n",
       "C48      Four Knights Game Spanish Variation 4...Bd6                                             repetition          black          1\n",
       "C65      Ruy Lopez Opening Berlin Defense 4.d3 Bc5 5.Nbd2                                        resigned            black          1\n",
       "         Ruy Lopez Opening Berlin Defense 4.d3 Bc5 5.c3 d5                                       insufficient        black          1\n",
       "         Ruy Lopez Opening Berlin Defense 4.d3 Bc5 5.c3 d6 6.O O                                 resigned            black          1\n",
       "         Ruy Lopez Opening Berlin Defense...5.Bxc6 dxc6 6.Nbd2 O O 7.Nc4                         win                 black          1\n",
       "         Ruy Lopez Opening Berlin Defense...5.c3 O O 6.O O d5                                    insufficient        black          1\n",
       "                                                                                                 resigned            black          1\n",
       "         Ruy Lopez Opening Berlin Defense...5.c3 O O 6.O O d6 7.h3                               repetition          white          1\n",
       "         Ruy Lopez Opening Berlin Defense...5.c3 O O 6.O O d5                                    win                 black          1\n",
       "D02      Queens Pawn Opening Symmetrical Variation                                               resigned            white          1\n",
       "D00      Queens Pawn Opening Accelerated London System 2...Nf6 3.e3                              insufficient        black          1\n",
       "E20      Nimzo Indian Defense 4.Bd2 O O 5.e3                                                     win                 white          1\n",
       "D79      Neo Grunfeld Defense Classical Original Ultra Delayed Exchange Variation 8.Ne5          win                 black          1\n",
       "D85      Grunfeld Defense Exchange Modern Exchange Variation...8.Be3 Qa5 9.Qd2 O O               agreed              black          1\n",
       "                                                                                                 win                 black          1\n",
       "         Grunfeld Defense Exchange Modern Exchange Variation...9.Rc1 Qa5 10.Qd2 Nd7              agreed              white          1\n",
       "         Grunfeld Defense Exchange Variation...6.bxc3 Bg7 7.Qa4 Qd7                              repetition          black          1\n",
       "E00      Indian Game East Indian Defense                                                         win                 white          1\n",
       "E10      Blumenfeld Countergambit Accepted 7.Nc3                                                 timeout             white          1\n",
       "         Blumenfeld Countergambit Duz Khotimirsky Variation 5...h6 6.Bxf6 Qxf6 7.Nc3             repetition          white          1\n",
       "         Indian Game East Indian Anti Nimzo Indian Variation                                     win                 black          1\n",
       "E11      Bogo Indian Defense Vitolins Variation...6.g3 b6 7.Bg2 Bb7                              resigned            white          1\n",
       "E20      Nimzo Indian Defense Kmoch Variation 4...c5 5.d5 b5 6.e4                                timeout             black          1\n",
       "D00      Queens Pawn Opening Accelerated London System 2...Nf6 3.e3 c5                           timeout             black          1\n",
       "E46      Nimzo Indian Defense Normal Line...5.Bd2 b6 6.Nf3 Bb7 7.Bd3                             win                 white          1\n",
       "E49      Nimzo Indian Defense Bishop Attack Classical Botvinnik System...8.Bxc4 c5 9.Nf3 Qc7     repetition          white          1\n",
       "E60      Kings Indian Defense                                                                    win                 black          1\n",
       "                                                                                                                     white          1\n",
       "         Kings Indian Defense 3.Nf3                                                              win                 white          1\n",
       "E61      Kings Indian Defense Semi Classical Variation                                           timeout             white          1\n",
       "         Kings Indian Defense Semi Classical Variation 6...Nbd7 7.O O                            timeout             white          1\n",
       "                                                                                                 win                 white          1\n",
       "E71      Kings Indian Defense Makogonov Variation 5...O O 6.Be3 e5 7.d5                          win                 white          1\n",
       "E73      Kings Indian Defense Semi Averbakh System...7.d5 Na6 8.g4 Nc5 9.f3                      win                 black          1\n",
       "D70      Kings Indian Defense Alekhine Anti Grunfeld Variation 3...c5 4.d5                       resigned            white          1\n",
       "         Kings Indian Defense Alekhine Anti Grunfeld Variation 3...c5                            resigned            white          1\n",
       "D43      Semi Slav Defense                                                                       win                 white          1\n",
       "                                                                                                 resigned            white          1\n",
       "D00      Queens Pawn Opening Accelerated London System 2...Nf6 3.e3 c5                           win                 white          1\n",
       "         Queens Pawn Opening Chigorin Variation                                                  win                 black          1\n",
       "         Queens Pawn Opening Chigorin Variation 2...Nf6                                          agreed              black          1\n",
       "                                                                                                 win                 black          1\n",
       "         Queens Pawn Opening Chigorin Variation 2...Nf6 3.Nf3 g6                                 win                 black          1\n",
       "D02      London System...5.Nbd2 Bg4 6.c3 e6                                                      win                 white          1\n",
       "B90      Sicilian Defense Open Najdorf Variation                                                 resigned            black          1\n",
       "D02      Queens Pawn Opening Symmetrical Variation                                               timeout             black          1\n",
       "         Queens Pawn Opening Zukertort Variation                                                 agreed              white          1\n",
       "                                                                                                 repetition          black          1\n",
       "D10      Slav Defense 3.Nc3 Nf6                                                                  win                 white          1\n",
       "D12      Slav Defense Modern Quiet Schallopp Defense 5.Nc3 a6 6.Ne5 Nbd7 7.Qb3                   agreed              white          1\n",
       "         Slav Defense Modern Quiet Schallopp Defense...8.Qb3 Qc7 9.Bd2 Be7 10.O O O              agreed              white          1\n",
       "D20      Queens Gambit Accepted Central Variation Greco Variation 4.a4 c6 5.axb5 cxb5            win                 white          1\n",
       "         Queens Gambit Accepted Central Variation McDonnell Defense 4.Nf3 exd4 5.Bxc4 Nc6 6.O O  agreed              white          1\n",
       "D27      Queens Gambit Accepted Classical Main Line                                              timeout             white          1\n",
       "         Queens Gambit Accepted Classical Main Line 7.b3                                         insufficient        white          1\n",
       "D30      Queens Gambit Declined 3.Nf3 Nf6                                                        win                 black          1\n",
       "D31      Queens Gambit Declined Janowski Variation...5.Nf3 Nf6 6.Bg5 Be6 7.e3                    win                 white          1\n",
       "         Queens Gambit Declined Queens Knight Variation                                          repetition          white          1\n",
       "                                                                                                 win                 white          1\n",
       "B90      Sicilian Defense Open Najdorf Variation 6.Bd3 e5 7.Nde2 Be7 8.O O                       repetition          black          1\n",
       "B80      Sicilian Defense Open Scheveningen Variation 6.Be3 a6                                   repetition          white          1\n",
       "B90      Sicilian Defense Open Najdorf Freak Attack                                              win                 black          1\n",
       "A40      Modern Defense with 1 d4 2.Nf3 Bg7                                                      win                 black          1\n",
       "A20      English Opening Kings English Variation...3.Bg2 Bc5 4.Nc3 c6                            win                 black          1\n",
       "         English Opening Kings English Variation...3.Bg2 Nc6 4.Nc3 Bb4 5.Nd5                     win                 white          1\n",
       "         English Opening Kings English Variation...5.Nf3 Nc6 6.O O Nb6 7.b3                      agreed              white          1\n",
       "                                                                                                 insufficient        white          1\n",
       "                                                                                                 resigned            white          1\n",
       "A21      English Opening Reversed Sicilian Variation 2...d6                                      win                 white          1\n",
       "         English Opening Reversed Sicilian Variation 2...d6 3.g3 f5                              win                 white          1\n",
       "         English Opening Reversed Sicilian Variation 2...d6 3.g3 f5 4.Bg2                        timeout             white          1\n",
       "A28      English Opening Four Knights Variation                                                  win                 white          1\n",
       "A30      English Opening Symmetrical Variation 2.g3 g6 3.Bg2 Bg7 4.e3                            repetition          white          1\n",
       "A34      English Opening Symmetrical Variation 2.Nc3 g6                                          win                 black          1\n",
       "A45      Indian Game 2.Bf4 c5 3.d5 d6                                                            timeout             white          1\n",
       "A20      English Opening Kings English Variation 2.g3 Nf6 3.Bg2 Bc5                              agreed              black          1\n",
       "A45      Indian Game Tartakower Attack 2...e6                                                    win                 black          1\n",
       "         Trompowsky Attack 2...d5 3.Nd2 c5                                                       win                 black          1\n",
       "         Trompowsky Attack Classical Big Center Variation 3...h6 4.Bxf6 Qxf6 5.c3                agreed              black          1\n",
       "         Trompowsky Attack Classical Defense 3.e3 h6 4.Bh4                                       timeout             black          1\n",
       "A46      Indian Game Knights Variation                                                           win                 black          1\n",
       "         Indian Game London System                                                               win                 white          1\n",
       "         Indian Game London System 3...b6 4.Nbd2 Bb7                                             resigned            white          1\n",
       "         Indian Game London System 3...b6 4.e3 Be7                                               win                 black          1\n",
       "         Indian Game London System 3...c5 4.e3 Nc6 5.Nbd2                                        repetition          white          1\n",
       "         Indian Game London System...4.e3 cxd4 5.exd4 b6                                         win                 white          1\n",
       "         Indian Game Tartakower Defense                                                          win                 white          1\n",
       "A20      English Opening Kings English Variation...3.Bg2 Bc5 4.Nc3 c6                            insufficient        black          1\n",
       "         English Opening Kings English Variation 2.g3 Nf6                                        resigned            white          1\n",
       "B90      Sicilian Defense Open Najdorf English Attack...8.Qd2 Nbd7 9.O O O Be7 10.f4             win                 white          1\n",
       "A08      Kings Indian Attack Sicilian Variation 3.Bg2 Nf6                                        timeout             black          1\n",
       "A06      Reti Opening 1...d5 2.e3 Nf6 3.c4                                                       win                 black          1\n",
       "         Reti Opening Nimzowitsch Larsen Attack...4.g3 h6 5.Bg2 Nf6                              agreed              black          1\n",
       "A07      Kings Indian Attack                                                                     timeout             white          1\n",
       "         Kings Indian Attack 2...Nd7 3.d4                                                        win                 black          1\n",
       "         Kings Indian Attack 2...e6 3.Bg2                                                        resigned            white          1\n",
       "         Kings Indian Attack Double Fianchetto Variation 3.d4 Bg7 4.Bg2                          timeout             black          1\n",
       "                                                                                                 win                 black          1\n",
       "         Kings Indian Attack Yugoslav Variation                                                  win                 white          1\n",
       "         Kings Indian Attack...3.Bg2 Bf5 4.c4 e6                                                 win                 white          1\n",
       "         Kings Indian Attack...3.Bg2 Bg4 4.O O Nd7                                               timeout             white          1\n",
       "A08      Kings Indian Attack Sicilian Variation 3.Bg2 Nf6                                        agreed              black          1\n",
       "                                                                                                 win                 black          1\n",
       "A15      English Opening Anglo Indian Kings Knight Variation                                     win                 black          1\n",
       "A08      Kings Indian Attack Sicilian Variation 3.Bg2 g6 4.O O Bg7                               resigned            black          1\n",
       "A09      Reti Opening Reti Gambit Declined Advance Reversed Blumenfeld Gambit                    repetition          black          1\n",
       "         Reti Opening Reti Gambit Declined Advance Variation 3.b4 f6 4.e3 e5                     win                 black          1\n",
       "         Reti Opening Reti Gambit Declined Advance Variation 3.b4 f6 4.e3 e5 5.c5                win                 black          1\n",
       "A10      English Opening Great Snake Adorjan Defense 3.d4                                        timeout             white          1\n",
       "A11      English Opening Caro Kann Defensive System...3.g3 g6 4.Bg2 Bg7                          win                 white          1\n",
       "         English Opening Caro Kann Defensive System...5.Qc2 g6 6.d4 Bg7 7.Bd3                    agreed              white          1\n",
       "A13      English Opening Agincourt Defense 2.Nc3 Nf6                                             win                 white          1\n",
       "A15      English Opening Anglo Indian Kings Knight Variation                                     agreed              white          1\n",
       "                                                                                                 repetition          white          1\n",
       "                                                                                                 resigned            black          1\n",
       "A46      Torre Attack                                                                            timeout             white          1\n",
       "A48      Indian Game East Indian London System 3...Bg7 4.e3                                      repetition          black          1\n",
       "         Indian Game East Indian London System 3...Bg7 4.e3 c5                                   win                 white          1\n",
       "B51      Sicilian Defense Canal Attack...7.c3 b5 8.Bc2 c4                                        win                 white          1\n",
       "B29      Sicilian Defense Nimzowitsch Advance Exchange Variation 5.dxc3                          win                 white          1\n",
       "B40      Sicilian Defense French Variation                                                       win                 white          1\n",
       "B47      Sicilian Defense Taimanov Bastrikov Variation 6.g3 a6 7.Bg2                             insufficient        black          1\n",
       "B48      Sicilian Defense Taimanov Bastrikov Variation...7.Qf3 Ne5 8.Qg3 h5                      win                 white          1\n",
       "B50      Sicilian Defense Anti Qxd4 Move Order 4.Nc3                                             resigned            black          1\n",
       "         Sicilian Defense Delayed Alapin Variation...5.Bd3 Bg7 6.Bc2 O O 7.O O                   win                 black          1\n",
       "         Sicilian Defense...3.Bc4 Nf6 4.d3 Nc6 5.O O                                             resigned            black          1\n",
       "         Sicilian Defense...4.e5 dxe5 5.Nxe5 a6 6.g3                                             resigned            black          1\n",
       "B51      Sicilian Defense Canal Attack 3...Nd7 4.c3 a6 5.Ba4                                     win                 black          1\n",
       "         Sicilian Defense Canal Attack...5.Bd3 Ngf6 6.Re1 e6                                     win                 white          1\n",
       "         Sicilian Defense Canal Attack...6.Bxd7 Bxd7 7.c4 Rc8                                    win                 black          1\n",
       "B52      Sicilian Defense Canal Main Line Sokolsky Variation...9.Be3 Nf6 10.f3 O O               win                 white          1\n",
       "A48      Indian Game East Indian London System...5.Be2 d6 6.h3 c5 7.O O                          win                 white          1\n",
       "B53      Sicilian Defense Chekhover Variation...6.Bxc6 bxc6 7.O O e5                             win                 black          1\n",
       "         Sicilian Defense Chekhover Variation...8.Nc3 Bg7 9.O O O O 10.h3                        timeout             black          1\n",
       "         Sicilian Defense Chekhover Variation...9.O O O Be7 10.Qd3 Qa5 11.h4                     win                 black          1\n",
       "         Sicilian Defense Chekhover Variation...9.O O O Be7 10.Rhe1 O O 11.Kb1                   win                 black          1\n",
       "B54      Sicilian Defense Open Variation                                                         win                 white          1\n",
       "B56      Sicilian Defense Open Classical Variation                                               win                 black          1\n",
       "B67      Sicilian Defense Open Classical Richter Rauzer Variation...8.O O O Bd7 9.f3 h6 10.Be3   resigned            white          1\n",
       "B80      Sicilian Defense Open Scheveningen Fianchetto Variation 6...a6 7.Bg2 Qc7 8.O O          win                 white          1\n",
       "B90      Sicilian Defense Open Najdorf Anti English Variation...10.h3 Ne5 11.Nf5 Bxf5 12.exf5    resigned            black          1\n",
       "         Sicilian Defense Open Najdorf Anti English Variation...9.Bg3 Bg7 10.Qd2 Nc6 11.Nb3      win                 black          1\n",
       "                                                                                                                     white          1\n",
       "B22      Alapin Sicilian Defense...3.e5 Nd5 4.Nf3 e6                                             win                 black          1\n",
       "         Alapin Sicilian Defense 2...e6 3.Nf3                                                    win                 white          1\n",
       "                                                                                                 resigned            white          1\n",
       "B21      Sicilian Defense Smith Morra Accepted Paulsen Formation 7.O O b5 8.Bb3                  resigned            black          1\n",
       "A48      Indian Game Knights Variation East Indian Defense                                       win                 black          1\n",
       "         Indian Game Knights Variation East Indian Defense 3.e3 Bg7 4.Be2 O O 5.O O              win                 black          1\n",
       "         Torre Attack Fianchetto Defense 4.Nbd2 O O 5.e3                                         win                 black          1\n",
       "A49      Indian Game East Indian Przepiorka Variation 3...Bg7 4.Bg2 O O 5.O O                    win                 white          1\n",
       "         Indian Game East Indian Przepiorka Variation...4.Bg2 O O 5.O O d6                       resigned            black          1\n",
       "         Indian Game East Indian Przepiorka Variation...4.Bg2 O O 5.O O d6 6.Nc3                 resigned            black          1\n",
       "A50      Indian Game Accelerated Variation 3.Nc3 Bb7                                             agreed              white          1\n",
       "B01      Scandinavian Defense Blackburne Kloosterboer Gambit 3.dxc6                              win                 white          1\n",
       "B03      Alekhines Defense Four Pawns Attack                                                     win                 white          1\n",
       "B06      Modern Defense Standard Two Knights Variation                                           win                 black          1\n",
       "         Modern Defense with 1 e4 2.d4                                                           win                 black          1\n",
       "B07      Philidor Defense Hanham Lion Variation 5.Bc4 Be7 6.a4 O O                               agreed              white          1\n",
       "B09      Pirc Defense Main Line Austrian Kurajica Variation 6...b6 7.Qd2                         timeout             black          1\n",
       "         Pirc Defense Main Line Austrian Unzicker Bronstein Variation 7...c5 8.h5 cxd4 9.hxg6    win                 black          1\n",
       "B10      Caro Kann Defense Two Knights Attack                                                    repetition          white          1\n",
       "         Caro Kann Defense...6.Bb5 Bd7 7.Nxd7 Qxd7 8.c3                                          repetition          black          1\n",
       "B12      Caro Kann Defense Advance Botvinnik Carls Defense 4.Nf3 cxd4 5.Nxd4                     timeout             white          1\n",
       "                                                                                                 win                 white          1\n",
       "         Caro Kann Defense Advance Short Variation with 4 Nf3...5.Be2 Ne7 6.O O h6 7.Nbd2        win                 white          1\n",
       "         Caro Kann Defense Advance Short Variation with 4 Nf3...6.O O Bg6 7.Nbd2 Nh6 8.Nb3       win                 white          1\n",
       "         Caro Kann Defense Advance Short Variation with 4 Nf3...e6                               win                 black          1\n",
       "B13      Caro Kann Defense Exchange Rubinstein Variation 6...Bg4 7.Nf3 e6                        timevsinsufficient  black          1\n",
       "         Caro Kann Defense Exchange Variation 3...cxd5 4.Bd3 Nf6                                 win                 black          1\n",
       "E90      Kings Indian Defense Normal Variation...7.d5 Na6 8.Bg5 h6 9.Be3                         resigned            white          1\n",
       "Name: count, dtype: int64"
      ]
     },
     "execution_count": 16,
     "metadata": {},
     "output_type": "execute_result"
    }
   ],
   "source": [
    "rated_blitz_chess_openings = rated_blitz_chess_games_df[[\"opening\", \"opening_name\", \"player_result\", \"player_side\"]]\n",
    "rated_blitz_chess_openings.value_counts()"
   ]
  },
  {
   "cell_type": "markdown",
   "metadata": {},
   "source": [
    "## Bullet"
   ]
  },
  {
   "cell_type": "code",
   "execution_count": 17,
   "metadata": {},
   "outputs": [
    {
     "name": "stdout",
     "output_type": "stream",
     "text": [
      "1444 (76, 19)\n"
     ]
    }
   ],
   "source": [
    "bullet_chess_games_df = chess_games_df[chess_games_df[\"time_class\"] == \"bullet\"]\n",
    "print(bullet_chess_games_df.size, bullet_chess_games_df.shape)"
   ]
  },
  {
   "cell_type": "code",
   "execution_count": 18,
   "metadata": {},
   "outputs": [
    {
     "name": "stdout",
     "output_type": "stream",
     "text": [
      "1444 (76, 19)\n"
     ]
    }
   ],
   "source": [
    "rated_bullet_chess_games_df = bullet_chess_games_df[bullet_chess_games_df[\"rated\"]]\n",
    "print(rated_bullet_chess_games_df.size, rated_bullet_chess_games_df.shape)"
   ]
  },
  {
   "cell_type": "code",
   "execution_count": 19,
   "metadata": {},
   "outputs": [
    {
     "data": {
      "text/plain": [
       "player_result  player_side\n",
       "win            white          19\n",
       "               black          10\n",
       "resigned       black           9\n",
       "timeout        black           9\n",
       "               white           8\n",
       "repetition     black           6\n",
       "               white           5\n",
       "agreed         black           3\n",
       "insufficient   white           2\n",
       "agreed         white           1\n",
       "checkmated     white           1\n",
       "insufficient   black           1\n",
       "resigned       white           1\n",
       "stalemate      black           1\n",
       "Name: count, dtype: int64"
      ]
     },
     "execution_count": 19,
     "metadata": {},
     "output_type": "execute_result"
    }
   ],
   "source": [
    "rated_bullet_chess_games_df[\"player_result\"] = rated_bullet_chess_games_df.apply(\n",
    "    lambda row: row[\"white_result\"] if row[\"white_username\"] == username else row[\"black_result\"], axis=1\n",
    ")\n",
    "rated_bullet_chess_games_df[\"player_side\"] = rated_bullet_chess_games_df.apply(\n",
    "    lambda row: \"white\" if row[\"white_username\"] == username else \"black\", axis=1\n",
    ")\n",
    "rated_bullet_chess_games_df[[\"player_result\", \"player_side\"]].value_counts()"
   ]
  },
  {
   "cell_type": "code",
   "execution_count": 20,
   "metadata": {},
   "outputs": [
    {
     "data": {
      "text/plain": [
       "opening  opening_name                                                                            player_result  player_side\n",
       "D30      Queens Gambit Declined 3.Nf3 Nf6                                                        win            white          3\n",
       "E60      Kings Indian Defense 3.Nf3                                                              win            white          2\n",
       "A07      Kings Indian Attack Double Fianchetto Variation 3.Bg2 Bg7                               win            white          2\n",
       "C88      Ruy Lopez Opening Morphy Defense Closed...7.Bb3 O O 8.d3 d6                             win            black          2\n",
       "D30      Queens Gambit Declined 3.Nf3 Nf6                                                        repetition     black          2\n",
       "                                                                                                                white          2\n",
       "C88      Ruy Lopez Opening Morphy Defense Closed...7.Bb3 O O 8.d3 d6                             agreed         black          1\n",
       "D02      London System...4.e3 e6 5.Bd3 Bxd3                                                      repetition     black          1\n",
       "C91      Ruy Lopez Opening Morphy Defense Closed Yates Variation                                 resigned       black          1\n",
       "C88      Ruy Lopez Opening Morphy Defense Closed...7.Bb3 O O 8.d3 d6                             timeout        black          1\n",
       "C85      Ruy Lopez Opening Morphy Defense Delayed Exchange Variation 6...dxc6 7.d3 Nd7           win            black          1\n",
       "C88      Ruy Lopez Opening Morphy Defense Anti Marshall Variation...9.d4 d6 10.dxe5 Nxe5         repetition     black          1\n",
       "D02      Queens Pawn Opening Symmetrical Variation                                               resigned       black          1\n",
       "C84      Ruy Lopez Opening Morphy Defense Closed Martinez Variation...8.a4 Bd7 9.c3 O O          win            white          1\n",
       "         Ruy Lopez Opening Morphy Defense Closed Martinez Variation...7.Bb3 d6 8.a4 Bd7          timeout        black          1\n",
       "C77      Ruy Lopez Opening Morphy Defense Anderssen Variation 5...b5 6.Bb3 Bc5                   win            black          1\n",
       "C67      Ruy Lopez Opening Berlin Rio Gambit Accepted...8.Rxe5 O O 9.d4 Bf6                      agreed         black          1\n",
       "C65      Ruy Lopez Opening Berlin Defense 4.d3 Bc5 5.Nbd2                                        agreed         black          1\n",
       "D02      Queens Pawn Opening Symmetrical Variation                                               repetition     black          1\n",
       "D03      Queens Pawn Opening Torre Gossip Variation 4.Bh4 c5 5.e3                                resigned       black          1\n",
       "D02      Queens Pawn Opening Symmetrical Variation                                               timeout        black          1\n",
       "         Queens Pawn Opening Zukertort Variation                                                 win            white          1\n",
       "C50      Giuoco Piano Game...5.d3 O O 6.Nbd2 d6                                                  timeout        white          1\n",
       "D12      Slav Defense Modern Quiet Schallopp Defense 5.Nc3 a6                                    repetition     white          1\n",
       "D20      Queens Gambit Accepted Central Variation McDonnell Defense 4.Nf3 exd4 5.Bxc4 Nc6 6.O O  repetition     white          1\n",
       "                                                                                                 win            white          1\n",
       "D30      Queens Gambit Declined 3.Nf3 Nf6                                                        resigned       black          1\n",
       "                                                                                                 timeout        black          1\n",
       "                                                                                                                white          1\n",
       "                                                                                                 win            black          1\n",
       "D31      Queens Gambit Declined Queens Knight Variation                                          timeout        white          1\n",
       "D35      Queens Gambit Declined Queens Knight Variation 3...Nf6                                  insufficient   black          1\n",
       "D43      Semi Slav Defense                                                                       win            white          1\n",
       "E10      Blumenfeld Countergambit Accepted 7.Nc3                                                 insufficient   white          1\n",
       "C55      Italian Game Two Knights Modern Bishops Opening...7.a4 Na5 8.Ba2 c5                     resigned       white          1\n",
       "A01      Nimzowitsch Larsen Attack Classical Variation 2.Bb2 Bf5 3.Nf3                           resigned       black          1\n",
       "         Nimzowitsch Larsen Attack Modern Variation...3.e3 Nf6 4.Bb5 Bd6                         win            white          1\n",
       "A48      Indian Game Knights Variation East Indian Defense 3.Nbd2 d5                             resigned       black          1\n",
       "A07      Kings Indian Attack 2...c6 3.Bg2 Bf5 4.c4                                               win            white          1\n",
       "         Kings Indian Attack Yugoslav Variation 3.Bg2 e6 4.O O c5 5.d3                           timeout        white          1\n",
       "         Kings Indian Attack Yugoslav Variation 3.Bg2 g6 4.O O                                   win            white          1\n",
       "A13      English Opening Agincourt Defense 2.Nf3                                                 insufficient   white          1\n",
       "A15      English Opening Anglo Indian Kings Knight Variation                                     win            white          1\n",
       "A22      English Opening Carls Bremen Reversed Dragon Variation...5.Bg2 Nb6 6.d3 Be7             win            white          1\n",
       "A40      Modern Defense with 1 d4 2.Nf3                                                          timeout        white          1\n",
       "         Modern Defense with 1 d4 2.c4 Bg7 3.Nf3 d6 4.e4                                         win            white          1\n",
       "         Queens Pawn Opening English Defense 3.e4 Bb7 4.Bd3 Bb4                                  timeout        white          1\n",
       "A41      Modern Defense 3.Nc3 Bg7                                                                repetition     white          1\n",
       "A45      Indian Game 2.c3 d5 3.Bg5                                                               repetition     black          1\n",
       "A46      Indian Game Knights Variation...3.g3 b6 4.Bg2 Bb7 5.O O Be7                             win            black          1\n",
       "         Indian Game London System 3...b6 4.e3 Be7                                               resigned       black          1\n",
       "         Indian Game London System 3...c5 4.e3 Nc6 5.Nbd2                                        timeout        black          1\n",
       "A49      Indian Game East Indian Przepiorka Variation 3...Bg7 4.Bg2 O O 5.O O                    checkmated     white          1\n",
       "C50      Giuoco Piano Game Giuoco Pianissimo Variation 4...Nf6                                   stalemate      black          1\n",
       "A80      Dutch Defense 2.Nf3 Nf6 3.g3 e6                                                         win            black          1\n",
       "         Dutch Defense 2.Nf3 Nf6 3.g3 g6                                                         win            black          1\n",
       "A81      Dutch Defense Fianchetto Attack 2...Nf6 3.Bg2 e6 4.Nf3                                  timeout        black          1\n",
       "B00      Owens Defense 2.d4 Bb7 3.Nc3 e6 4.Nf3                                                   agreed         white          1\n",
       "B91      Sicilian Defense Open Najdorf Zagreb Variation 6...e5 7.Nde2 Nbd7 8.a4                  timeout        white          1\n",
       "B94      Sicilian Defense Open Najdorf Variation 6.Bg5 Nbd7 7.Bc4 e6                             resigned       black          1\n",
       "C22      Center Game Accepted Paulsen Berger Variation 5.Bd2                                     win            black          1\n",
       "         Center Game Accepted Paulsen Berger Variation...7.O O O Re8 8.Qg3 Rxe4                  timeout        black          1\n",
       "         Center Game Accepted Paulsen Berger Variation...7.O O O Re8 8.Qg3 Rxe4 9.a3             timeout        black          1\n",
       "C26      Bishops Opening Berlin Spielmann Attack                                                 resigned       black          1\n",
       "C27      Vienna Game Frankenstein Dracula Variation...9.Nxc7 Kd8 10.Nxa8 b6                      win            white          1\n",
       "C28      Bishops Opening Berlin Vienna Hybrid Variation                                          win            white          1\n",
       "C33      Kings Gambit Accepted Villemson Gambit                                                  win            black          1\n",
       "C41      Philidor Defense                                                                        timeout        white          1\n",
       "C50      Giuoco Piano Game Giuoco Pianissimo Variation 4...Nf6                                   timeout        black          1\n",
       "Name: count, dtype: int64"
      ]
     },
     "execution_count": 20,
     "metadata": {},
     "output_type": "execute_result"
    }
   ],
   "source": [
    "rated_bullet_chess_openings = rated_bullet_chess_games_df[[\"opening\", \"opening_name\", \"player_result\", \"player_side\"]]\n",
    "rated_bullet_chess_openings.value_counts()"
   ]
  }
 ],
 "metadata": {
  "kernelspec": {
   "display_name": "Python 3",
   "language": "python",
   "name": "python3"
  },
  "language_info": {
   "codemirror_mode": {
    "name": "ipython",
    "version": 3
   },
   "file_extension": ".py",
   "mimetype": "text/x-python",
   "name": "python",
   "nbconvert_exporter": "python",
   "pygments_lexer": "ipython3",
   "version": "3.12.4"
  }
 },
 "nbformat": 4,
 "nbformat_minor": 2
}
