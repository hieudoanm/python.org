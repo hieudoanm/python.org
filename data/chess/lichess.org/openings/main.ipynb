{
 "cells": [
  {
   "cell_type": "code",
   "execution_count": 7,
   "metadata": {},
   "outputs": [
    {
     "name": "stdout",
     "output_type": "stream",
     "text": [
      "letter a\n",
      "letter b\n",
      "letter c\n",
      "letter d\n",
      "letter e\n"
     ]
    }
   ],
   "source": [
    "import io\n",
    "import pandas\n",
    "import requests\n",
    "\n",
    "letters = [\"a\", \"b\", \"c\", \"d\", \"e\"]\n",
    "url = \"https://raw.githubusercontent.com/lichess-org/chess-openings/master\"\n",
    "\n",
    "openings_data_frame = pandas.DataFrame()\n",
    "\n",
    "for letter in letters:\n",
    "    print(\"letter\", letter)\n",
    "    letter_url = f\"{url}/{letter}.tsv\"\n",
    "    response = requests.get(letter_url)\n",
    "    tsv = response.text\n",
    "    df = pandas.read_csv(io.StringIO(tsv), delimiter=\"\\t\")\n",
    "    openings_data_frame = pandas.concat([openings_data_frame, df])"
   ]
  },
  {
   "cell_type": "code",
   "execution_count": 8,
   "metadata": {},
   "outputs": [],
   "source": [
    "from typing import TypedDict\n",
    "\n",
    "class Opening(TypedDict):\n",
    "    eco: str\n",
    "    name: str\n",
    "    pgn: str"
   ]
  },
  {
   "cell_type": "code",
   "execution_count": 9,
   "metadata": {},
   "outputs": [],
   "source": [
    "openings_data_frame.to_csv(\"./all/openings.csv\", index=False)\n",
    "openings_string_json: str = openings_data_frame.to_json(orient=\"records\")"
   ]
  },
  {
   "cell_type": "code",
   "execution_count": 10,
   "metadata": {},
   "outputs": [],
   "source": [
    "from io import TextIOWrapper\n",
    "import json\n",
    "\n",
    "openings: str = json.loads(openings_string_json)\n",
    "with open(\"./all/openings.json\", \"w\", encoding=\"utf-8\") as openings_string_json_file:\n",
    "    json.dump(openings, openings_string_json_file, ensure_ascii=False, indent=2)"
   ]
  }
 ],
 "metadata": {
  "kernelspec": {
   "display_name": "Python 3",
   "language": "python",
   "name": "python3"
  },
  "language_info": {
   "codemirror_mode": {
    "name": "ipython",
    "version": 3
   },
   "file_extension": ".py",
   "mimetype": "text/x-python",
   "name": "python",
   "nbconvert_exporter": "python",
   "pygments_lexer": "ipython3",
   "version": "3.13.2"
  }
 },
 "nbformat": 4,
 "nbformat_minor": 2
}
