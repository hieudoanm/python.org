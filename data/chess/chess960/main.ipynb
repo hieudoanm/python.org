{
 "cells": [
  {
   "cell_type": "code",
   "execution_count": 1,
   "metadata": {},
   "outputs": [],
   "source": [
    "import pandas\n",
    "\n",
    "positions_df = pandas.read_csv(\"./positions.csv\")\n",
    "\n",
    "positions_df[\"position\"].to_json(\"positions.json\", orient=\"records\", indent=4)"
   ]
  },
  {
   "cell_type": "code",
   "execution_count": 5,
   "metadata": {},
   "outputs": [],
   "source": [
    "import json\n",
    "\n",
    "with open(\"./positions.json\", \"r\") as rf:\n",
    "    positions: list[str] = json.load(rf)\n",
    "    with open(\"./positions.txt\", \"w\") as wf:\n",
    "        text = \"\"\n",
    "        for index, position in enumerate(positions):\n",
    "            text += str(index + 1) + \". \" + position + \"\\n\"\n",
    "        wf.write(text)"
   ]
  }
 ],
 "metadata": {
  "kernelspec": {
   "display_name": "Python 3",
   "language": "python",
   "name": "python3"
  },
  "language_info": {
   "codemirror_mode": {
    "name": "ipython",
    "version": 3
   },
   "file_extension": ".py",
   "mimetype": "text/x-python",
   "name": "python",
   "nbconvert_exporter": "python",
   "pygments_lexer": "ipython3",
   "version": "3.13.3"
  }
 },
 "nbformat": 4,
 "nbformat_minor": 2
}
