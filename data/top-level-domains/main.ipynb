{
 "cells": [
  {
   "cell_type": "code",
   "execution_count": 2,
   "metadata": {},
   "outputs": [
    {
     "name": "stdout",
     "output_type": "stream",
     "text": [
      "TLD list saved to top-level-domains.txt\n"
     ]
    }
   ],
   "source": [
    "import requests\n",
    "\n",
    "try:\n",
    "    url = \"https://data.iana.org/TLD/tlds-alpha-by-domain.txt\"\n",
    "    filename = \"top-level-domains.txt\"\n",
    "    response = requests.get(url, timeout=10)\n",
    "    response.raise_for_status()  # Raise an error for bad responses\n",
    "\n",
    "    with open(filename, 'w', encoding='utf-8') as file:\n",
    "        file.write(response.text)    \n",
    "    print(f\"TLD list saved to {filename}\")\n",
    "except requests.RequestException as e:\n",
    "    print(f\"Error downloading TLD list: {e}\")"
   ]
  }
 ],
 "metadata": {
  "kernelspec": {
   "display_name": "Python 3",
   "language": "python",
   "name": "python3"
  },
  "language_info": {
   "codemirror_mode": {
    "name": "ipython",
    "version": 3
   },
   "file_extension": ".py",
   "mimetype": "text/x-python",
   "name": "python",
   "nbconvert_exporter": "python",
   "pygments_lexer": "ipython3",
   "version": "3.13.3"
  }
 },
 "nbformat": 4,
 "nbformat_minor": 2
}
