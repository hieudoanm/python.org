{
 "cells": [
  {
   "cell_type": "code",
   "execution_count": 2,
   "metadata": {},
   "outputs": [],
   "source": [
    "import json\n",
    "import requests\n",
    "\n",
    "response = requests.get(\"https://api.github.com/licenses\")\n",
    "docs = response.json()\n",
    "\n",
    "\n",
    "# Writing JSON data to a file\n",
    "with open(\"docs.json\", \"w\") as json_file:\n",
    "    json.dump(docs, json_file, indent=2)"
   ]
  },
  {
   "cell_type": "code",
   "execution_count": 1,
   "metadata": {},
   "outputs": [
    {
     "name": "stdout",
     "output_type": "stream",
     "text": [
      "{'key': 'agpl-3.0', 'name': 'GNU Affero General Public License v3.0', 'spdx_id': 'AGPL-3.0', 'url': 'https://api.github.com/licenses/agpl-3.0', 'node_id': 'MDc6TGljZW5zZTE='}\n",
      "{'key': 'apache-2.0', 'name': 'Apache License 2.0', 'spdx_id': 'Apache-2.0', 'url': 'https://api.github.com/licenses/apache-2.0', 'node_id': 'MDc6TGljZW5zZTI='}\n",
      "{'key': 'bsd-2-clause', 'name': 'BSD 2-Clause \"Simplified\" License', 'spdx_id': 'BSD-2-Clause', 'url': 'https://api.github.com/licenses/bsd-2-clause', 'node_id': 'MDc6TGljZW5zZTQ='}\n",
      "{'key': 'bsd-3-clause', 'name': 'BSD 3-Clause \"New\" or \"Revised\" License', 'spdx_id': 'BSD-3-Clause', 'url': 'https://api.github.com/licenses/bsd-3-clause', 'node_id': 'MDc6TGljZW5zZTU='}\n",
      "{'key': 'bsl-1.0', 'name': 'Boost Software License 1.0', 'spdx_id': 'BSL-1.0', 'url': 'https://api.github.com/licenses/bsl-1.0', 'node_id': 'MDc6TGljZW5zZTI4'}\n",
      "{'key': 'cc0-1.0', 'name': 'Creative Commons Zero v1.0 Universal', 'spdx_id': 'CC0-1.0', 'url': 'https://api.github.com/licenses/cc0-1.0', 'node_id': 'MDc6TGljZW5zZTY='}\n",
      "{'key': 'epl-2.0', 'name': 'Eclipse Public License 2.0', 'spdx_id': 'EPL-2.0', 'url': 'https://api.github.com/licenses/epl-2.0', 'node_id': 'MDc6TGljZW5zZTMy'}\n",
      "{'key': 'gpl-2.0', 'name': 'GNU General Public License v2.0', 'spdx_id': 'GPL-2.0', 'url': 'https://api.github.com/licenses/gpl-2.0', 'node_id': 'MDc6TGljZW5zZTg='}\n",
      "{'key': 'gpl-3.0', 'name': 'GNU General Public License v3.0', 'spdx_id': 'GPL-3.0', 'url': 'https://api.github.com/licenses/gpl-3.0', 'node_id': 'MDc6TGljZW5zZTk='}\n",
      "{'key': 'lgpl-2.1', 'name': 'GNU Lesser General Public License v2.1', 'spdx_id': 'LGPL-2.1', 'url': 'https://api.github.com/licenses/lgpl-2.1', 'node_id': 'MDc6TGljZW5zZTEx'}\n",
      "{'key': 'mit', 'name': 'MIT License', 'spdx_id': 'MIT', 'url': 'https://api.github.com/licenses/mit', 'node_id': 'MDc6TGljZW5zZTEz'}\n",
      "{'key': 'mpl-2.0', 'name': 'Mozilla Public License 2.0', 'spdx_id': 'MPL-2.0', 'url': 'https://api.github.com/licenses/mpl-2.0', 'node_id': 'MDc6TGljZW5zZTE0'}\n",
      "{'key': 'unlicense', 'name': 'The Unlicense', 'spdx_id': 'Unlicense', 'url': 'https://api.github.com/licenses/unlicense', 'node_id': 'MDc6TGljZW5zZTE1'}\n"
     ]
    }
   ],
   "source": [
    "import json\n",
    "import requests\n",
    "\n",
    "# Open and read JSON file\n",
    "with open(\"docs.json\", \"r\") as file:\n",
    "    docs: list[dict[str]] = json.load(file)\n",
    "\n",
    "for doc in docs:\n",
    "    print(doc)\n",
    "    response = requests.get(f\"https://api.github.com/licenses/{doc.get(\"key\")}\")\n",
    "    if response.status_code == 200:\n",
    "        data: dict[str] = response.json()\n",
    "        key: str = data.get(\"key\")\n",
    "        body: str = data.get(\"body\")\n",
    "        with open(f\"./markdown/{key.lower()}.md\", \"w+\") as file:\n",
    "            file.write(body)  # Write the image content to a file"
   ]
  }
 ],
 "metadata": {
  "kernelspec": {
   "display_name": "Python 3",
   "language": "python",
   "name": "python3"
  },
  "language_info": {
   "codemirror_mode": {
    "name": "ipython",
    "version": 3
   },
   "file_extension": ".py",
   "mimetype": "text/x-python",
   "name": "python",
   "nbconvert_exporter": "python",
   "pygments_lexer": "ipython3",
   "version": "3.13.2"
  }
 },
 "nbformat": 4,
 "nbformat_minor": 2
}
