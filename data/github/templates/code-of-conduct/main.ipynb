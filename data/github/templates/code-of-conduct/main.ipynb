{
 "cells": [
  {
   "cell_type": "code",
   "execution_count": 5,
   "metadata": {},
   "outputs": [],
   "source": [
    "import json\n",
    "import requests\n",
    "\n",
    "response = requests.get(\"https://api.github.com/codes_of_conduct\")\n",
    "docs = response.json()\n",
    "\n",
    "\n",
    "# Writing JSON data to a file\n",
    "with open(\"docs.json\", \"w\") as json_file:\n",
    "    json.dump(docs, json_file, indent=2)"
   ]
  },
  {
   "cell_type": "code",
   "execution_count": 6,
   "metadata": {},
   "outputs": [
    {
     "name": "stdout",
     "output_type": "stream",
     "text": [
      "{'key': 'contributor_covenant', 'name': 'Contributor Covenant', 'html_url': None, 'url': 'https://api.github.com/codes_of_conduct/contributor_covenant'}\n",
      "{'key': 'citizen_code_of_conduct', 'name': 'Citizen Code Of Conduct', 'html_url': None, 'url': 'https://api.github.com/codes_of_conduct/citizen_code_of_conduct'}\n"
     ]
    }
   ],
   "source": [
    "import json\n",
    "import requests\n",
    "\n",
    "# Open and read JSON file\n",
    "with open(\"docs.json\", \"r\") as file:\n",
    "    docs: list[dict[str]] = json.load(file)\n",
    "\n",
    "for doc in docs:\n",
    "    print(doc)\n",
    "    response = requests.get(f\"https://api.github.com/codes_of_conduct/{doc.get(\"key\")}\")\n",
    "    if response.status_code == 200:\n",
    "        data: dict[str] = response.json()\n",
    "        key: str = data.get(\"key\")\n",
    "        body: str = data.get(\"body\")\n",
    "        with open(f\"./markdown/{key.lower()}.md\", \"w+\") as file:\n",
    "            file.write(body)  # Write the image content to a file"
   ]
  }
 ],
 "metadata": {
  "kernelspec": {
   "display_name": "Python 3",
   "language": "python",
   "name": "python3"
  },
  "language_info": {
   "codemirror_mode": {
    "name": "ipython",
    "version": 3
   },
   "file_extension": ".py",
   "mimetype": "text/x-python",
   "name": "python",
   "nbconvert_exporter": "python",
   "pygments_lexer": "ipython3",
   "version": "3.13.2"
  }
 },
 "nbformat": 4,
 "nbformat_minor": 2
}
