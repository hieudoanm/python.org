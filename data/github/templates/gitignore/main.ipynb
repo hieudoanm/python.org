{
 "cells": [
  {
   "cell_type": "code",
   "execution_count": 2,
   "metadata": {},
   "outputs": [],
   "source": [
    "import json\n",
    "import requests\n",
    "\n",
    "response = requests.get(\"https://api.github.com/gitignore/templates\")\n",
    "templates = response.json()\n",
    "\n",
    "\n",
    "# Writing JSON data to a file\n",
    "with open(\"templates.json\", \"w\") as json_file:\n",
    "    json.dump(templates, json_file, indent=2)\n",
    "\n",
    "\n",
    "with open(\"templates.txt\", \"w\") as file:\n",
    "    file.write(\"\\n\".join(templates))"
   ]
  },
  {
   "cell_type": "code",
   "execution_count": 1,
   "metadata": {},
   "outputs": [
    {
     "name": "stdout",
     "output_type": "stream",
     "text": [
      "message\n",
      "documentation_url\n"
     ]
    }
   ],
   "source": [
    "import json\n",
    "import requests\n",
    "\n",
    "# Open and read JSON file\n",
    "with open(\"templates.json\", \"r\") as file:\n",
    "    templates: dict[str] = json.load(file)\n",
    "\n",
    "for template in templates:\n",
    "    print(template)\n",
    "    response = requests.get(f\"https://api.github.com/gitignore/templates/{template}\")\n",
    "    if response.status_code == 200:\n",
    "        data: dict[str] = response.json()\n",
    "        source: str = data.get(\"source\")\n",
    "        with open(f\"./files/{template.lower()}.gitignore\", \"wb\") as file:\n",
    "            file.write(source.encode())  # Write the image content to a file"
   ]
  }
 ],
 "metadata": {
  "kernelspec": {
   "display_name": "Python 3",
   "language": "python",
   "name": "python3"
  },
  "language_info": {
   "codemirror_mode": {
    "name": "ipython",
    "version": 3
   },
   "file_extension": ".py",
   "mimetype": "text/x-python",
   "name": "python",
   "nbconvert_exporter": "python",
   "pygments_lexer": "ipython3",
   "version": "3.13.2"
  }
 },
 "nbformat": 4,
 "nbformat_minor": 2
}
