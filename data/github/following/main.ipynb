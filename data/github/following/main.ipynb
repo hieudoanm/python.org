{
 "cells": [
  {
   "cell_type": "code",
   "execution_count": null,
   "metadata": {},
   "outputs": [],
   "source": [
    "import pandas\n",
    "from requests import get, Response\n",
    "\n",
    "\n",
    "going = True\n",
    "username = \"hieudoanm\"\n",
    "page = 1\n",
    "per_page = 100\n",
    "following: list[dict] = []\n",
    "\n",
    "\n",
    "while going:\n",
    "    url = f\"https://api.github.com/users/{username}/following?per_page={per_page}&page={page}\"\n",
    "    response: Response = get(url)\n",
    "    following_per_page: list[dict] = response.json()\n",
    "    following = following + following_per_page\n",
    "    if len(following_per_page) < 100:\n",
    "        going = False\n",
    "    else:\n",
    "        page += 1\n",
    "\n",
    "\n",
    "following_df = pandas.DataFrame(following)\n",
    "following_df = following_df[[\"login\", \"id\", \"type\"]]\n",
    "following_df = following_df.rename(columns={\"login\": \"username\"})\n",
    "following_df[\"type\"] = following_df[\"type\"].str.lower()\n",
    "following_df[\"username\"] = following_df[\"username\"].str.lower()\n",
    "following_df = following_df.sort_values(by=[\"type\", \"username\"])\n",
    "following_df.to_csv(f\"./users/{username}.csv\", index=False)"
   ]
  }
 ],
 "metadata": {
  "kernelspec": {
   "display_name": "Python 3",
   "language": "python",
   "name": "python3"
  },
  "language_info": {
   "codemirror_mode": {
    "name": "ipython",
    "version": 3
   },
   "file_extension": ".py",
   "mimetype": "text/x-python",
   "name": "python",
   "nbconvert_exporter": "python",
   "pygments_lexer": "ipython3",
   "version": "3.13.2"
  }
 },
 "nbformat": 4,
 "nbformat_minor": 2
}
