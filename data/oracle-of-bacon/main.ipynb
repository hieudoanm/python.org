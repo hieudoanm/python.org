{
 "cells": [
  {
   "attachments": {},
   "cell_type": "markdown",
   "metadata": {},
   "source": [
    "# Oracle of Bacon"
   ]
  },
  {
   "cell_type": "code",
   "execution_count": 31,
   "metadata": {},
   "outputs": [],
   "source": [
    "import asyncio\n",
    "from aiohttp import ClientSession\n",
    "import json\n",
    "import nest_asyncio\n",
    "import pandas\n",
    "import tqdm.asyncio\n",
    "from tqdm.notebook import tqdm as tqdm_notebook"
   ]
  },
  {
   "cell_type": "code",
   "execution_count": 32,
   "metadata": {},
   "outputs": [
    {
     "name": "stdout",
     "output_type": "stream",
     "text": [
      "2760203\n",
      "2760202\n"
     ]
    }
   ],
   "source": [
    "person_file = open(\"data/person_ids_03_13_2023.json\", \"r\")\n",
    "person_file_content = person_file.read()\n",
    "json_lines = person_file_content.split(\"\\n\")\n",
    "print(len(json_lines))\n",
    "actors = []\n",
    "for json_line in json_lines:\n",
    "    if json_line == \"\":\n",
    "        continue\n",
    "    try:\n",
    "        actor = json.loads(json_line)\n",
    "        actors.append(actor)\n",
    "    except Exception as exception:\n",
    "        print(exception, json_line)\n",
    "print(len(actors))\n",
    "actors_data_frame = pandas.DataFrame.from_dict(actors)\n",
    "sorted_actors_data_frame = actors_data_frame.sort_values(\n",
    "    by=[\"popularity\"], ascending=False\n",
    ")\n",
    "sorted_actors_data_frame.to_csv(\"data/actors.csv\", index=False, header=True)"
   ]
  },
  {
   "attachments": {},
   "cell_type": "markdown",
   "metadata": {},
   "source": [
    "## Get Movielinks"
   ]
  },
  {
   "cell_type": "code",
   "execution_count": 33,
   "metadata": {},
   "outputs": [],
   "source": [
    "async def get_movie_links(session, a: str, b: str):\n",
    "    url = \"https://oracleofbacon.org/movielinks.php\"\n",
    "    headers = {\n",
    "        \"Accept\": \"text/html,application/xhtml+xml,application/xml;q=0.9,image/avif,image/webp,image/apng,*/*;q=0.8,application/signed-exchange;v=b3;q=0.7\",\n",
    "        \"Accept-Language\": \"en,es;q=0.9,ko-KR;q=0.8,ko;q=0.7,vi-VN;q=0.6,vi;q=0.5\",\n",
    "        \"Cache-Control\": \"max-age=0\",\n",
    "        \"Connection\": \"keep-alive\",\n",
    "        \"Content-Type\": \"application/x-www-form-urlencoded\",\n",
    "        \"Origin\": \"https://oracleofbacon.org\",\n",
    "        \"Referer\": \"https://oracleofbacon.org/\",\n",
    "        \"Sec-Fetch-Dest\": \"document\",\n",
    "        \"Sec-Fetch-Mode\": \"navigate\",\n",
    "        \"Sec-Fetch-Site\": \"same-origin\",\n",
    "        \"Sec-Fetch-User\": \"?1\",\n",
    "        \"Upgrade-Insecure-Requests\": \"1\",\n",
    "        \"User-Agent\": \"Mozilla/5.0 (Macintosh; Intel Mac OS X 10_15_7) AppleWebKit/537.36 (KHTML, like Gecko) Chrome/110.0.0.0 Safari/537.36\",\n",
    "        \"sec-ch-ua\": '\"Chromium\";v=\"110\", \"Not A(Brand\";v=\"24\", \"Google Chrome\";v=\"110\"',\n",
    "        \"sec-ch-ua-mobile\": \"?0\",\n",
    "        \"sec-ch-ua-platform\": '\"macOS\"',\n",
    "    }\n",
    "    payload = f\"a={a}&b={b}&use_using=1&u0=on&use_role_types=1&rt0=on&company=&use_genres=1&g0=on&g4=on&g8=on&g12=on&g20=on&g24=on&g1=on&g5=on&g9=on&g13=on&g21=on&g25=on&g2=on&g10=on&g14=on&g18=on&g22=on&g26=on&g3=on&g7=on&g11=on&g15=on&g19=on&g27=on\"\n",
    "    try:\n",
    "        async with session.post(\n",
    "            url, headers=headers, data=payload, timeout=10\n",
    "        ) as response:\n",
    "            text = await response.text()\n",
    "            key = \"number of \"\n",
    "            if key not in text:\n",
    "                return {\"actor_a\": a, \"actor_b\": b, \"links\": \"N/A\"}\n",
    "            substring_start_index = text.find(key)\n",
    "            substring = text[substring_start_index : substring_start_index + 12]\n",
    "            return {\n",
    "                \"actor_a\": a,\n",
    "                \"actor_b\": b,\n",
    "                \"links\": substring.replace(key, \"\").replace(\" \", \"\"),\n",
    "            }\n",
    "    except Exception as exception:\n",
    "        print(exception)\n",
    "        return {\"actor_a\": a, \"actor_b\": b, \"links\": \"N/A\"}\n",
    "\n",
    "\n",
    "async def bound_get_movie_links(sem, session, actor_a, actor_b):\n",
    "    # Getter function with semaphore.\n",
    "    async with sem:\n",
    "        return await get_movie_links(session, actor_a, actor_b)"
   ]
  },
  {
   "cell_type": "code",
   "execution_count": 34,
   "metadata": {},
   "outputs": [],
   "source": [
    "def chunks(list, n):\n",
    "    # looping till length l\n",
    "    for i in range(0, len(list), n):\n",
    "        yield list[i : i + n]"
   ]
  },
  {
   "cell_type": "code",
   "execution_count": 40,
   "metadata": {},
   "outputs": [
    {
     "data": {
      "application/vnd.jupyter.widget-view+json": {
       "model_id": "8f2a689c0fc04692bf281e63df9c33fb",
       "version_major": 2,
       "version_minor": 0
      },
      "text/plain": [
       "  0%|          | 0/100000 [00:00<?, ?it/s]"
      ]
     },
     "metadata": {},
     "output_type": "display_data"
    },
    {
     "name": "stderr",
     "output_type": "stream",
     "text": [
      "100%|██████████| 100000/100000 [18:20<00:00, 90.86it/s]\n"
     ]
    }
   ],
   "source": [
    "actors_list = sorted_actors_data_frame.to_dict(\"records\")\n",
    "start = 900000\n",
    "end = start + 100000\n",
    "actors_list = actors_list[start:end]\n",
    "\n",
    "limit = 1000\n",
    "\n",
    "actor_a_name = \"Kevin Bacon\"\n",
    "\n",
    "\n",
    "async def run():\n",
    "    tasks = []\n",
    "    semaphore = asyncio.Semaphore(limit)\n",
    "    # Fetch all responses within one Client session,\n",
    "    # keep connection alive for all requests.\n",
    "    async with ClientSession() as session:\n",
    "        for actor_b in tqdm_notebook(actors_list):\n",
    "            actor_b_name = actor_b.get(\"name\")\n",
    "            task = asyncio.ensure_future(\n",
    "                bound_get_movie_links(semaphore, session, actor_a_name, actor_b_name)\n",
    "            )\n",
    "            tasks.append(task)\n",
    "        for f in tqdm.asyncio.tqdm.as_completed(tasks):\n",
    "            await f\n",
    "        responses = await asyncio.gather(*tasks)\n",
    "        links_data_frame = pandas.DataFrame.from_dict(responses)\n",
    "        links_data_frame.to_csv(\n",
    "            f\"data/links/{start}-{end}.csv\", index=False, header=True\n",
    "        )\n",
    "\n",
    "\n",
    "nest_asyncio.apply()\n",
    "loop = asyncio.get_event_loop()\n",
    "loop.run_until_complete(run())"
   ]
  }
 ],
 "metadata": {
  "kernelspec": {
   "display_name": "Python 3",
   "language": "python",
   "name": "python3"
  },
  "language_info": {
   "codemirror_mode": {
    "name": "ipython",
    "version": 3
   },
   "file_extension": ".py",
   "mimetype": "text/x-python",
   "name": "python",
   "nbconvert_exporter": "python",
   "pygments_lexer": "ipython3",
   "version": "3.11.2"
  },
  "orig_nbformat": 4
 },
 "nbformat": 4,
 "nbformat_minor": 2
}
