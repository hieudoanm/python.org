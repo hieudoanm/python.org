{
 "cells": [
  {
   "attachments": {},
   "cell_type": "markdown",
   "metadata": {},
   "source": [
    "# Stock"
   ]
  },
  {
   "cell_type": "code",
   "execution_count": 1,
   "metadata": {},
   "outputs": [],
   "source": [
    "import concurrent.futures\n",
    "import pandas\n",
    "import requests\n",
    "from tqdm.notebook import tqdm as tqdm_notebook"
   ]
  },
  {
   "attachments": {},
   "cell_type": "markdown",
   "metadata": {},
   "source": [
    "## Utils"
   ]
  },
  {
   "cell_type": "code",
   "execution_count": 2,
   "metadata": {},
   "outputs": [],
   "source": [
    "def chunks(list, n):\n",
    "    # looping till length l\n",
    "    for i in range(0, len(list), n):\n",
    "        yield list[i : i + n]"
   ]
  },
  {
   "cell_type": "code",
   "execution_count": 3,
   "metadata": {},
   "outputs": [],
   "source": [
    "BASE_URL = \"https://asx.api.markitdigital.com/asx-research/1.0/companies\"\n",
    "URL = BASE_URL + \"/directory?itemsPerPage=3000\""
   ]
  },
  {
   "cell_type": "code",
   "execution_count": 4,
   "metadata": {},
   "outputs": [],
   "source": [
    "def get_statistics(symbol: str):\n",
    "    try:\n",
    "        KEY_URL = \"{0}/{1}/key-statistics\".format(BASE_URL, symbol)\n",
    "        response = requests.get(KEY_URL, timeout=10)\n",
    "        response_json = response.json()\n",
    "        statistics = response_json.get(\"data\", {})\n",
    "        return statistics\n",
    "    except Exception as exception:\n",
    "        print(symbol, exception)\n",
    "        return {}"
   ]
  },
  {
   "cell_type": "code",
   "execution_count": 5,
   "metadata": {},
   "outputs": [],
   "source": [
    "response = requests.get(URL)\n",
    "response_json = response.json()\n",
    "companies = response_json.get(\"data\", {}).get(\"items\", [])\n",
    "\n",
    "companies_data_frame = pandas.DataFrame(companies)\n",
    "companies_data_frame.to_csv(\"./companies.csv\", index=False, header=True)"
   ]
  },
  {
   "cell_type": "code",
   "execution_count": 6,
   "metadata": {},
   "outputs": [
    {
     "data": {
      "application/vnd.jupyter.widget-view+json": {
       "model_id": "0d4dc20b18e84d51b978899e2a1a8e10",
       "version_major": 2,
       "version_minor": 0
      },
      "text/plain": [
       "  0%|          | 0/21 [00:00<?, ?it/s]"
      ]
     },
     "metadata": {},
     "output_type": "display_data"
    },
    {
     "name": "stdout",
     "output_type": "stream",
     "text": [
      "SEC Error\n"
     ]
    }
   ],
   "source": [
    "companies_data_frame = pandas.read_csv(\"./companies.csv\")\n",
    "companies = companies_data_frame.to_dict(\"records\")\n",
    "\n",
    "chunks_companies = list(chunks(companies, 100))\n",
    "\n",
    "all_statistics = []\n",
    "\n",
    "for chunk_companies in tqdm_notebook(chunks_companies):\n",
    "    with concurrent.futures.ThreadPoolExecutor() as executor:\n",
    "        futures = []\n",
    "        for item in chunk_companies:\n",
    "            symbol = item.get(\"symbol\", \"\")\n",
    "            futures.append(executor.submit(get_statistics, symbol=symbol))\n",
    "        for future in concurrent.futures.as_completed(futures):\n",
    "            statistics = future.result()\n",
    "            all_statistics.append(statistics)\n",
    "    all_statistics_data_frame = pandas.DataFrame(all_statistics)\n",
    "    all_statistics_data_frame.to_csv(\"./statistics.csv\", index=False, header=True)"
   ]
  }
 ],
 "metadata": {
  "kernelspec": {
   "display_name": "Python 3",
   "language": "python",
   "name": "python3"
  },
  "language_info": {
   "codemirror_mode": {
    "name": "ipython",
    "version": 3
   },
   "file_extension": ".py",
   "mimetype": "text/x-python",
   "name": "python",
   "nbconvert_exporter": "python",
   "pygments_lexer": "ipython3",
   "version": "3.9.6"
  },
  "orig_nbformat": 4
 },
 "nbformat": 4,
 "nbformat_minor": 2
}
