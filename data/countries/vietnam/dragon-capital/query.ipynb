{
 "cells": [
  {
   "cell_type": "code",
   "execution_count": 126,
   "metadata": {},
   "outputs": [],
   "source": [
    "import pandas as pd\n",
    "import requests\n",
    "from tqdm.notebook import tqdm as tqdm_notebook"
   ]
  },
  {
   "cell_type": "code",
   "execution_count": 127,
   "metadata": {},
   "outputs": [],
   "source": [
    "URL = \"https://api.dragoncapital.com.vn/fundfactsheet/top_holdings/getLatestValue.php\""
   ]
  },
  {
   "cell_type": "code",
   "execution_count": 128,
   "metadata": {},
   "outputs": [],
   "source": [
    "codes = [\"DCDE\", \"DCDS\"]"
   ]
  },
  {
   "cell_type": "code",
   "execution_count": 129,
   "metadata": {},
   "outputs": [],
   "source": [
    "def get_history(code: str, dates: list[str]):\n",
    "    history: list[dict] = []\n",
    "    for date_upload in tqdm_notebook(dates):\n",
    "        url: str = f\"{URL}?trade_code={code}&date_upload={date_upload}\"\n",
    "        response: requests.Response = requests.get(url)\n",
    "        data: dict = response.json()\n",
    "        ffs_holding: list[dict] = data.get(\"ffs_holding\", [])\n",
    "        ffs_holding = list(\n",
    "            map(lambda a: {**a, \"code\": code, \"date\": date_upload}, ffs_holding)\n",
    "        )\n",
    "        history: list[dict] = history + ffs_holding\n",
    "    return history"
   ]
  },
  {
   "cell_type": "code",
   "execution_count": 130,
   "metadata": {},
   "outputs": [],
   "source": [
    "def get_product(code: str):\n",
    "    product_url = f\"{URL}?trade_code={code}\"\n",
    "    response = requests.get(product_url)\n",
    "    product: dict = response.json()\n",
    "    available_dates: list[str] = product.get(\"available_dates\", [])\n",
    "    history = get_history(code, available_dates)\n",
    "    return history"
   ]
  },
  {
   "cell_type": "code",
   "execution_count": 133,
   "metadata": {},
   "outputs": [
    {
     "data": {
      "application/vnd.jupyter.widget-view+json": {
       "model_id": "fdc5a1240ef24acdb1592e302f83c3db",
       "version_major": 2,
       "version_minor": 0
      },
      "text/plain": [
       "  0%|          | 0/93 [00:00<?, ?it/s]"
      ]
     },
     "metadata": {},
     "output_type": "display_data"
    },
    {
     "data": {
      "application/vnd.jupyter.widget-view+json": {
       "model_id": "024b5ccda7b1411494262a436b332a7b",
       "version_major": 2,
       "version_minor": 0
      },
      "text/plain": [
       "  0%|          | 0/97 [00:00<?, ?it/s]"
      ]
     },
     "metadata": {},
     "output_type": "display_data"
    }
   ],
   "source": [
    "history = []\n",
    "\n",
    "for code in codes:\n",
    "    history_product = get_product(code)\n",
    "    history = history + history_product\n",
    "\n",
    "history_data_frame = pd.DataFrame(history)\n",
    "history_data_frame = history_data_frame[\n",
    "    [\"code\", \"date\", \"stock\", \"bourse_en\", \"per_nav\"]\n",
    "]\n",
    "history_data_frame = history_data_frame.rename(\n",
    "    columns={\"bourse_en\": \"market\", \"per_nav\": \"percentage\"}\n",
    ")\n",
    "history_data_frame.to_csv(\"./history.csv\", index=False)"
   ]
  }
 ],
 "metadata": {
  "kernelspec": {
   "display_name": "Python 3",
   "language": "python",
   "name": "python3"
  },
  "language_info": {
   "codemirror_mode": {
    "name": "ipython",
    "version": 3
   },
   "file_extension": ".py",
   "mimetype": "text/x-python",
   "name": "python",
   "nbconvert_exporter": "python",
   "pygments_lexer": "ipython3",
   "version": "3.11.6"
  }
 },
 "nbformat": 4,
 "nbformat_minor": 2
}
