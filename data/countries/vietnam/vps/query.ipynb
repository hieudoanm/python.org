{
 "cells": [
  {
   "cell_type": "code",
   "execution_count": 1,
   "metadata": {},
   "outputs": [],
   "source": [
    "from datetime import datetime\n",
    "import json\n",
    "import math\n",
    "import os\n",
    "import pandas as pd\n",
    "import requests\n",
    "import shutil\n",
    "from tqdm.notebook import tqdm"
   ]
  },
  {
   "cell_type": "code",
   "execution_count": 19,
   "metadata": {},
   "outputs": [],
   "source": [
    "url = \"https://histdatafeed.vps.com.vn/industry\"\n",
    "response = requests.get(url)\n",
    "data = response.json()\n",
    "industries = data.get(\"data\", [])\n",
    "industries_data_frame = pd.DataFrame(industries)\n",
    "industries_data_frame.rename(columns={\"IcbName\": \"name\", \"IcbNameEn\": \"english_name\"})\n",
    "industries_data_frame.to_csv(\"./data/industries.csv\", index=False)"
   ]
  },
  {
   "cell_type": "code",
   "execution_count": 20,
   "metadata": {},
   "outputs": [],
   "source": [
    "url = \"https://bgapidatafeed.vps.com.vn/listvn30\"\n",
    "response = requests.get(url)\n",
    "vn30 = response.json()\n",
    "vn30_file = open(\"./vn30.json\", \"w\")\n",
    "vn30_json = json.dumps(vn30, indent=2)\n",
    "vn30_file.write(vn30_json)\n",
    "vn30_file.close()"
   ]
  },
  {
   "cell_type": "code",
   "execution_count": 21,
   "metadata": {},
   "outputs": [],
   "source": [
    "url = \"https://bgapidatafeed.vps.com.vn/getlistallstock\"\n",
    "response = requests.get(url)\n",
    "companies: list[dict] = response.json()\n",
    "companies_data_frame = pd.DataFrame(companies)\n",
    "companies_data_frame.to_csv(\"./data/companies.csv\", index=False)"
   ]
  },
  {
   "cell_type": "code",
   "execution_count": 22,
   "metadata": {},
   "outputs": [
    {
     "data": {
      "text/plain": [
       "1701745708"
      ]
     },
     "execution_count": 22,
     "metadata": {},
     "output_type": "execute_result"
    }
   ],
   "source": [
    "timestamp = math.floor(datetime.now().timestamp())\n",
    "timestamp"
   ]
  },
  {
   "cell_type": "code",
   "execution_count": 23,
   "metadata": {},
   "outputs": [],
   "source": [
    "os.makedirs(\"temp/history\", exist_ok=True)"
   ]
  },
  {
   "cell_type": "code",
   "execution_count": 24,
   "metadata": {},
   "outputs": [],
   "source": [
    "def get_history(symbol: str):\n",
    "    now = math.floor(datetime.now().timestamp())\n",
    "    url = f\"https://histdatafeed.vps.com.vn/tradingview/history?symbol={symbol}&resolution=1D&from=0&to={now}\"\n",
    "    response = requests.get(url)\n",
    "    history_data: dict = response.json()\n",
    "    symbol = history_data.get(\"symbol\", \"\")\n",
    "    timestamp: list[int] = history_data.get(\"t\", [])\n",
    "    open_price: list[float] = history_data.get(\"o\", [])\n",
    "    high: list[float] = history_data.get(\"h\", [])\n",
    "    low: list[float] = history_data.get(\"l\", [])\n",
    "    close: list[float] = history_data.get(\"c\", [])\n",
    "    volumn: list[int] = history_data.get(\"v\", [])\n",
    "    history: list[dict] = []\n",
    "    if len(timestamp) > 0:\n",
    "        for index, timestamp_item in enumerate(timestamp):\n",
    "            date = datetime.fromtimestamp(timestamp).date()\n",
    "            history.append(\n",
    "                {\n",
    "                    \"symbol\": symbol,\n",
    "                    \"date\": date,\n",
    "                    \"timestamp\": timestamp_item,\n",
    "                    \"open\": open_price[index],\n",
    "                    \"high\": high[index],\n",
    "                    \"low\": low[index],\n",
    "                    \"close\": close[index],\n",
    "                    \"volume\": volumn[index],\n",
    "                }\n",
    "            )\n",
    "        history_data_frame = pd.DataFrame(history)\n",
    "        history_data_frame[\"date\"] = pd.to_datetime(history_data_frame[\"date\"])\n",
    "        first: str = symbol[0].lower()\n",
    "        folder_path = f\"./temp/history/{first}\"\n",
    "        file_path = f\"{folder_path}/{symbol}.csv\"\n",
    "        os.makedirs(folder_path, exist_ok=True)\n",
    "        history_data_frame.to_csv(file_path, index=False)"
   ]
  },
  {
   "cell_type": "code",
   "execution_count": 25,
   "metadata": {},
   "outputs": [
    {
     "data": {
      "application/vnd.jupyter.widget-view+json": {
       "model_id": "a7aeba32a65e46a5a588dc36cf192c66",
       "version_major": 2,
       "version_minor": 0
      },
      "text/plain": [
       "  0%|          | 0/30 [00:00<?, ?it/s]"
      ]
     },
     "metadata": {},
     "output_type": "display_data"
    }
   ],
   "source": [
    "for symbol in tqdm(vn30):\n",
    "    get_history(symbol)"
   ]
  },
  {
   "cell_type": "code",
   "execution_count": 26,
   "metadata": {},
   "outputs": [
    {
     "data": {
      "text/plain": [
       "1617"
      ]
     },
     "execution_count": 26,
     "metadata": {},
     "output_type": "execute_result"
    }
   ],
   "source": [
    "list_of_stock = list(filter(lambda c: len(c.get(\"stock_code\")) == 3, companies))\n",
    "len(list_of_stock)"
   ]
  },
  {
   "cell_type": "code",
   "execution_count": 27,
   "metadata": {},
   "outputs": [
    {
     "data": {
      "application/vnd.jupyter.widget-view+json": {
       "model_id": "ace036f06278425e8af31028e0aff65c",
       "version_major": 2,
       "version_minor": 0
      },
      "text/plain": [
       "  0%|          | 0/1617 [00:00<?, ?it/s]"
      ]
     },
     "metadata": {},
     "output_type": "display_data"
    }
   ],
   "source": [
    "list_of_stock.reverse()\n",
    "for stock in tqdm(list_of_stock):\n",
    "    symbol: str = stock.get(\"stock_code\", \"\")\n",
    "    get_history(symbol)"
   ]
  },
  {
   "cell_type": "code",
   "execution_count": null,
   "metadata": {},
   "outputs": [],
   "source": [
    "csv_files = []\n",
    "\n",
    "for root, _, files in os.walk(\"./temp\"):\n",
    "    for file in files:\n",
    "        if file.endswith(\".csv\"):\n",
    "            csv_files.append(os.path.join(root, file))\n",
    "\n",
    "data_frames = []\n",
    "for csv_file in csv_files:\n",
    "    data_frame = pd.read_csv(csv_file)\n",
    "    data_frames.append(data_frame)\n",
    "\n",
    "history_data_frame = pd.concat(data_frames, ignore_index=True)\n",
    "history_data_frame.to_csv(\"./data/history.csv\", index=False)"
   ]
  },
  {
   "cell_type": "code",
   "execution_count": 2,
   "metadata": {},
   "outputs": [],
   "source": [
    "shutil.rmtree(\"./temp\")"
   ]
  }
 ],
 "metadata": {
  "kernelspec": {
   "display_name": "Python 3",
   "language": "python",
   "name": "python3"
  },
  "language_info": {
   "codemirror_mode": {
    "name": "ipython",
    "version": 3
   },
   "file_extension": ".py",
   "mimetype": "text/x-python",
   "name": "python",
   "nbconvert_exporter": "python",
   "pygments_lexer": "ipython3",
   "version": "3.11.6"
  }
 },
 "nbformat": 4,
 "nbformat_minor": 2
}
