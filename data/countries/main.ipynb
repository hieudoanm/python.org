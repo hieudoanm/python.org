{
 "cells": [
  {
   "cell_type": "code",
   "execution_count": 43,
   "metadata": {},
   "outputs": [],
   "source": [
    "import json\n",
    "import requests\n",
    "\n",
    "response = requests.get(\"https://restcountries.com/v3.1/all\")\n",
    "countries = response.json()\n",
    "\n",
    "with open(\"countries.json\", \"w\") as json_file:\n",
    "    json.dump(countries, json_file, indent=2)"
   ]
  },
  {
   "cell_type": "code",
   "execution_count": 44,
   "metadata": {},
   "outputs": [],
   "source": [
    "def flatten_nested_structure(data, parent_key=\"\", sep=\".\"):\n",
    "    items = {}\n",
    "    if isinstance(data, dict):\n",
    "        for k, v in data.items():\n",
    "            new_key = f\"{parent_key}{sep}{k}\" if parent_key else k\n",
    "            items.update(flatten_nested_structure(v, new_key, sep))\n",
    "    elif isinstance(data, list):\n",
    "        if all(not isinstance(i, (dict, list)) for i in data):\n",
    "            # Join list items as strings, preserving emojis\n",
    "            items[parent_key] = \", \".join(str(i) for i in data)\n",
    "        else:\n",
    "            for i, v in enumerate(data):\n",
    "                new_key = f\"{parent_key}{sep}{i}\" if parent_key else str(i)\n",
    "                items.update(flatten_nested_structure(v, new_key, sep))\n",
    "    else:\n",
    "        items[parent_key] = str(data)\n",
    "    return items"
   ]
  },
  {
   "cell_type": "code",
   "execution_count": 45,
   "metadata": {},
   "outputs": [],
   "source": [
    "flat_countries = []\n",
    "\n",
    "for country in countries:\n",
    "    flat_country = flatten_nested_structure(country)\n",
    "    flat_countries.append(flat_country)\n",
    "\n",
    "sorted_countries = sorted(\n",
    "    flat_countries,\n",
    "    key=lambda x: (x.get(\"region\", \"\"), x.get(\"subregion\", \"\"), x.get(\"name.common\", \"\")),\n",
    ")\n",
    "\n",
    "with open(\"flat_countries.json\", \"w\") as json_file:\n",
    "    json.dump(sorted_countries, json_file, indent=2)"
   ]
  },
  {
   "cell_type": "code",
   "execution_count": 46,
   "metadata": {},
   "outputs": [
    {
     "name": "stderr",
     "output_type": "stream",
     "text": [
      "/var/folders/jh/z981c7zj0vz0gmyfc8mhdxdr0000gn/T/ipykernel_6290/3350331896.py:16: SettingWithCopyWarning: \n",
      "A value is trying to be set on a copy of a slice from a DataFrame\n",
      "\n",
      "See the caveats in the documentation: https://pandas.pydata.org/pandas-docs/stable/user_guide/indexing.html#returning-a-view-versus-a-copy\n",
      "  simplified_countries_df.fillna(\"\", inplace=True)\n"
     ]
    }
   ],
   "source": [
    "import pandas as pd\n",
    "\n",
    "countries_df = pd.DataFrame(sorted_countries)\n",
    "simplified_countries_df = countries_df[\n",
    "    [\n",
    "        \"flag\",\n",
    "        \"cca2\",\n",
    "        \"cca3\",\n",
    "        \"region\",\n",
    "        \"subregion\",\n",
    "        \"name.common\",\n",
    "        \"name.official\",\n",
    "        \"capital\",\n",
    "    ]\n",
    "]\n",
    "simplified_countries_df.fillna(\"\", inplace=True)\n",
    "simplified_countries = simplified_countries_df.to_dict(orient=\"records\")\n",
    "with open(\"simplified_countries.json\", \"w\", encoding=\"utf-8\") as f:\n",
    "    json.dump(simplified_countries, f, ensure_ascii=False, indent=2)"
   ]
  }
 ],
 "metadata": {
  "kernelspec": {
   "display_name": "Python 3",
   "language": "python",
   "name": "python3"
  },
  "language_info": {
   "codemirror_mode": {
    "name": "ipython",
    "version": 3
   },
   "file_extension": ".py",
   "mimetype": "text/x-python",
   "name": "python",
   "nbconvert_exporter": "python",
   "pygments_lexer": "ipython3",
   "version": "3.13.3"
  }
 },
 "nbformat": 4,
 "nbformat_minor": 2
}
